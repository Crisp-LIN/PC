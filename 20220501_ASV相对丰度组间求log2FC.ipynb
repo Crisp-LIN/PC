{
 "cells": [
  {
   "cell_type": "markdown",
   "source": [
    "# 仅作数据分析代码记录\n",
    "# 分析时间：20220501\n",
    "# 记录时间：20220501\n",
    "# 项目：ASV相对丰度两两组间求log2FC"
   ],
   "metadata": {
    "collapsed": false,
    "pycharm": {
     "name": "#%% md\n"
    }
   }
  },
  {
   "cell_type": "code",
   "execution_count": null,
   "metadata": {
    "collapsed": true,
    "pycharm": {
     "name": "#%%\n"
    }
   },
   "outputs": [],
   "source": [
    "### 导入模块部分\n",
    "import pandas as pd\n",
    "\n",
    "### 读文件\n",
    "df1 = pd.read_excel(r'D:\\Work\\分析项目\\wxy\\宏基因组与16S丰度计算\\ASV丰度(加测数据)\\ASV_relative_depoint.xlsx'\n",
    "                    , header=0, index_col=0)\n",
    "df1.drop([\"Taxonomy\"], axis=1, inplace=True)\n",
    "df1 = df1.T\n",
    "\n",
    "\"\"\"要处理的数据存在df1里\"\"\"\n",
    "\n",
    "### 把数据分组 分组信息中的组名转换为列表\n",
    "dfGroup = df1.groupby('GroupByTimeDiet')  # 按'GroupByTimeDiet'分组\n",
    "KeyList = list(dfGroup.groups.keys())  # 分组组名转为列表\n",
    "len(KeyList)\n",
    "\n",
    "# 转换数据类型\n",
    "for i in df1.columns:\n",
    "    if i != \"GroupByTimeDiet\":\n",
    "        df1[i] = df1[i].astype(float, errors='raise')\n",
    "\n",
    "# 1.找到相对丰度表中最小的值\n",
    "\"\"\"失败 0值小数点后的位数不一样，没法替换成空值。这样求出来的最小值只能是0\n",
    "\"\"\"\n",
    "# 2.相对丰度表里所有的值都加上这个最小的值（处理0的问题）第一步失败，改为每个值都加0.0001\n",
    "\n",
    "### 删除包含字符串的列\n",
    "df_de = df1.drop([\"GroupByTimeDiet\"], axis=1, inplace=False)\n",
    "\n",
    "### df_de中每个元素加0.0001\n",
    "df_de = df_de.applymap(lambda x: x + 0.0001)\n",
    "\n",
    "### 把df1[\"GroupByTimeDiet\"]插入df_de第一列\n",
    "df_de.insert(0, \"GroupByTimeDiet\", df1[\"GroupByTimeDiet\"])\n",
    "\n",
    "### df1_AddNum = 加完0.0001的dataframe\n",
    "df1_AddNum = df_de\n",
    "\n",
    "# 3.求丰度表每个条目在每个组中的均值 比如ASV0 在ND0组的均值\n",
    "\n",
    "### 对数据分组，按“GroupByTimeDiet”列分组\n",
    "df1_AddNum.groupby(\"GroupByTimeDiet\")\n",
    "\n",
    "### 再获取每一列，计算组内均值\n",
    "SeriesList = []  # 定义一个存series的列表\n",
    "for i in df1_AddNum.columns:\n",
    "    if i != \"GroupByTimeDiet\":\n",
    "        SeriesList.append(df1_AddNum.groupby(\"GroupByTimeDiet\")[i].mean())\n",
    "    else:\n",
    "        print(\"分组列，不计算\")\n",
    "\n",
    "# 4.结果存为新的df\n",
    "pd.concat(SeriesList, axis=1).T"
   ]
  },
  {
   "cell_type": "code",
   "execution_count": null,
   "outputs": [],
   "source": [
    "dfSeriesConcat = pd.concat(SeriesList, axis=1).T\n",
    "dfSeriesConcat"
   ],
   "metadata": {
    "collapsed": false,
    "pycharm": {
     "name": "#%%\n"
    }
   }
  },
  {
   "cell_type": "code",
   "execution_count": null,
   "outputs": [],
   "source": [
    "\n",
    "# 5.用求出来的均值计算组间log2FC 比如log2(ND2的ASV0/ND0的ASV0)\n",
    "\n",
    "import numpy as np\n",
    "\n",
    "# dfSeriesConcat['ND2/ND0']  = dfSeriesConcat.apply(lambda f: log2fc(f['ND2'],f['ND0']), axis=1)\n",
    "counter = len(dfSeriesConcat.columns)\n",
    "i = 0\n",
    "\n",
    "while i < counter:\n",
    "    data1 = dfSeriesConcat[dfSeriesConcat.columns[i]]  # data1 = dfSeriesConcat的一列\n",
    "    p = i + 1\n",
    "    while p < counter:\n",
    "        data2 = dfSeriesConcat[dfSeriesConcat.columns[p]]  # data2 = dfSeriesConcat的一列\n",
    "        ColName = dfSeriesConcat.columns[p] + \"/\" + dfSeriesConcat.columns[i]\n",
    "        dfSeriesConcat[ColName] = np.log2(data2 / data1)\n",
    "        p += 1\n",
    "    i += 1\n",
    "\n",
    "dfSeriesConcat.to_excel(r'D:\\Work\\分析项目\\wxy\\宏基因组与16S丰度计算\\ASV丰度(加测数据)\\ASV_relative_depoint_log2FC.xlsx')\n"
   ],
   "metadata": {
    "collapsed": false,
    "pycharm": {
     "name": "#%%\n"
    }
   }
  }
 ],
 "metadata": {
  "kernelspec": {
   "display_name": "Python 3",
   "language": "python",
   "name": "python3"
  },
  "language_info": {
   "codemirror_mode": {
    "name": "ipython",
    "version": 2
   },
   "file_extension": ".py",
   "mimetype": "text/x-python",
   "name": "python",
   "nbconvert_exporter": "python",
   "pygments_lexer": "ipython2",
   "version": "2.7.6"
  }
 },
 "nbformat": 4,
 "nbformat_minor": 0
}