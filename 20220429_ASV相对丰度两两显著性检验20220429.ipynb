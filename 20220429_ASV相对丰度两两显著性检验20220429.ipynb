{
 "cells": [
  {
   "cell_type": "markdown",
   "source": [
    "# 仅作数据分析代码记录\n",
    "# 分析时间：20220429\n",
    "# 记录时间：20220501\n",
    "# 项目：ASV相对丰度两两组间显著性检验"
   ],
   "metadata": {
    "collapsed": false,
    "pycharm": {
     "name": "#%% md\n"
    }
   }
  },
  {
   "cell_type": "markdown",
   "source": [
    "### 用到的模块"
   ],
   "metadata": {
    "collapsed": false,
    "pycharm": {
     "name": "#%% md\n"
    }
   }
  },
  {
   "cell_type": "code",
   "execution_count": null,
   "outputs": [],
   "source": [
    "# 导入模块\n",
    "import pandas as pd\n",
    "import scipy.stats as ss"
   ],
   "metadata": {
    "collapsed": false,
    "pycharm": {
     "name": "#%%\n"
    }
   }
  },
  {
   "cell_type": "markdown",
   "source": [
    "### 使用的函数：wrstest_c\n",
    "### 检验的方法：秩和检验"
   ],
   "metadata": {
    "collapsed": false,
    "pycharm": {
     "name": "#%% md\n"
    }
   }
  },
  {
   "cell_type": "code",
   "execution_count": null,
   "metadata": {
    "collapsed": true,
    "pycharm": {
     "name": "#%%\n"
    }
   },
   "outputs": [],
   "source": [
    "def wrstest_c(df1, columnsname):\n",
    "    \"\"\"\n",
    "    删去把返回的df存为excel的功能\n",
    "\n",
    "    :param df1: 处理的数据. 数据类型：dataframe\n",
    "    :param columnsname: df中每一列的列名\n",
    "    :return: 返回一个储存显著性检验的组名和检验p值的df\n",
    "\n",
    "    使用这个函数，df1的提供分组信息的列的列名必须为”GroupByTimeDiet“\n",
    "    需要的库：pandas scipy\n",
    "    \"\"\"\n",
    "\n",
    "    dfGroup = df1.groupby('GroupByTimeDiet')  # 按'GroupByTimeDiet'分组\n",
    "    KeyList = list(dfGroup.groups.keys())  # 分组组名转为列表\n",
    "    i = 0\n",
    "    resultWilcoxonRankSumtest = {} # 定义字典 用于储存秩和检验的结果\n",
    "    while i < len(KeyList):\n",
    "        # 遍历的次数 = 分组的个数\n",
    "        data1 = df1[columnsname][df1.GroupByTimeDiet == KeyList[i]] # data1 = df1的\"columnsname\"列中KeyList[i]组的数据\n",
    "        p = i + 1\n",
    "        while p < len(KeyList):\n",
    "            data2 = df1[columnsname][df1.GroupByTimeDiet == KeyList[p]] # data2 = df1的\"columnsname\"列中KeyList[p]组的数据。如果i是1，p就是2 data1和data2就是同一列里KeyList[1]组和KeyList[2]组的数据\n",
    "\n",
    "            rWRStKey = KeyList[i] + \" \" + KeyList[p]  # 设置字典里每个键的名字，KeyList[i]和KeyList[p]这两个组名的组合，以空格分开\n",
    "            WilcoxonRankSumtestPvalue = ss.mannwhitneyu(data1, data2)[1]  # 对data1和data2进行Wilcoxon Rank Sum test ，WilcoxonRankSumtestPvalue储存p值\n",
    "            resultWilcoxonRankSumtest[rWRStKey] = WilcoxonRankSumtestPvalue  # 设置键的值为检验结果的p值\n",
    "            p += 1\n",
    "        i += 1\n",
    "    df = pd.DataFrame([resultWilcoxonRankSumtest]) # 字典转DF\n",
    "    df.index = [columnsname]  # 修改行索引为待处理的表中的列名\n",
    "    return df.T"
   ]
  },
  {
   "cell_type": "markdown",
   "source": [
    "### 执行ASV相对丰度两两组间显著性检验"
   ],
   "metadata": {
    "collapsed": false,
    "pycharm": {
     "name": "#%% md\n"
    }
   }
  },
  {
   "cell_type": "code",
   "execution_count": null,
   "outputs": [],
   "source": [
    "# 读文件\n",
    "df = pd.read_excel(r'D:\\Work\\分析项目\\wxy\\宏基因组与16S丰度计算\\ASV丰度(加测数据)\\ASV_relative_depoint.xlsx'\n",
    "                    , header=0, index_col=0)\n",
    "df.drop([\"Taxonomy\"],axis=1,inplace=True)\n",
    "df1 = df.T\n",
    "\n",
    "# 转换df1中的数据类型 ，object转float\n",
    "for i in df1.columns:\n",
    "    if i != \"GroupByTimeDiet\":\n",
    "        df1[i] = df1[i].astype(float, errors = 'raise')\n",
    "\n",
    "# 定义储存函数返回的df的列表\n",
    "dflist = []\n",
    "\n",
    "# 调用函数\n",
    "for i in df1.columns:\n",
    "    if i != \"GroupByTimeDiet\":\n",
    "        dflist.append(wrstest_c(df1=df1, columnsname=i))\n",
    "    else:\n",
    "        print(\"列名为GroupByTimeDiet\")\n",
    "\n",
    "# 合并df，然后转为excel储存\n",
    "dflistConcat = pd.concat(dflist, axis=1)\n",
    "dflistConcat.to_excel(r'D:\\Work\\分析项目\\wxy\\宏基因组与16S丰度计算\\ASV丰度(加测数据)\\ASV_relative_depoint丰度变化两两显著性检验.xlsx')"
   ],
   "metadata": {
    "collapsed": false,
    "pycharm": {
     "name": "#%%\n"
    }
   }
  }
 ],
 "metadata": {
  "kernelspec": {
   "display_name": "Python 3",
   "language": "python",
   "name": "python3"
  },
  "language_info": {
   "codemirror_mode": {
    "name": "ipython",
    "version": 2
   },
   "file_extension": ".py",
   "mimetype": "text/x-python",
   "name": "python",
   "nbconvert_exporter": "python",
   "pygments_lexer": "ipython2",
   "version": "2.7.6"
  }
 },
 "nbformat": 4,
 "nbformat_minor": 0
}