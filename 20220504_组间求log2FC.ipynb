{
 "cells": [
  {
   "cell_type": "markdown",
   "source": [
    "# 仅作数据分析代码记录\n",
    "# 分析时间：20220504\n",
    "# 记录时间：20220504\n",
    "# 项目：1.cazymes相对丰度、kegg pathway相对丰度两两组间求log2FC\n",
    "#      2.合并lefse与log2FC的结果"
   ],
   "metadata": {
    "collapsed": false,
    "pycharm": {
     "name": "#%% md\n"
    }
   }
  },
  {
   "cell_type": "code",
   "execution_count": 1,
   "outputs": [],
   "source": [
    "import AbunAna\n",
    "import pandas as pd"
   ],
   "metadata": {
    "collapsed": false,
    "pycharm": {
     "name": "#%%\n"
    }
   }
  },
  {
   "cell_type": "markdown",
   "source": [
    "### 计算cazymes相对丰度的log2FC"
   ],
   "metadata": {
    "collapsed": false,
    "pycharm": {
     "name": "#%% md\n"
    }
   }
  },
  {
   "cell_type": "code",
   "execution_count": null,
   "outputs": [],
   "source": [
    "### 读文件\n",
    "df1 = pd.read_excel(r'D:\\Work\\分析项目\\wxy\\宏基因组与16S丰度计算\\cazyme家族丰度\\cazy_abundence_sum0311_relative.xlsx'\n",
    "                    , header=0, index_col=0)\n",
    "\n",
    "df2 = df1.T\n",
    "\n",
    "a = AbunAna.tofloat(df=df2, col=\"GroupByTimeDiet\")\n",
    "b = AbunAna.log2fc_pretreatment(df=a, col=\"GroupByTimeDiet\")\n",
    "b\n",
    "# AbunAna.log2foldchange(b).to_excel(r'D:\\Work\\分析项目\\wxy\\宏基因组与16S丰度计算\\cazyme家族丰度\\cazy_abundence_sum0311_relative_log2FC.xlsx')"
   ],
   "metadata": {
    "collapsed": false,
    "pycharm": {
     "name": "#%%\n"
    }
   }
  },
  {
   "cell_type": "markdown",
   "source": [
    "### 计算kegg pathway相对丰度log2FC"
   ],
   "metadata": {
    "collapsed": false,
    "pycharm": {
     "name": "#%% md\n"
    }
   }
  },
  {
   "cell_type": "code",
   "execution_count": null,
   "outputs": [],
   "source": [
    "df1 = pd.read_excel(r'D:\\Work\\分析项目\\wxy\\宏基因组与16S丰度计算\\KEGG通路与ko号\\pathway_abun_relative.xlsx'\n",
    "                    , header=0, index_col=0)\n",
    "df2 = df1.T\n",
    "\n",
    "a = AbunAna.tofloat(df=df2, col=\"GroupByTimeDiet\")\n",
    "b = AbunAna.log2fc_pretreatment(df=a, col=\"GroupByTimeDiet\")\n",
    "b\n",
    "# AbunAna.log2foldchange(b).to_excel(r'D:\\Work\\分析项目\\wxy\\宏基因组与16S丰度计算\\KEGG通路与ko号\\pathway_abun_relative_log2FC.xlsx')"
   ],
   "metadata": {
    "collapsed": false,
    "pycharm": {
     "name": "#%%\n"
    }
   }
  },
  {
   "cell_type": "markdown",
   "source": [
    "### 合并lefse与log2FC的结果"
   ],
   "metadata": {
    "collapsed": false,
    "pycharm": {
     "name": "#%% md\n"
    }
   }
  },
  {
   "cell_type": "code",
   "execution_count": 20,
   "outputs": [],
   "source": [
    "cazylefse = pd.read_excel(r'D:\\Work\\分析项目\\wxy\\正式结果整理\\16S+宏基因组\\MAG\\lefse\\CAZYMES\\ND7XG7\\LDAscore3.xlsx'\n",
    "                          , header=0, index_col=0)\n",
    "kegglefse = pd.read_excel(r'D:\\Work\\分析项目\\wxy\\正式结果整理\\16S+宏基因组\\MAG\\lefse\\KEGG\\ND7XG7\\LDAscore2.xlsx'\n",
    "                          , header=0, index_col=0)\n",
    "cazylog2fc = pd.read_excel(r'D:\\Work\\分析项目\\wxy\\宏基因组与16S丰度计算\\cazyme家族丰度\\cazy_abundence_sum0311_relative_log2FC.xlsx'\n",
    "                           , header=0, index_col=0)\n",
    "kegglog2fc = pd.read_excel(r'D:\\Work\\分析项目\\wxy\\宏基因组与16S丰度计算\\KEGG通路与ko号\\pathway_abun_relative_log2FC.xlsx'\n",
    "                           , header=0, index_col=0)"
   ],
   "metadata": {
    "collapsed": false,
    "pycharm": {
     "name": "#%%\n"
    }
   }
  },
  {
   "cell_type": "code",
   "execution_count": 16,
   "outputs": [],
   "source": [
    "cazy_lefse_log2fc = pd.merge(cazylefse, cazylog2fc, left_index=True, right_index=True, how='inner')  # 依据索引合并\n",
    "# cazy_lefse_log2fc.to_excel(r'D:\\Work\\分析项目\\wxy\\正式结果整理\\16S+宏基因组\\MAG\\lefse\\CAZYMES\\ND7XG7\\lefse_log2FC.xlsx')"
   ],
   "metadata": {
    "collapsed": false,
    "pycharm": {
     "name": "#%%\n"
    }
   }
  },
  {
   "cell_type": "code",
   "execution_count": 23,
   "outputs": [],
   "source": [
    "kegg_lefse_log2fc = pd.merge(kegglefse, kegglog2fc, left_index=True, right_index=True, how='inner')  # 依据索引合并\n",
    "# kegg_lefse_log2fc.to_excel(r'D:\\Work\\分析项目\\wxy\\正式结果整理\\16S+宏基因组\\MAG\\lefse\\KEGG\\ND7XG7\\lefse_log2FC.xlsx')"
   ],
   "metadata": {
    "collapsed": false,
    "pycharm": {
     "name": "#%%\n"
    }
   }
  },
  {
   "cell_type": "markdown",
   "source": [
    "# 分析时间：20220505\n",
    "# 记录时间：20220505\n",
    "# 项目：1.解决ASV丰度表Tax重复的问题  2.重新计算ASVlog2FC 3. lefse与log2FC的结果求交集（ASV丰度表）"
   ],
   "metadata": {
    "collapsed": false,
    "pycharm": {
     "name": "#%% md\n"
    }
   }
  },
  {
   "cell_type": "code",
   "execution_count": 19,
   "outputs": [],
   "source": [
    "ASVlefse = pd.read_excel(\n",
    "    r'D:\\Work\\分析项目\\wxy\\正式结果整理\\16S+宏基因组\\16S\\文章内容保留\\lefse\\ASV\\相对丰度\\outputfile用于可视化\\20220505XG7ND7\\LDAscore3.xlsx'\n",
    "    , header=0, index_col=0)\n",
    "ASVlog2fc = pd.read_excel(r'D:\\Work\\分析项目\\wxy\\宏基因组与16S丰度计算\\ASV丰度(加测数据)\\ASV_relative_求和去重log2FC.xlsx'\n",
    "                          , header=0, index_col=0)\n",
    "\n",
    "ASV_lefse_log2fc = pd.merge(ASVlefse, ASVlog2fc, left_index=True, right_index=True, how='inner')\n",
    "# ASV_lefse_log2fc.to_excel(r'D:\\Work\\分析项目\\wxy\\宏基因组与16S丰度计算\\ASV丰度(加测数据)\\ASV_relative_求和去重log2FC_lefse.xlsx')"
   ],
   "metadata": {
    "collapsed": false,
    "pycharm": {
     "name": "#%%\n"
    }
   }
  },
  {
   "cell_type": "markdown",
   "source": [
    "### 取差集"
   ],
   "metadata": {
    "collapsed": false,
    "pycharm": {
     "name": "#%% md\n"
    }
   }
  },
  {
   "cell_type": "code",
   "execution_count": null,
   "outputs": [],
   "source": [
    "df_ = ASV_lefse_log2fc.iloc[:, [0, 1, 2]]\n",
    "df_ = pd.concat([df_, ASVlefse], axis=0)\n",
    "df = df_.drop_duplicates(keep=False)\n",
    "df"
   ],
   "metadata": {
    "collapsed": false,
    "pycharm": {
     "name": "#%%\n"
    }
   }
  },
  {
   "cell_type": "markdown",
   "source": [
    "### 解决ASV丰度表Tax重复的问题"
   ],
   "metadata": {
    "collapsed": false,
    "pycharm": {
     "name": "#%% md\n"
    }
   }
  },
  {
   "cell_type": "code",
   "execution_count": null,
   "outputs": [],
   "source": [
    "# 1. 删除ASV\n",
    "# 2. 以Tax列分组求和\n",
    "\n",
    "ASV = pd.read_excel(\n",
    "    r'D:\\Work\\分析项目\\wxy\\正式结果整理\\16S+宏基因组\\16S\\文章内容保留\\lefse\\ASV\\相对丰度\\outputfile用于可视化\\20220505XG7ND7\\ASV_relative.xlsx'\n",
    "    , header=0, index_col=False)\n",
    "ASV_SUM = ASV.groupby(['Tax/Sample']).agg('sum')  # 分组求和"
   ],
   "metadata": {
    "collapsed": false,
    "pycharm": {
     "name": "#%%\n"
    }
   }
  },
  {
   "cell_type": "code",
   "execution_count": null,
   "outputs": [],
   "source": [
    "ASV_SUM\n",
    "#ASV_SUM.to_excel(r'D:\\Work\\分析项目\\wxy\\正式结果整理\\16S+宏基因组\\16S\\文章内容保留\\lefse\\ASV\\相对丰度\\outputfile用于可视化\\20220505XG7ND7\\ASV_relative_Deduplication.xlsx')"
   ],
   "metadata": {
    "collapsed": false,
    "pycharm": {
     "name": "#%%\n"
    }
   }
  },
  {
   "cell_type": "markdown",
   "source": [
    "### 重新计算ASVlog2FC"
   ],
   "metadata": {
    "collapsed": false,
    "pycharm": {
     "name": "#%% md\n"
    }
   }
  },
  {
   "cell_type": "code",
   "execution_count": null,
   "outputs": [],
   "source": [
    "dfASV = pd.read_excel(r'D:\\Work\\分析项目\\wxy\\宏基因组与16S丰度计算\\ASV丰度(加测数据)\\ASV_relative_求和去重.xlsx'\n",
    "                      , header=0, index_col=0).T\n",
    "\n",
    "a = AbunAna.tofloat(df=dfASV, col=\"GroupByTimeDiet\")\n",
    "\n",
    "b = AbunAna.log2fc_pretreatment(df=a, col=\"GroupByTimeDiet\")\n",
    "\n",
    "# AbunAna.log2foldchange(b).to_excel(r'D:\\Work\\分析项目\\wxy\\宏基因组与16S丰度计算\\ASV丰度(加测数据)\\ASV_relative_求和去重log2FC.xlsx')"
   ],
   "metadata": {
    "collapsed": false,
    "pycharm": {
     "name": "#%%\n",
     "is_executing": true
    }
   }
  },
  {
   "cell_type": "markdown",
   "source": [
    "### lefse与log2FC的结果求交集"
   ],
   "metadata": {
    "collapsed": false,
    "pycharm": {
     "name": "#%% md\n"
    }
   }
  },
  {
   "cell_type": "code",
   "execution_count": null,
   "outputs": [],
   "source": [
    "ASVlefse = pd.read_excel(\n",
    "    r'D:\\Work\\分析项目\\wxy\\正式结果整理\\16S+宏基因组\\16S\\文章内容保留\\lefse\\ASV\\相对丰度\\outputfile用于可视化\\20220505XG7ND7\\LDAscore3.xlsx'\n",
    "    , header=0, index_col=0)\n",
    "ASVlog2fc = pd.read_excel(r'D:\\Work\\分析项目\\wxy\\宏基因组与16S丰度计算\\ASV丰度(加测数据)\\ASV_relative_求和去重log2FC.xlsx'\n",
    "                          , header=0, index_col=0)\n",
    "\n",
    "ASV_lefse_log2fc = pd.merge(ASVlefse, ASVlog2fc, left_index=True, right_index=True, how='inner')\n",
    "# ASV_lefse_log2fc.to_excel(r'D:\\Work\\分析项目\\wxy\\宏基因组与16S丰度计算\\ASV丰度(加测数据)\\ASV_relative_求和去重log2FC_lefse.xlsx')"
   ],
   "metadata": {
    "collapsed": false,
    "pycharm": {
     "name": "#%%\n"
    }
   }
  }
 ],
 "metadata": {
  "kernelspec": {
   "display_name": "Python 3",
   "language": "python",
   "name": "python3"
  },
  "language_info": {
   "codemirror_mode": {
    "name": "ipython",
    "version": 2
   },
   "file_extension": ".py",
   "mimetype": "text/x-python",
   "name": "python",
   "nbconvert_exporter": "python",
   "pygments_lexer": "ipython2",
   "version": "2.7.6"
  }
 },
 "nbformat": 4,
 "nbformat_minor": 0
}