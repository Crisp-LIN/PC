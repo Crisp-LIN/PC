{
 "cells": [
  {
   "cell_type": "markdown",
   "source": [
    "### 由绝对丰度表计算相对丰度"
   ],
   "metadata": {
    "collapsed": false,
    "pycharm": {
     "name": "#%% md\n"
    }
   }
  },
  {
   "cell_type": "code",
   "execution_count": 9,
   "outputs": [],
   "source": [
    "import pandas as pd"
   ],
   "metadata": {
    "collapsed": false,
    "pycharm": {
     "name": "#%%\n"
    }
   }
  },
  {
   "cell_type": "code",
   "execution_count": 10,
   "outputs": [],
   "source": [
    "def relative_abun(df,col):\n",
    "    \"\"\"\n",
    "    计算每个条目在每个样本中的相对丰度\n",
    "\n",
    "    :param df: dtype:dataframe；传入的df，列必须是样本\n",
    "    :param col: 不计算相对丰度的列的列名 dtype:str\n",
    "    :return: 返回结果df dtype:dataframe\n",
    "\n",
    "    \"\"\"\n",
    "    for i in df.columns:\n",
    "        if i != col:\n",
    "            colsum = df[i].sum()\n",
    "            df[i] = df[i].apply(lambda x: x/colsum)\n",
    "    return df"
   ],
   "metadata": {
    "collapsed": false,
    "pycharm": {
     "name": "#%%\n"
    }
   }
  },
  {
   "cell_type": "code",
   "execution_count": 11,
   "outputs": [],
   "source": [
    "def tofloat(df,col=\"GroupByTimeDiet\"):\n",
    "    \"\"\"\n",
    "    用于把df里数值的数据类型转为 \"float\"，只支持有一个列的元素包含非数值的文本\n",
    "\n",
    "    :param df: 需要转换数据类型的数据表。除行列索引外和一个分组列外，所有的元素都必须是数值。\n",
    "    :param col: 分组列的列名, dtype:str\n",
    "    :return: 转换后的df\n",
    "    \"\"\"\n",
    "    for i in df.columns:\n",
    "        if i != col:\n",
    "            df[i] = df[i].astype(float, errors = 'raise')\n",
    "    return df"
   ],
   "metadata": {
    "collapsed": false,
    "pycharm": {
     "name": "#%%\n"
    }
   }
  },
  {
   "cell_type": "code",
   "execution_count": null,
   "outputs": [],
   "source": [
    "df2 = pd.read_excel(r'D:\\Work\\分析项目\\wxy\\宏基因组与16S丰度计算\\KEGG通路与ko号\\daixietonglu_abun_meiyouchuliguo.xlsx'\n",
    "                    , header=0, index_col=0)\n",
    "df2"
   ],
   "metadata": {
    "collapsed": false,
    "pycharm": {
     "name": "#%%\n",
     "is_executing": true
    }
   }
  },
  {
   "cell_type": "code",
   "execution_count": 16,
   "outputs": [],
   "source": [
    "tofloat(df2,'')\n",
    "relative_abun(df2,'').to_excel(r'D:\\Work\\分析项目\\wxy\\宏基因组与16S丰度计算\\KEGG通路与ko号\\daixietonglu_abun_relative.xlsx')"
   ],
   "metadata": {
    "collapsed": false,
    "pycharm": {
     "name": "#%%\n"
    }
   }
  }
 ],
 "metadata": {
  "kernelspec": {
   "display_name": "Python 3",
   "language": "python",
   "name": "python3"
  },
  "language_info": {
   "codemirror_mode": {
    "name": "ipython",
    "version": 2
   },
   "file_extension": ".py",
   "mimetype": "text/x-python",
   "name": "python",
   "nbconvert_exporter": "python",
   "pygments_lexer": "ipython2",
   "version": "2.7.6"
  }
 },
 "nbformat": 4,
 "nbformat_minor": 0
}