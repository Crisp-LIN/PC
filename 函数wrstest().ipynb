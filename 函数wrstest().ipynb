{
 "cells": [
  {
   "cell_type": "markdown",
   "source": [
    "## 单独测试函数 wrstest()"
   ],
   "metadata": {
    "collapsed": false,
    "pycharm": {
     "name": "#%% md\n"
    }
   }
  },
  {
   "cell_type": "code",
   "execution_count": null,
   "outputs": [],
   "source": [
    "### 导入模块部分\n",
    "import pandas as pd\n",
    "import scipy.stats as ss\n",
    "\n",
    "### 读文件\n",
    "df1 = pd.read_excel(r'D:\\Work\\分析项目\\wxy\\正式结果整理\\16S+宏基因组\\16S\\文章内容保留\\alpha_diversity_删点后.xlsx'\n",
    "                    , header=0, index_col=0)\n",
    "df1.columns"
   ],
   "metadata": {
    "collapsed": false,
    "pycharm": {
     "name": "#%%\n",
     "is_executing": true
    }
   }
  },
  {
   "cell_type": "code",
   "execution_count": null,
   "outputs": [],
   "source": [
    "### 把数据分组 分组信息中的组名转换为列表\n",
    "dfGroup = df1.groupby('GroupByTimeDiet')  # 按'GroupByTimeDiet'分组\n",
    "KeyList = list(dfGroup.groups.keys())  # 分组组名转为列表\n",
    "len(KeyList)\n",
    "data1 = df1.chao1[df1.GroupByTimeDiet == KeyList[1]]\n",
    "data1"
   ],
   "metadata": {
    "collapsed": false,
    "pycharm": {
     "name": "#%%\n",
     "is_executing": true
    }
   }
  },
  {
   "cell_type": "code",
   "execution_count": null,
   "outputs": [],
   "source": [
    "\n",
    "### 函数 wrstest() 的单独测试\n",
    "i = 0\n",
    "resultWilcoxonRankSumtest = {}\n",
    "while i < len(KeyList):\n",
    "    data1 = df1.chao1[df1.GroupByTimeDiet == KeyList[i]]\n",
    "    print(data1)\n",
    "    p = i + 1\n",
    "    while p < len(KeyList):\n",
    "        data2 = df1.chao1[df1.GroupByTimeDiet == KeyList[p]]\n",
    "        print(KeyList[i], KeyList[p])\n",
    "        data2 = df1.chao1[df1.GroupByTimeDiet == KeyList[p]]\n",
    "        print(ss.mannwhitneyu(data1, data2)[1])\n",
    "        rWRStKey = KeyList[i] + \" \" + KeyList[p]\n",
    "        WilcoxonRankSumtestPvalue = ss.mannwhitneyu(data1, data2)[\n",
    "            1]  # 进行Wilcoxon Rank Sum test ，WilcoxonRankSumtestPvalue储存p值\n",
    "        resultWilcoxonRankSumtest[rWRStKey] = WilcoxonRankSumtestPvalue  # 检验的p值和检验的组存为字典\n",
    "        p += 1\n",
    "    i += 1\n",
    "print(resultWilcoxonRankSumtest)"
   ],
   "metadata": {
    "collapsed": false,
    "pycharm": {
     "name": "#%%\n",
     "is_executing": true
    }
   }
  },
  {
   "cell_type": "markdown",
   "source": [],
   "metadata": {
    "collapsed": false,
    "pycharm": {
     "name": "#%% md\n"
    }
   }
  },
  {
   "cell_type": "markdown",
   "source": [
    "## 函数wrstest()\n",
    "## 注意检查返回值的df，是否需要转置再进入下一步"
   ],
   "metadata": {
    "collapsed": false,
    "pycharm": {
     "name": "#%% md\n"
    }
   }
  },
  {
   "cell_type": "code",
   "execution_count": 76,
   "outputs": [],
   "source": [
    "def wrstest(df1, columnsname):\n",
    "    \"\"\"\n",
    "\n",
    "    :param df1: 用于画箱线图的数据；数据类型：dataframe\n",
    "    :param columnsname: df中每一列的列名\n",
    "    :return: 返回一个储存显著性检验的组名和检验p值的df\n",
    "\n",
    "    使用这个函数，df1的提供分组信息的列的列名必须为”GroupByTimeDiet“\n",
    "    需要的库：pandas scipy\n",
    "    \"\"\"\n",
    "\n",
    "    dfGroup = df1.groupby('GroupByTimeDiet')  # 按'GroupByTimeDiet'分组\n",
    "    KeyList = list(dfGroup.groups.keys())  # 分组组名转为列表\n",
    "    i = 0\n",
    "    resultWilcoxonRankSumtest = {} # 定义字典 用于储存秩和检验的结果\n",
    "    while i < len(KeyList):\n",
    "        # 遍历的次数 = 分组的个数\n",
    "        data1 = df1[columnsname][df1.GroupByTimeDiet == KeyList[i]] # data1 = df1的\"columnsname\"列中KeyList[i]组的数据\n",
    "        p = i + 1\n",
    "        while p < len(KeyList):\n",
    "            data2 = df1[columnsname][df1.GroupByTimeDiet == KeyList[p]] # data2 = df1的\"columnsname\"列中KeyList[p]组的数据。如果i是1，p就是2 data1和data2就是同一列里KeyList[1]组和KeyList[2]组的数据\n",
    "\n",
    "            rWRStKey = KeyList[i] + \" \" + KeyList[p]  # 设置字典里每个键的名字，KeyList[i]和KeyList[p]这两个组名的组合，以空格分开\n",
    "            WilcoxonRankSumtestPvalue = ss.mannwhitneyu(data1, data2)[1]  # 对data1和data2进行Wilcoxon Rank Sum test ，WilcoxonRankSumtestPvalue储存p值\n",
    "            resultWilcoxonRankSumtest[rWRStKey] = WilcoxonRankSumtestPvalue  # 设置键的值为检验结果的p值\n",
    "            p += 1\n",
    "        i += 1\n",
    "    df = pd.DataFrame([resultWilcoxonRankSumtest]) # 字典转DF\n",
    "    df.index = [columnsname]  # 修改行索引为待处理的表中的列名\n",
    "    # df.T.to_excel(file_path + columnsname + \".xlsx\")\n",
    "    return df"
   ],
   "metadata": {
    "collapsed": false,
    "pycharm": {
     "name": "#%%\n"
    }
   }
  },
  {
   "cell_type": "markdown",
   "source": [
    "### 调用两两显著性检验的函数处理α多样性指标表的示例"
   ],
   "metadata": {
    "collapsed": false,
    "pycharm": {
     "name": "#%% md\n"
    }
   }
  },
  {
   "cell_type": "code",
   "execution_count": null,
   "outputs": [],
   "source": [
    "import pandas as pd\n",
    "import scipy.stats as ss\n",
    "\n",
    "### 读文件\n",
    "df1 = pd.read_excel(r'D:\\Work\\分析项目\\wxy\\正式结果整理\\16S+宏基因组\\16S\\文章内容保留\\alpha_diversity_删点后.xlsx'\n",
    "                    , header=0, index_col=0)\n",
    "df1"
   ],
   "metadata": {
    "collapsed": false,
    "pycharm": {
     "name": "#%%\n",
     "is_executing": true
    }
   }
  },
  {
   "cell_type": "code",
   "execution_count": null,
   "outputs": [],
   "source": [
    "# 调用函数\n",
    "for i in df1.columns:\n",
    "    if i != \"GroupByTimeDiet\":\n",
    "        wrstest(df1=df1, columnsname=i)\n",
    "    else:\n",
    "        print(\"列名为GroupByTimeDiet\")\n"
   ],
   "metadata": {
    "collapsed": false,
    "pycharm": {
     "name": "#%%\n"
    }
   }
  }
 ],
 "metadata": {
  "kernelspec": {
   "display_name": "Python 3",
   "language": "python",
   "name": "python3"
  },
  "language_info": {
   "codemirror_mode": {
    "name": "ipython",
    "version": 2
   },
   "file_extension": ".py",
   "mimetype": "text/x-python",
   "name": "python",
   "nbconvert_exporter": "python",
   "pygments_lexer": "ipython2",
   "version": "2.7.6"
  }
 },
 "nbformat": 4,
 "nbformat_minor": 0
}