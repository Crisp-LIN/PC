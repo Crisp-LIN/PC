{
 "cells": [
  {
   "cell_type": "markdown",
   "source": [
    "# 分析时间：20220512\n",
    "# 记录时间：20220512\n",
    "# 项目：1.重新计算ASV_g log2FC; 2. lefse与log2FC的结果求交集（ASV_g、CAZY、KEGG）"
   ],
   "metadata": {
    "collapsed": false,
    "pycharm": {
     "name": "#%% md\n"
    }
   }
  },
  {
   "cell_type": "code",
   "execution_count": 2,
   "metadata": {
    "collapsed": true,
    "pycharm": {
     "name": "#%%\n"
    }
   },
   "outputs": [],
   "source": [
    "import AbunAna\n",
    "import pandas as pd"
   ]
  },
  {
   "cell_type": "code",
   "execution_count": 13,
   "outputs": [],
   "source": [
    "dfASV = pd.read_excel(r'D:\\Work\\分析项目\\wxy\\正式结果整理\\16S+宏基因组\\丰度分析\\AbunFoldChange\\ASV\\ASV_relative_ND027XG27_n6_g_AbunFC_input.xlsx'\n",
    "                          , header=0, index_col=0).T\n",
    "\n",
    "a = AbunAna.tofloat(df=dfASV, col=\"GroupByTimeDiet\")\n",
    "b = AbunAna.log2fc_pretreatment(df=a, col=\"GroupByTimeDiet\")\n",
    "AbunAna.log2foldchange(b).to_excel(r'D:\\Work\\分析项目\\wxy\\正式结果整理\\16S+宏基因组\\丰度分析\\AbunFoldChange\\ASV\\ASV_relative_ND027XG27_n6_g_AbunFC_output.xlsx')"
   ],
   "metadata": {
    "collapsed": false,
    "pycharm": {
     "name": "#%%\n"
    }
   }
  },
  {
   "cell_type": "markdown",
   "source": [
    "### 与lefse生物标志物取交集"
   ],
   "metadata": {
    "collapsed": false,
    "pycharm": {
     "name": "#%% md\n"
    }
   }
  },
  {
   "cell_type": "code",
   "execution_count": 26,
   "outputs": [],
   "source": [
    "ASVlefse = pd.read_excel(r'D:\\Work\\分析项目\\wxy\\正式结果整理\\16S+宏基因组\\丰度分析\\lefse分析\\ASV_relative_abun\\20220511\\XG7ND7_XG2ND2_n6_lefse_合并.xlsx'\n",
    "                          , header=0, index_col=0)\n",
    "ASVlog2fc = pd.read_excel(r'D:\\Work\\分析项目\\wxy\\正式结果整理\\16S+宏基因组\\丰度分析\\AbunFoldChange\\ASV\\ASV_relative_ND027XG27_n6_g_AbunFC_output.xlsx'\n",
    "                          , header=0, index_col=0)\n",
    "ASV_lefse_log2fc = pd.merge(ASVlefse, ASVlog2fc, left_index=True, right_index=True, how='inner')\n",
    "# ASV_lefse_log2fc.to_excel(r'D:\\Work\\分析项目\\wxy\\正式结果整理\\16S+宏基因组\\丰度分析\\AbunFoldChange\\ASV\\ASV_relative_ND027XG27_n6_g_log2FC_lefse.xlsx')"
   ],
   "metadata": {
    "collapsed": false,
    "pycharm": {
     "name": "#%%\n"
    }
   }
  },
  {
   "cell_type": "code",
   "execution_count": null,
   "outputs": [],
   "source": [
    "cazylefse = pd.read_excel(r'D:\\Work\\分析项目\\wxy\\正式结果整理\\16S+宏基因组\\丰度分析\\lefse分析\\CAZYMES_relative_abun\\cazymes_ND2XG2_ND7XG7_lefseBM.xlsx'\n",
    "                          , header=0, index_col=0)\n",
    "cazylefse"
   ],
   "metadata": {
    "collapsed": false,
    "pycharm": {
     "name": "#%%\n",
     "is_executing": true
    }
   }
  },
  {
   "cell_type": "code",
   "execution_count": null,
   "outputs": [],
   "source": [
    "kegglefse = pd.read_excel(r'D:\\Work\\分析项目\\wxy\\正式结果整理\\16S+宏基因组\\丰度分析\\lefse分析\\KEGG_relative_abun\\KEGGPathway_ND2XG2_ND7XG7_lefseBM.xlsx'\n",
    "                          , header=0, index_col=0)\n",
    "kegglefse"
   ],
   "metadata": {
    "collapsed": false,
    "pycharm": {
     "name": "#%%\n",
     "is_executing": true
    }
   }
  },
  {
   "cell_type": "code",
   "execution_count": null,
   "outputs": [],
   "source": [
    "cazylog2fc = pd.read_excel(r'D:\\Work\\分析项目\\wxy\\正式结果整理\\16S+宏基因组\\丰度分析\\AbunFoldChange\\cazymes\\cazy_relative_ND027XG27_n3_log2FC.xlsx'\n",
    "                           , header=0, index_col=0)\n",
    "cazylog2fc"
   ],
   "metadata": {
    "collapsed": false,
    "pycharm": {
     "name": "#%%\n",
     "is_executing": true
    }
   }
  },
  {
   "cell_type": "code",
   "execution_count": null,
   "outputs": [],
   "source": [
    "kegglog2fc = pd.read_excel(r'D:\\Work\\分析项目\\wxy\\正式结果整理\\16S+宏基因组\\丰度分析\\AbunFoldChange\\KEGGPathway\\KEGGpathway_relative_ND027XG27_n3_log2FC.xlsx'\n",
    "                           , header=0, index_col=0)\n",
    "kegglog2fc"
   ],
   "metadata": {
    "collapsed": false,
    "pycharm": {
     "name": "#%%\n",
     "is_executing": true
    }
   }
  },
  {
   "cell_type": "code",
   "execution_count": 7,
   "outputs": [],
   "source": [
    "cazy_lefse_log2fc = pd.merge(cazylefse, cazylog2fc, left_index=True, right_index=True, how='inner')  # 依据索引合并\n",
    "\n",
    "# cazy_lefse_log2fc.to_excel(r'D:\\Work\\分析项目\\wxy\\正式结果整理\\16S+宏基因组\\丰度分析\\AbunFoldChange\\cazymes\\cazy_relative_ND027XG27_n6_g_log2FC_lefse.xlsx')"
   ],
   "metadata": {
    "collapsed": false,
    "pycharm": {
     "name": "#%%\n"
    }
   }
  },
  {
   "cell_type": "code",
   "execution_count": 8,
   "outputs": [],
   "source": [
    "kegg_lefse_log2fc = pd.merge(kegglefse, kegglog2fc, left_index=True, right_index=True, how='inner')  # 依据索引合并\n",
    "# kegg_lefse_log2fc.to_excel(r'D:\\Work\\分析项目\\wxy\\正式结果整理\\16S+宏基因组\\丰度分析\\AbunFoldChange\\KEGGPathway\\KEGGPathway_relative_ND027XG27_n6_g_log2FC_lefse.xlsx')"
   ],
   "metadata": {
    "collapsed": false,
    "pycharm": {
     "name": "#%%\n"
    }
   }
  },
  {
   "cell_type": "code",
   "execution_count": null,
   "outputs": [],
   "source": [],
   "metadata": {
    "collapsed": false,
    "pycharm": {
     "name": "#%%\n"
    }
   }
  }
 ],
 "metadata": {
  "kernelspec": {
   "display_name": "Python 3",
   "language": "python",
   "name": "python3"
  },
  "language_info": {
   "codemirror_mode": {
    "name": "ipython",
    "version": 2
   },
   "file_extension": ".py",
   "mimetype": "text/x-python",
   "name": "python",
   "nbconvert_exporter": "python",
   "pygments_lexer": "ipython2",
   "version": "2.7.6"
  }
 },
 "nbformat": 4,
 "nbformat_minor": 0
}