{
 "cells": [
  {
   "cell_type": "markdown",
   "source": [
    "## 初识Python，输出"
   ],
   "metadata": {
    "collapsed": false,
    "pycharm": {
     "name": "#%% md\n"
    }
   }
  },
  {
   "cell_type": "code",
   "execution_count": null,
   "outputs": [],
   "source": [
    "print('hello world')"
   ],
   "metadata": {
    "collapsed": false,
    "pycharm": {
     "name": "#%%\n",
     "is_executing": true
    }
   }
  },
  {
   "cell_type": "code",
   "execution_count": null,
   "outputs": [],
   "source": [
    "print('Thequickbrownfox', 'jumpsover', 'thelazydog')"
   ],
   "metadata": {
    "collapsed": false,
    "pycharm": {
     "name": "#%%\n",
     "is_executing": true
    }
   }
  },
  {
   "cell_type": "code",
   "execution_count": 17,
   "outputs": [
    {
     "name": "stdout",
     "output_type": "stream",
     "text": [
      "3.0\n"
     ]
    }
   ],
   "source": [
    "print(300/100)"
   ],
   "metadata": {
    "collapsed": false,
    "pycharm": {
     "name": "#%%\n"
    }
   }
  },
  {
   "cell_type": "markdown",
   "source": [
    "# 语言元素"
   ],
   "metadata": {
    "collapsed": false,
    "pycharm": {
     "name": "#%% md\n"
    }
   }
  },
  {
   "cell_type": "markdown",
   "source": [
    "### 定义变量保存数据，进行运算"
   ],
   "metadata": {
    "collapsed": false,
    "pycharm": {
     "name": "#%% md\n"
    }
   }
  },
  {
   "cell_type": "code",
   "execution_count": 11,
   "outputs": [
    {
     "name": "stdout",
     "output_type": "stream",
     "text": [
      "123\n",
      "321\n",
      "444\n"
     ]
    }
   ],
   "source": [
    "a = 123\n",
    "A = 321\n",
    "print(a)\n",
    "print(A)\n",
    "print(a+A)"
   ],
   "metadata": {
    "collapsed": false,
    "pycharm": {
     "name": "#%%\n"
    }
   }
  },
  {
   "cell_type": "markdown",
   "source": [
    "### type()函数查看变量的数据类型"
   ],
   "metadata": {
    "collapsed": false,
    "pycharm": {
     "name": "#%% md\n"
    }
   }
  },
  {
   "cell_type": "code",
   "execution_count": 24,
   "outputs": [
    {
     "name": "stdout",
     "output_type": "stream",
     "text": [
      "<class 'int'>\n",
      "<class 'float'>\n",
      "<class 'str'>\n",
      "<class 'int'> <class 'float'>\n"
     ]
    },
    {
     "data": {
      "text/plain": "int"
     },
     "execution_count": 24,
     "metadata": {},
     "output_type": "execute_result"
    }
   ],
   "source": [
    "b = 123\n",
    "c = 123.123\n",
    "d = '      123qwklejaslasasd'\n",
    "print(type(b))\n",
    "print(type(c))\n",
    "print(type(d))\n",
    "\n",
    "print(type(b),type(c))\n",
    "type(b)\n"
   ],
   "metadata": {
    "collapsed": false,
    "pycharm": {
     "name": "#%%\n"
    }
   }
  },
  {
   "cell_type": "markdown",
   "source": [
    "### 转换数据类型"
   ],
   "metadata": {
    "collapsed": false,
    "pycharm": {
     "name": "#%% md\n"
    }
   }
  },
  {
   "cell_type": "code",
   "execution_count": 39,
   "outputs": [
    {
     "name": "stdout",
     "output_type": "stream",
     "text": [
      "<class 'int'>\n",
      "<class 'str'>\n"
     ]
    }
   ],
   "source": [
    "int(123.6)  # 浮点数转整型\n",
    "int(123.9) # 浮点数转整型\n",
    "int(\"23\") # 字符串转整型\n",
    "int(\"213.3\") # 报错\n",
    "float(\"123\")\n",
    "float(\"123.3\") # 可以带小数点\n",
    "str(123)\n",
    "a = 123 # int\n",
    "A = 321\n",
    "print(type(a))\n",
    "a = str(a)\n",
    "print(type(a))"
   ],
   "metadata": {
    "collapsed": false,
    "pycharm": {
     "name": "#%%\n"
    }
   }
  },
  {
   "cell_type": "code",
   "execution_count": 40,
   "outputs": [
    {
     "data": {
      "text/plain": "23"
     },
     "execution_count": 40,
     "metadata": {},
     "output_type": "execute_result"
    }
   ],
   "source": [
    "print(int(123.6))  # 浮点数转整型\n",
    "print(int(123.9)) # 浮点数转整型\n",
    "print(int(\"23\")) # 字符串转整型"
   ],
   "metadata": {
    "collapsed": false,
    "pycharm": {
     "name": "#%%\n"
    }
   }
  },
  {
   "cell_type": "markdown",
   "source": [
    "### 定义变量，输入数值，运算，用占位符进行字符串的格式化的输出"
   ],
   "metadata": {
    "collapsed": false,
    "pycharm": {
     "name": "#%% md\n"
    }
   }
  },
  {
   "cell_type": "code",
   "execution_count": 17,
   "outputs": [],
   "source": [
    "v = int(input(\" a = \"))\n",
    "n = int(input(\" b = \"))"
   ],
   "metadata": {
    "collapsed": false,
    "pycharm": {
     "name": "#%%\n"
    }
   }
  },
  {
   "cell_type": "code",
   "execution_count": null,
   "outputs": [],
   "source": [
    "print(v)\n",
    "print(n)\n",
    "print(v+n)"
   ],
   "metadata": {
    "collapsed": false,
    "pycharm": {
     "name": "#%%\n",
     "is_executing": true
    }
   }
  },
  {
   "cell_type": "code",
   "execution_count": null,
   "outputs": [],
   "source": [
    "print(\"v + n = \")"
   ],
   "metadata": {
    "collapsed": false,
    "pycharm": {
     "name": "#%%\n"
    }
   }
  },
  {
   "cell_type": "code",
   "execution_count": 21,
   "outputs": [
    {
     "name": "stdout",
     "output_type": "stream",
     "text": [
      "123 + 321 = 444\n"
     ]
    }
   ],
   "source": [
    "print('%d + %d = %d' % (v, n, v + n))"
   ],
   "metadata": {
    "collapsed": false,
    "pycharm": {
     "name": "#%%\n"
    }
   }
  },
  {
   "cell_type": "code",
   "execution_count": null,
   "outputs": [],
   "source": [
    "m = input()\n",
    "print(m)"
   ],
   "metadata": {
    "collapsed": false,
    "pycharm": {
     "name": "#%%\n",
     "is_executing": true
    }
   }
  },
  {
   "cell_type": "code",
   "execution_count": 29,
   "outputs": [
    {
     "name": "stdout",
     "output_type": "stream",
     "text": [
      "120\n"
     ]
    }
   ],
   "source": [
    "a = 10\n",
    "b = 3\n",
    "# a += b        # 相当于：a = a + b\n",
    "a *= a + 2    # 相当于：a = a * (a + 2)\n",
    "print(a)"
   ],
   "metadata": {
    "collapsed": false,
    "pycharm": {
     "name": "#%%\n"
    }
   }
  },
  {
   "cell_type": "markdown",
   "source": [
    "### 逻辑运算符"
   ],
   "metadata": {
    "collapsed": false,
    "pycharm": {
     "name": "#%% md\n"
    }
   }
  },
  {
   "cell_type": "code",
   "execution_count": 18,
   "outputs": [
    {
     "name": "stdout",
     "output_type": "stream",
     "text": [
      "flag0: True\n",
      "flag1: True\n",
      "flag2: False\n"
     ]
    }
   ],
   "source": [
    "flag0 = 1 == 1\n",
    "flag1 = 3 > 2\n",
    "flag2 = 2 < 1\n",
    "print(\"flag0:\",flag0)\n",
    "print(\"flag1:\",flag1)\n",
    "print(\"flag2:\",flag2)"
   ],
   "metadata": {
    "collapsed": false,
    "pycharm": {
     "name": "#%%\n"
    }
   }
  },
  {
   "cell_type": "code",
   "execution_count": 20,
   "outputs": [
    {
     "name": "stdout",
     "output_type": "stream",
     "text": [
      "flg3: False\tflg4: True\n",
      "flg5: False\n"
     ]
    }
   ],
   "source": [
    "flag3 = flag1 and flag2\n",
    "flag4 = flag1 or flag2\n",
    "print(\"flg3:\",flag3,end='\\t')\n",
    "print(\"flg4:\",flag4)\n",
    "flag5 = not (1 != 2)\n",
    "print(\"flg5:\",flag5)"
   ],
   "metadata": {
    "collapsed": false,
    "pycharm": {
     "name": "#%%\n"
    }
   }
  },
  {
   "cell_type": "markdown",
   "source": [
    "## 20220607 分支结构"
   ],
   "metadata": {
    "collapsed": false,
    "pycharm": {
     "name": "#%% md\n"
    }
   }
  },
  {
   "cell_type": "markdown",
   "source": [
    "## if else条件判断"
   ],
   "metadata": {
    "collapsed": false,
    "pycharm": {
     "name": "#%% md\n"
    }
   }
  },
  {
   "cell_type": "code",
   "execution_count": 4,
   "outputs": [
    {
     "name": "stdout",
     "output_type": "stream",
     "text": [
      "身份验证失败!\n",
      "注意缩进\n"
     ]
    }
   ],
   "source": [
    "# 用户名是admin且密码是123456则身份验证成功否则身份验证失败\n",
    "username = input('请输入用户名: ')\n",
    "password = input('请输入口令: ')\n",
    "\n",
    "if username == 'admin' and password == '123456':\n",
    "    print('身份验证成功!')\n",
    "\n",
    "else:\n",
    "    print('身份验证失败!')\n",
    "\n",
    "print(\"注意缩进\")\n",
    "\n"
   ],
   "metadata": {
    "collapsed": false,
    "pycharm": {
     "name": "#%%\n"
    }
   }
  },
  {
   "cell_type": "markdown",
   "source": [
    "## 多分支结构，分段函数计算   注意冒号和缩进\n",
    "## 可写成嵌套结构"
   ],
   "metadata": {
    "collapsed": false,
    "pycharm": {
     "name": "#%% md\n"
    }
   }
  },
  {
   "cell_type": "code",
   "execution_count": 5,
   "outputs": [
    {
     "name": "stdout",
     "output_type": "stream",
     "text": [
      "f(5.00) = 10.00\n"
     ]
    }
   ],
   "source": [
    "x = float(input('x = ')) # 输入x的值\n",
    "if x > 1:   # 判断x是否大于1\n",
    "    y = 3 * x - 5  # 满足x>1的分段函数\n",
    "elif x >= -1:  # 判断 x>=-1\n",
    "    y = x + 2  # 满足x>=-1的分段函数\n",
    "else:  # 其他情况\n",
    "    y = 5 * x + 3  # 以上情况都不满足时的分段函数\n",
    "\n",
    "print('f(%.2f) = %.2f' % (x, y))  # 输出计算结果"
   ],
   "metadata": {
    "collapsed": false,
    "pycharm": {
     "name": "#%%\n"
    }
   }
  },
  {
   "cell_type": "code",
   "execution_count": 6,
   "outputs": [
    {
     "data": {
      "text/plain": "False"
     },
     "execution_count": 6,
     "metadata": {},
     "output_type": "execute_result"
    }
   ],
   "source": [
    "123 == \"123\""
   ],
   "metadata": {
    "collapsed": false,
    "pycharm": {
     "name": "#%%\n"
    }
   }
  },
  {
   "cell_type": "markdown",
   "source": [
    "## 循环结构\n",
    "## 循环结构就是程序中控制某条或某些指令重复执行的结构。在Python中构造循环结构有两种做法，一种是for-in循环，一种是while循环。"
   ],
   "metadata": {
    "collapsed": false,
    "pycharm": {
     "name": "#%% md\n"
    }
   }
  },
  {
   "cell_type": "markdown",
   "source": [
    "### for-in 循环 适用于知道循环次数的场景"
   ],
   "metadata": {
    "collapsed": false,
    "pycharm": {
     "name": "#%% md\n"
    }
   }
  },
  {
   "cell_type": "code",
   "execution_count": 7,
   "outputs": [
    {
     "name": "stdout",
     "output_type": "stream",
     "text": [
      "5050\n"
     ]
    }
   ],
   "source": [
    "sum = 0\n",
    "for x in range(101):\n",
    "    \"\"\" 第一次循环 x = 0 执行 sum += x 执行结果：sum = 0.   执行结束后从头开始，进入下一个循环\n",
    "        第二次循环 x = 1 执行 sum += x 执行结果：sum=0+1=1. 执行结束后从头开始，进入下一个循环\n",
    "        第三次循环 x = 2 执行 sum += x 执行结果：sum=1+2=3. 执行结束后从头开始，进入下一个循环\n",
    "        .........\n",
    "    \"\"\"\n",
    "    sum += x\n",
    "print(sum)\n"
   ],
   "metadata": {
    "collapsed": false,
    "pycharm": {
     "name": "#%%\n"
    }
   }
  },
  {
   "cell_type": "markdown",
   "source": [
    "### while 循环"
   ],
   "metadata": {
    "collapsed": false,
    "pycharm": {
     "name": "#%% md\n"
    }
   }
  },
  {
   "cell_type": "code",
   "execution_count": 10,
   "outputs": [
    {
     "name": "stdout",
     "output_type": "stream",
     "text": [
      "你总共猜了0次\n"
     ]
    }
   ],
   "source": [
    "import random  # 导入模块 random\n",
    "\n",
    "answer = random.randint(1, 5) # 在1-5中随机抽取一个数字\n",
    "counter = 0 # 计数器，每经过一次循环，计数器的值加1，就可以记录循环的次数。\n",
    "\n",
    "while True:\n",
    "    counter += 1 # 一旦开始一个循环数值加1\n",
    "    number = int(input('请输入: '))  # 玩家输入一个值\n",
    "\n",
    "    if number < answer:\n",
    "        print('大一点')\n",
    "    elif number > answer:\n",
    "        print(\"小一点\")\n",
    "    else:\n",
    "        print('恭喜你猜对了!')\n",
    "        break\n",
    "print('你总共猜了%d次' % counter) # 输出循环运行了多少次\n",
    "if counter > 7:\n",
    "    print('你的智商余额明显不足')"
   ],
   "metadata": {
    "collapsed": false,
    "pycharm": {
     "name": "#%%\n"
    }
   }
  },
  {
   "cell_type": "markdown",
   "source": [
    "### 打印九九乘法表"
   ],
   "metadata": {
    "collapsed": false,
    "pycharm": {
     "name": "#%% md\n"
    }
   }
  },
  {
   "cell_type": "code",
   "execution_count": 22,
   "outputs": [
    {
     "name": "stdout",
     "output_type": "stream",
     "text": [
      "1*1=1\t\n",
      "2*1=2\t2*2=4\t\n",
      "3*1=3\t3*2=6\t3*3=9\t\n",
      "4*1=4\t4*2=8\t4*3=12\t4*4=16\t\n",
      "5*1=5\t5*2=10\t5*3=15\t5*4=20\t5*5=25\t\n",
      "6*1=6\t6*2=12\t6*3=18\t6*4=24\t6*5=30\t6*6=36\t\n",
      "7*1=7\t7*2=14\t7*3=21\t7*4=28\t7*5=35\t7*6=42\t7*7=49\t\n",
      "8*1=8\t8*2=16\t8*3=24\t8*4=32\t8*5=40\t8*6=48\t8*7=56\t8*8=64\t\n",
      "9*1=9\t9*2=18\t9*3=27\t9*4=36\t9*5=45\t9*6=54\t9*7=63\t9*8=72\t9*9=81\t\n"
     ]
    }
   ],
   "source": [
    "for i in range(1, 10): # 遍历1-10之间的整数\n",
    "    \"\"\"\n",
    "    第一次循环 i = 1 执行 下面的循环代码 执行结果：输出等式 '%d*%d=%d' .  执行结束后从头开始，进入下一个循环\n",
    "    第二次循环 i = 2 执行下面的循环代码 执行结果：输出等式 '%d*%d=%d'. 执行结束后从头开始，进入下一个循环\n",
    "    \"\"\"\n",
    "    for j in range(1, i + 1):\n",
    "        \"\"\"\n",
    "        第一次循环 i = 1，i + 1 = 2 , j = 1. 执行下面的代码 执行结果：输出一个等式 '1*1=1' . 执行结束后从本次循环的头开始，进入下一个循环\n",
    "        第二次循环 i = 1, i + 1 = 2 , j 不可以等于 2, 本次在range(1,2)的遍历结束, 即这一段循环结束。然后进入外面的循环从头开始\n",
    "        遍历range(1,3)\n",
    "        第一次循环 i = 2，i + 1 = 3 , j = 1. 执行下面的代码 执行结果：输出一个等式 '2*1=2' . 执行结束后从本段循环的头开始，进入下一个循环\n",
    "        第二次循环 i = 2，i + 1 = 3 , j = 2. 执行下面的代码 执行结果：输出一个等式 '2*2=4' . 执行结束后从本段循环的头开始，进入下一个循环\n",
    "        遍历range(1,3) 的循环结束，从外面的循环再次开始\n",
    "        \"\"\"\n",
    "        print('%d*%d=%d' % (i, j, i * j), end='\\t')\n",
    "    print() # 输出换行符"
   ],
   "metadata": {
    "collapsed": false,
    "pycharm": {
     "name": "#%%\n"
    }
   }
  },
  {
   "cell_type": "code",
   "execution_count": 17,
   "outputs": [
    {
     "name": "stdout",
     "output_type": "stream",
     "text": [
      "  *\n",
      " ***\n",
      "*****\n"
     ]
    }
   ],
   "source": [
    "def pristar(row):\n",
    "    for i in range(row):\n",
    "        for _ in range(row - i - 1): # 0 1 2 3\n",
    "            print(' ', end='')\n",
    "        for _ in range(2 * i + 1): # 0\n",
    "            print('*', end='')\n",
    "        print()\n",
    "\n",
    "pristar(3)\n",
    "\n"
   ],
   "metadata": {
    "collapsed": false,
    "pycharm": {
     "name": "#%%\n"
    }
   }
  },
  {
   "cell_type": "code",
   "execution_count": null,
   "outputs": [],
   "source": [
    "def f(x):\n",
    "    pass\n",
    "    return y  # 一个结果"
   ],
   "metadata": {
    "collapsed": false,
    "pycharm": {
     "name": "#%%\n"
    }
   }
  },
  {
   "cell_type": "code",
   "execution_count": 73,
   "outputs": [],
   "source": [
    "\n",
    "result= 0\n",
    "\n",
    "def fac(num=3): # 形参 代表我们传入函数的参数\n",
    "    global result\n",
    "    \"\"\"求阶乘\"\"\"\n",
    "    # result = 1 # 设置result起始值 局部变量\n",
    "    for n in range(1, num + 1): # 假如传入的参数是5，num=5. range(1,6) n=1,2,3,4,5\n",
    "        result *= n # 第一次循环 n=1 result = 1*result= 1*1\n",
    "                    # 第二次循环 n=2 result = 2*1\n",
    "                    # n=3 result = 2*3\n",
    "    return result"
   ],
   "metadata": {
    "collapsed": false,
    "pycharm": {
     "name": "#%%\n"
    }
   }
  },
  {
   "cell_type": "code",
   "execution_count": 74,
   "outputs": [
    {
     "data": {
      "text/plain": "0"
     },
     "execution_count": 74,
     "metadata": {},
     "output_type": "execute_result"
    }
   ],
   "source": [
    "fac(3)"
   ],
   "metadata": {
    "collapsed": false,
    "pycharm": {
     "name": "#%%\n"
    }
   }
  },
  {
   "cell_type": "code",
   "execution_count": null,
   "outputs": [],
   "source": [
    "m = int(input('m = '))\n",
    "n = int(input('n = '))\n",
    "print(fac(m) // fac(n) // fac(m - n))\n"
   ],
   "metadata": {
    "collapsed": false,
    "pycharm": {
     "name": "#%%\n",
     "is_executing": true
    }
   }
  },
  {
   "cell_type": "markdown",
   "source": [
    "### 函数的参数可以有默认值，也支持使用可变参数\n",
    "\n",
    "#### 默认参数 位置参数"
   ],
   "metadata": {
    "collapsed": false,
    "pycharm": {
     "name": "#%% md\n"
    }
   }
  },
  {
   "cell_type": "code",
   "execution_count": null,
   "outputs": [],
   "source": [
    "from random import randint\n",
    "\n",
    "def roll_dice(n=2): # 参数可以有默认值\n",
    "    \"\"\"摇色子\"\"\"\n",
    "    total = 0\n",
    "    for _ in range(n):\n",
    "        total += randint(1, 6)\n",
    "    return total\n",
    "\n",
    "\n",
    "def add(a=0, b=0, c=0): # 位置参数\n",
    "    \"\"\"三个数相加\"\"\"\n",
    "    return a + b + c\n",
    "\n",
    "roll_dice(n=5)"
   ],
   "metadata": {
    "collapsed": false,
    "pycharm": {
     "name": "#%%\n",
     "is_executing": true
    }
   }
  },
  {
   "cell_type": "code",
   "execution_count": 32,
   "outputs": [
    {
     "data": {
      "text/plain": "6"
     },
     "execution_count": 32,
     "metadata": {},
     "output_type": "execute_result"
    }
   ],
   "source": [
    "add(a=1,b=2,c=3)"
   ],
   "metadata": {
    "collapsed": false,
    "pycharm": {
     "name": "#%%\n"
    }
   }
  },
  {
   "cell_type": "code",
   "execution_count": 35,
   "outputs": [
    {
     "name": "stdout",
     "output_type": "stream",
     "text": [
      "350\n"
     ]
    }
   ],
   "source": [
    "# 传递参数时可以不按照设定的顺序进行传递\n",
    "print(add(c=50, a=100, b=200))"
   ],
   "metadata": {
    "collapsed": false,
    "pycharm": {
     "name": "#%%\n"
    }
   }
  },
  {
   "cell_type": "markdown",
   "source": [
    "### 在不确定参数个数的时候，我们可以使用可变参数，"
   ],
   "metadata": {
    "collapsed": false,
    "pycharm": {
     "name": "#%% md\n"
    }
   }
  },
  {
   "cell_type": "code",
   "execution_count": 60,
   "outputs": [],
   "source": [
    "# 在参数名前面的*表示args是一个可变参数\n",
    "def add(a,b,c,*args):\n",
    "    total = 0\n",
    "    for val in args:\n",
    "        total += val\n",
    "    return total+a+b+c\n",
    "\n"
   ],
   "metadata": {
    "collapsed": false,
    "pycharm": {
     "name": "#%%\n"
    }
   }
  },
  {
   "cell_type": "code",
   "execution_count": 62,
   "outputs": [
    {
     "data": {
      "text/plain": "21"
     },
     "execution_count": 62,
     "metadata": {},
     "output_type": "execute_result"
    }
   ],
   "source": [
    "add(1,2,3,4,5,6)"
   ],
   "metadata": {
    "collapsed": false,
    "pycharm": {
     "name": "#%%\n"
    }
   }
  },
  {
   "cell_type": "code",
   "execution_count": 40,
   "outputs": [
    {
     "name": "stdout",
     "output_type": "stream",
     "text": [
      "100\n",
      "hello\n",
      "True\n"
     ]
    }
   ],
   "source": [
    "def foo():\n",
    "    b = 'hello'\n",
    "\n",
    "    # Python中可以在函数内部再定义函数\n",
    "    def bar():\n",
    "        c = True\n",
    "        print(a)\n",
    "        print(b)\n",
    "        print(c)\n",
    "\n",
    "    bar()\n",
    "    # print(c)  # NameError: name 'c' is not defined\n",
    "\n",
    "\n",
    "if __name__ == '__main__':\n",
    "    a = 100\n",
    "    # print(b)  # NameError: name 'b' is not defined\n",
    "    foo()"
   ],
   "metadata": {
    "collapsed": false,
    "pycharm": {
     "name": "#%%\n"
    }
   }
  },
  {
   "cell_type": "markdown",
   "source": [
    "### 数据结构"
   ],
   "metadata": {
    "collapsed": false,
    "pycharm": {
     "name": "#%% md\n"
    }
   }
  },
  {
   "cell_type": "code",
   "execution_count": 3,
   "outputs": [
    {
     "name": "stdout",
     "output_type": "stream",
     "text": [
      "abcd\n",
      "abcsda\t123\n",
      "'\n"
     ]
    }
   ],
   "source": [
    "print(\"abcd\",end=\"\\n\")\n",
    "print(\"abcsda\",end=\"\\t\")\n",
    "print(\"123\")\n",
    "print('\\'')"
   ],
   "metadata": {
    "collapsed": false,
    "pycharm": {
     "name": "#%%\n"
    }
   }
  },
  {
   "cell_type": "code",
   "execution_count": 4,
   "outputs": [
    {
     "name": "stdout",
     "output_type": "stream",
     "text": [
      "'hello, world!' \n",
      "\\hello, world!\\\n"
     ]
    }
   ],
   "source": [
    "s1 = '\\'hello, world!\\''\n",
    "s2 = '\\n\\\\hello, world!\\\\\\n'\n",
    "print(s1, s2, end='')"
   ],
   "metadata": {
    "collapsed": false,
    "pycharm": {
     "name": "#%%\n"
    }
   }
  },
  {
   "cell_type": "code",
   "execution_count": null,
   "outputs": [],
   "source": [
    "s1 = r'\\'hello, world!\\''\n",
    "s2 = r'\\n\\\\hello, world!\\\\\\n'\n",
    "print(s1, s2, end='')"
   ],
   "metadata": {
    "collapsed": false,
    "pycharm": {
     "name": "#%%\n",
     "is_executing": true
    }
   }
  },
  {
   "cell_type": "markdown",
   "source": [
    "#### 拼接和重复"
   ],
   "metadata": {
    "collapsed": false,
    "pycharm": {
     "name": "#%% md\n"
    }
   }
  },
  {
   "cell_type": "code",
   "execution_count": 7,
   "outputs": [
    {
     "name": "stdout",
     "output_type": "stream",
     "text": [
      "hello hello hello \n",
      "hello hello hello world\n"
     ]
    }
   ],
   "source": [
    "s1 = 'hello ' * 3  # 重复\n",
    "s2 = 'world'\n",
    "print(s1)\n",
    "print(s1+s2) # 拼接"
   ],
   "metadata": {
    "collapsed": false,
    "pycharm": {
     "name": "#%%\n"
    }
   }
  },
  {
   "cell_type": "markdown",
   "source": [
    "#### 成员运算 用in和not in来判断一个字符串是否包含另外一个字符串"
   ],
   "metadata": {
    "collapsed": false,
    "pycharm": {
     "name": "#%% md\n"
    }
   }
  },
  {
   "cell_type": "code",
   "execution_count": 9,
   "outputs": [
    {
     "name": "stdout",
     "output_type": "stream",
     "text": [
      "True\n",
      "False\n",
      "True\n"
     ]
    }
   ],
   "source": [
    "print('ll' in s1) # True\n",
    "print('good' in s1) # False\n",
    "print(\"good\" not in s1)"
   ],
   "metadata": {
    "collapsed": false,
    "pycharm": {
     "name": "#%%\n"
    }
   }
  },
  {
   "cell_type": "markdown",
   "source": [
    "#### 切片运算 用[]和[:]运算符从字符串取出某个字符或某些字符"
   ],
   "metadata": {
    "collapsed": false,
    "pycharm": {
     "name": "#%% md\n"
    }
   }
  },
  {
   "cell_type": "code",
   "execution_count": 23,
   "outputs": [
    {
     "name": "stdout",
     "output_type": "stream",
     "text": [
      "ac246\n",
      "654321cba\n",
      "12345\n"
     ]
    }
   ],
   "source": [
    "str2 = 'abc123456'  # 从字符串中取出指定位置的字符(下标运算)\n",
    "\"\"\"\n",
    "01\n",
    "\"\"\"\n",
    "print(str2[2]) # c\n",
    "# 字符串切片(从指定的开始索引到指定的结束索引)\n",
    "# print(str2[2:5]) # c12 左闭右开\n",
    "# print(str2[2:]) # c123456\n",
    "# print(str2[2::2]) # c246 步长是2\n",
    "print(str2[::2]) # ac246 取全部字符串，步长是2\n",
    "print(str2[::-1]) # 654321cba 取全部字符串，步长是-1，即倒着取\n",
    "print(str2[-6:-1]) # 45 倒着取从-1开始 左闭右开 步长默认是1"
   ],
   "metadata": {
    "collapsed": false,
    "pycharm": {
     "name": "#%%\n"
    }
   }
  },
  {
   "cell_type": "markdown",
   "source": [
    "#### 对字符串的处理，代码如下所示。"
   ],
   "metadata": {
    "collapsed": false,
    "pycharm": {
     "name": "#%% md\n"
    }
   }
  },
  {
   "cell_type": "code",
   "execution_count": 34,
   "outputs": [
    {
     "name": "stdout",
     "output_type": "stream",
     "text": [
      "13\n"
     ]
    }
   ],
   "source": [
    "str1 = 'hello, world!' # 通过内置函数len计算字符串的长度\n",
    "print(len(str1)) # 13"
   ],
   "metadata": {
    "collapsed": false,
    "pycharm": {
     "name": "#%%\n"
    }
   }
  },
  {
   "cell_type": "code",
   "execution_count": 30,
   "outputs": [
    {
     "name": "stdout",
     "output_type": "stream",
     "text": [
      "Hello, world!\n",
      "hello, world!\n"
     ]
    }
   ],
   "source": [
    "# 获得字符串首字母大写的拷贝 把字符串首字母变大写\n",
    "print(str1.capitalize()) # Hello, world!\n",
    "print(str1)\n"
   ],
   "metadata": {
    "collapsed": false,
    "pycharm": {
     "name": "#%%\n"
    }
   }
  },
  {
   "cell_type": "code",
   "execution_count": 27,
   "outputs": [
    {
     "name": "stdout",
     "output_type": "stream",
     "text": [
      "Hello, World!\n"
     ]
    }
   ],
   "source": [
    "# 获得字符串每个单词的首字母大写\n",
    "print(str1.title()) # Hello, World!"
   ],
   "metadata": {
    "collapsed": false,
    "pycharm": {
     "name": "#%%\n"
    }
   }
  },
  {
   "cell_type": "code",
   "execution_count": 31,
   "outputs": [
    {
     "name": "stdout",
     "output_type": "stream",
     "text": [
      "HELLO, WORLD!\n",
      "HELLO, WORLD!\n"
     ]
    }
   ],
   "source": [
    "# 获得字符串变大写后\n",
    "print(str1.upper()) # HELLO, WORLD!\n"
   ],
   "metadata": {
    "collapsed": false,
    "pycharm": {
     "name": "#%%\n"
    }
   }
  },
  {
   "cell_type": "code",
   "execution_count": 29,
   "outputs": [
    {
     "name": "stdout",
     "output_type": "stream",
     "text": [
      "abcd\n"
     ]
    }
   ],
   "source": [
    "str2 = \"ABCD\"\n",
    "print(str2.lower())"
   ],
   "metadata": {
    "collapsed": false,
    "pycharm": {
     "name": "#%%\n"
    }
   }
  },
  {
   "cell_type": "code",
   "execution_count": 35,
   "outputs": [
    {
     "name": "stdout",
     "output_type": "stream",
     "text": [
      "8\n",
      "-1\n"
     ]
    }
   ],
   "source": [
    "# 从字符串中查找子串所在位置\n",
    "print(str1.find('or')) # 8\n",
    "print(str1.find('shit')) # -1"
   ],
   "metadata": {
    "collapsed": false,
    "pycharm": {
     "name": "#%%\n"
    }
   }
  },
  {
   "cell_type": "code",
   "execution_count": 36,
   "outputs": [
    {
     "name": "stdout",
     "output_type": "stream",
     "text": [
      "False\n",
      "True\n"
     ]
    }
   ],
   "source": [
    "# 检查字符串是否以指定的字符串开头\n",
    "print(str1.startswith('He')) # False\n",
    "print(str1.startswith('hel')) # True"
   ],
   "metadata": {
    "collapsed": false,
    "pycharm": {
     "name": "#%%\n"
    }
   }
  },
  {
   "cell_type": "code",
   "execution_count": null,
   "outputs": [],
   "source": [
    "\"ID001\"\n",
    "\">ATGC\" # 句柄 可以通过开头的特殊符号把记录序列的行提取出来\n",
    "seq = \">ATGC\"\n",
    "print(seq.startswith(\">\"))"
   ],
   "metadata": {
    "collapsed": false,
    "pycharm": {
     "name": "#%%\n",
     "is_executing": true
    }
   }
  },
  {
   "cell_type": "code",
   "execution_count": 38,
   "outputs": [
    {
     "name": "stdout",
     "output_type": "stream",
     "text": [
      "True\n"
     ]
    }
   ],
   "source": [
    "# 检查字符串是否以指定的字符串结尾\n",
    "print(str1.endswith('!')) # True"
   ],
   "metadata": {
    "collapsed": false,
    "pycharm": {
     "name": "#%%\n"
    }
   }
  },
  {
   "cell_type": "code",
   "execution_count": 41,
   "outputs": [
    {
     "name": "stdout",
     "output_type": "stream",
     "text": [
      "******************hello, world!*******************\n"
     ]
    }
   ],
   "source": [
    "# 将字符串以指定的宽度居中并在两侧填充指定的字符\n",
    "print(str1.center(50, '*'))\n",
    "str1_2 = str1.center(50, '*')"
   ],
   "metadata": {
    "collapsed": false,
    "pycharm": {
     "name": "#%%\n"
    }
   }
  },
  {
   "cell_type": "code",
   "execution_count": 43,
   "outputs": [
    {
     "name": "stdout",
     "output_type": "stream",
     "text": [
      "50\n"
     ]
    }
   ],
   "source": [
    "print(len(str1_2))"
   ],
   "metadata": {
    "collapsed": false,
    "pycharm": {
     "name": "#%%\n"
    }
   }
  },
  {
   "cell_type": "code",
   "execution_count": 46,
   "outputs": [
    {
     "name": "stdout",
     "output_type": "stream",
     "text": [
      "!!!!!!!!!!!!!!!!!!!!!!!!!!!!!!!!!!!!!hello, world!\n"
     ]
    }
   ],
   "source": [
    "# 将字符串以指定的宽度靠右放置左侧填充指定的字符\n",
    "print(str1.rjust(50, '!'))"
   ],
   "metadata": {
    "collapsed": false,
    "pycharm": {
     "name": "#%%\n"
    }
   }
  },
  {
   "cell_type": "code",
   "execution_count": 50,
   "outputs": [
    {
     "name": "stdout",
     "output_type": "stream",
     "text": [
      "False\n"
     ]
    }
   ],
   "source": [
    "str2 = 'abc123456'\n",
    "# 检查字符串是否由数字构成\n",
    "print(str2.isdigit())  # False"
   ],
   "metadata": {
    "collapsed": false,
    "pycharm": {
     "name": "#%%\n"
    }
   }
  },
  {
   "cell_type": "code",
   "execution_count": 51,
   "outputs": [
    {
     "name": "stdout",
     "output_type": "stream",
     "text": [
      "True\n"
     ]
    }
   ],
   "source": [
    "# 检查字符串是否以字母构成\n",
    "print(str2.isalpha())  # False"
   ],
   "metadata": {
    "collapsed": false,
    "pycharm": {
     "name": "#%%\n"
    }
   }
  },
  {
   "cell_type": "code",
   "execution_count": 52,
   "outputs": [
    {
     "name": "stdout",
     "output_type": "stream",
     "text": [
      "True\n",
      "  jackfrued@126.com \n"
     ]
    }
   ],
   "source": [
    "# 检查字符串是否以数字和字母构成\n",
    "print(str2.isalnum())  # True"
   ],
   "metadata": {
    "collapsed": false,
    "pycharm": {
     "name": "#%%\n"
    }
   }
  },
  {
   "cell_type": "code",
   "execution_count": 57,
   "outputs": [
    {
     "name": "stdout",
     "output_type": "stream",
     "text": [
      "aaajackfrued@126.comaaa\n",
      "jackfrued@126.com\n"
     ]
    }
   ],
   "source": [
    "str3 = 'aaajackfrued@126.comaaa'\n",
    "print(str3)\n",
    "# 获得字符串修剪左右两侧空格之后的拷贝\n",
    "print(str3.strip(\"a\")) # 修剪左右两侧的字符"
   ],
   "metadata": {
    "collapsed": false,
    "pycharm": {
     "name": "#%%\n"
    }
   }
  },
  {
   "cell_type": "code",
   "execution_count": 58,
   "outputs": [
    {
     "name": "stdout",
     "output_type": "stream",
     "text": [
      "5 * 10 = 50\n"
     ]
    }
   ],
   "source": [
    "# 格式化输出字符串\n",
    "a, b = 5, 10\n",
    "print(f'{a} * {b} = {a * b}')"
   ],
   "metadata": {
    "collapsed": false,
    "pycharm": {
     "name": "#%%\n"
    }
   }
  },
  {
   "cell_type": "markdown",
   "source": [
    "#### 如何定义列表、如何遍历列表以及列表的下标运算。"
   ],
   "metadata": {
    "collapsed": false,
    "pycharm": {
     "name": "#%% md\n"
    }
   }
  },
  {
   "cell_type": "code",
   "execution_count": 65,
   "outputs": [
    {
     "name": "stdout",
     "output_type": "stream",
     "text": [
      "[1, 3, 5, 7, 100]\n"
     ]
    }
   ],
   "source": [
    "list1 = [1, 3, 5, 7, 100] # 定义列表\n",
    "print(list1)"
   ],
   "metadata": {
    "collapsed": false,
    "pycharm": {
     "name": "#%%\n"
    }
   }
  },
  {
   "cell_type": "code",
   "execution_count": 60,
   "outputs": [
    {
     "name": "stdout",
     "output_type": "stream",
     "text": [
      "['hello', 'hello', 'hello']\n",
      "5\n"
     ]
    }
   ],
   "source": [
    "# 乘号表示列表元素的重复\n",
    "list2 = ['hello'] * 3\n",
    "print(list2) # ['hello', 'hello', 'hello']\n",
    "# 计算列表长度(元素个数)\n",
    "print(len(list1)) # 5"
   ],
   "metadata": {
    "collapsed": false,
    "pycharm": {
     "name": "#%%\n"
    }
   }
  },
  {
   "cell_type": "code",
   "execution_count": 70,
   "outputs": [
    {
     "name": "stdout",
     "output_type": "stream",
     "text": [
      "[1, 3, 300, 7, 100]\n"
     ]
    }
   ],
   "source": [
    "# 下标(索引)运算\n",
    "\"\"\"print(list1[0]) # 1\n",
    "print(list1[4]) # 100\n",
    "# print(list1[5])  # IndexError: list index out of range\n",
    "print(list1[-1]) # 100\n",
    "print(list1[-3]) # 5 \"\"\"\n",
    "# print(list1[::2]) # 字符串的切片运算\n",
    "list1[2] = 300\n",
    "print(list1) # [1, 3, 300, 7, 100]"
   ],
   "metadata": {
    "collapsed": false,
    "pycharm": {
     "name": "#%%\n"
    }
   }
  },
  {
   "cell_type": "code",
   "execution_count": 73,
   "outputs": [
    {
     "name": "stdout",
     "output_type": "stream",
     "text": [
      "300\n",
      "7\n",
      "100\n"
     ]
    }
   ],
   "source": [
    "# 通过循环用下标遍历列表元素\n",
    "\"\"\"\n",
    "list1[0] list1[1] list1[2] ......\n",
    "\"\"\"\n",
    "for index in range(2,5): # 下标到4 长度是5 range(5):0 1 2 3 4 是列表的下标值\n",
    "    \"\"\"\n",
    "    1: index = 0 list1[0]\n",
    "    2: index = 1 list1[1]\n",
    "    ....\n",
    "    \"\"\"\n",
    "    print(list1[index])"
   ],
   "metadata": {
    "collapsed": false,
    "pycharm": {
     "name": "#%%\n"
    }
   }
  },
  {
   "cell_type": "code",
   "execution_count": 72,
   "outputs": [
    {
     "name": "stdout",
     "output_type": "stream",
     "text": [
      "1\n",
      "3\n",
      "300\n",
      "7\n",
      "100\n"
     ]
    }
   ],
   "source": [
    "# 通过for循环遍历列表元素\n",
    "for elem in list1: # [a,b,c]\n",
    "    print(elem)"
   ],
   "metadata": {
    "collapsed": false,
    "pycharm": {
     "name": "#%%\n"
    }
   }
  },
  {
   "cell_type": "code",
   "execution_count": 74,
   "outputs": [
    {
     "name": "stdout",
     "output_type": "stream",
     "text": [
      "0 1\n",
      "1 3\n",
      "2 300\n",
      "3 7\n",
      "4 100\n"
     ]
    }
   ],
   "source": [
    " # 通过enumerate函数处理列表之后再遍历可以同时获得元素索引和值\n",
    "for index, elem in enumerate(list1):\n",
    "    print(index, elem)"
   ],
   "metadata": {
    "collapsed": false,
    "pycharm": {
     "name": "#%%\n"
    }
   }
  },
  {
   "cell_type": "code",
   "execution_count": 17,
   "outputs": [],
   "source": [
    "list1 = [1, 3, 5, 7, 100]\n",
    "# 添加元素\n",
    "list1.append(200)\n",
    "list1.insert(1, 400) # 在索引是1的位置上 插入 400这个值\n",
    "# list1.extend([1000, 2000,\"ascii\"])\n",
    "list1 += [1000, 2000]"
   ],
   "metadata": {
    "collapsed": false,
    "pycharm": {
     "name": "#%%\n"
    }
   }
  },
  {
   "cell_type": "code",
   "execution_count": 18,
   "outputs": [
    {
     "data": {
      "text/plain": "[1, 400, 3, 5, 7, 100, 200, 1000, 2000]"
     },
     "execution_count": 18,
     "metadata": {},
     "output_type": "execute_result"
    }
   ],
   "source": [
    "list1\n"
   ],
   "metadata": {
    "collapsed": false,
    "pycharm": {
     "name": "#%%\n"
    }
   }
  },
  {
   "cell_type": "code",
   "execution_count": 19,
   "outputs": [
    {
     "data": {
      "text/plain": "[1, 400, 3, 5, 7, 100, 200, 1000]"
     },
     "execution_count": 19,
     "metadata": {},
     "output_type": "execute_result"
    }
   ],
   "source": [
    "list1.pop(len(list1) - 1)\n",
    "list1"
   ],
   "metadata": {
    "collapsed": false,
    "pycharm": {
     "name": "#%%\n"
    }
   }
  },
  {
   "cell_type": "code",
   "execution_count": 22,
   "outputs": [
    {
     "data": {
      "text/plain": "['zoo', 'orange', 'internationalization', 'blueberry', 'apple']"
     },
     "execution_count": 22,
     "metadata": {},
     "output_type": "execute_result"
    }
   ],
   "source": [
    "list1 = ['orange', 'apple', 'zoo', 'internationalization', 'blueberry']\n",
    "list3 = sorted(list1, reverse=True)\n",
    "list3"
   ],
   "metadata": {
    "collapsed": false,
    "pycharm": {
     "name": "#%%\n"
    }
   }
  },
  {
   "cell_type": "markdown",
   "source": [
    "#### 列表生成式"
   ],
   "metadata": {
    "collapsed": false,
    "pycharm": {
     "name": "#%% md\n"
    }
   }
  },
  {
   "cell_type": "code",
   "execution_count": 43,
   "outputs": [
    {
     "name": "stdout",
     "output_type": "stream",
     "text": [
      "[4]\n"
     ]
    }
   ],
   "source": [
    "f = [x for x in range(1, 100) if x == 4 ]\n",
    "print(f)"
   ],
   "metadata": {
    "collapsed": false,
    "pycharm": {
     "name": "#%%\n"
    }
   }
  },
  {
   "cell_type": "code",
   "execution_count": 26,
   "outputs": [
    {
     "name": "stdout",
     "output_type": "stream",
     "text": [
      "['A1', 'A2', 'A3', 'A4', 'A5', 'A6', 'A7', 'B1', 'B2', 'B3', 'B4', 'B5', 'B6', 'B7', 'C1', 'C2', 'C3', 'C4', 'C5', 'C6', 'C7', 'D1', 'D2', 'D3', 'D4', 'D5', 'D6', 'D7', 'E1', 'E2', 'E3', 'E4', 'E5', 'E6', 'E7']\n"
     ]
    }
   ],
   "source": [
    "f = [x + y for x in 'ABCDE' for y in '1234567']\n",
    "\"\"\"\n",
    "1: x = A ;y = 1,y = 2,y = 3.............\n",
    "2: x = B ;y = 1,2,3......\n",
    "\"\"\"\n",
    "print(f)"
   ],
   "metadata": {
    "collapsed": false,
    "pycharm": {
     "name": "#%%\n"
    }
   }
  },
  {
   "cell_type": "markdown",
   "source": [],
   "metadata": {
    "collapsed": false,
    "pycharm": {
     "name": "#%% md\n"
    }
   }
  },
  {
   "cell_type": "code",
   "execution_count": 46,
   "outputs": [
    {
     "name": "stdout",
     "output_type": "stream",
     "text": [
      "184\n",
      "104\n",
      "16\n"
     ]
    }
   ],
   "source": [
    "import sys\n",
    "# 用这种语法创建列表之后元素已经准备就绪所以需要耗费较多的内存空间\n",
    "f = [x ** 2 for x in range(1, 10)]\n",
    "print(sys.getsizeof(f))  # 查看对象占用内存的字节数  1 byte = 8 bit 100M bit  12.5 M   10M bytes\n",
    "# print(f) # 打印列表\n",
    "\n",
    "# 请注意下面的代码创建的不是一个列表而是一个生成器对象\n",
    "# 通过生成器可以获取到数据但它不占用额外的空间存储数据\n",
    "# 每次需要数据的时候就通过内部的运算得到数据(需要花费额外的时间)\n",
    "f = (x ** 2 for x in range(1, 10) if x == 4) # 对象\n",
    "print(sys.getsizeof(f))  # 相比生成式生成器不占用存储数据的空间\n",
    "# print(f)\n",
    "\n",
    "for i in f:\n",
    "    print(i)\n"
   ],
   "metadata": {
    "collapsed": false,
    "pycharm": {
     "name": "#%%\n"
    }
   }
  },
  {
   "cell_type": "markdown",
   "source": [
    "### 使用元组\n",
    "Python中的元组与列表类似也是一种容器数据类型，可以用一个变量（对象）来存储多个数据，不同之处在于元组的元素不能修改，"
   ],
   "metadata": {
    "collapsed": false,
    "pycharm": {
     "name": "#%% md\n"
    }
   }
  },
  {
   "cell_type": "code",
   "execution_count": 35,
   "outputs": [
    {
     "ename": "TypeError",
     "evalue": "'tuple' object does not support item assignment",
     "output_type": "error",
     "traceback": [
      "\u001B[1;31m---------------------------------------------------------------------------\u001B[0m",
      "\u001B[1;31mTypeError\u001B[0m                                 Traceback (most recent call last)",
      "Input \u001B[1;32mIn [35]\u001B[0m, in \u001B[0;36m<cell line: 3>\u001B[1;34m()\u001B[0m\n\u001B[0;32m      1\u001B[0m t \u001B[38;5;241m=\u001B[39m (\u001B[38;5;124m'\u001B[39m\u001B[38;5;124m骆昊\u001B[39m\u001B[38;5;124m'\u001B[39m, \u001B[38;5;241m38\u001B[39m, \u001B[38;5;28;01mTrue\u001B[39;00m, \u001B[38;5;124m'\u001B[39m\u001B[38;5;124m四川成都\u001B[39m\u001B[38;5;124m'\u001B[39m)\n\u001B[0;32m      2\u001B[0m \u001B[38;5;66;03m# 重新给元组赋值\u001B[39;00m\n\u001B[1;32m----> 3\u001B[0m t[\u001B[38;5;241m0\u001B[39m] \u001B[38;5;241m=\u001B[39m \u001B[38;5;124m'\u001B[39m\u001B[38;5;124m王大锤\u001B[39m\u001B[38;5;124m'\u001B[39m  \u001B[38;5;66;03m# TypeError\u001B[39;00m\n\u001B[0;32m      4\u001B[0m t\n",
      "\u001B[1;31mTypeError\u001B[0m: 'tuple' object does not support item assignment"
     ]
    }
   ],
   "source": [
    "t = ('骆昊', 38, True, '四川成都')\n",
    "# 重新给元组赋值\n",
    "t[0] = '王大锤'  # TypeError\n"
   ],
   "metadata": {
    "collapsed": false,
    "pycharm": {
     "name": "#%%\n"
    }
   }
  },
  {
   "cell_type": "code",
   "execution_count": 36,
   "outputs": [
    {
     "data": {
      "text/plain": "('骆昊', 38, True, '四川成都')"
     },
     "execution_count": 36,
     "metadata": {},
     "output_type": "execute_result"
    }
   ],
   "source": [
    "t"
   ],
   "metadata": {
    "collapsed": false,
    "pycharm": {
     "name": "#%%\n"
    }
   }
  },
  {
   "cell_type": "markdown",
   "source": [
    "### Python中的集合\n",
    "跟数学上的集合是一致的，不允许有重复元素，而且可以进行交集、并集、差集等运算。\n",
    "\n"
   ],
   "metadata": {
    "collapsed": false,
    "pycharm": {
     "name": "#%% md\n"
    }
   }
  },
  {
   "cell_type": "code",
   "execution_count": 37,
   "outputs": [
    {
     "name": "stdout",
     "output_type": "stream",
     "text": [
      "{1, 2, 3}\n",
      "Length = 3\n"
     ]
    }
   ],
   "source": [
    "set1 = {1, 2, 3, 3, 3, 2}\n",
    "print(set1)\n",
    "print('Length =', len(set1))"
   ],
   "metadata": {
    "collapsed": false,
    "pycharm": {
     "name": "#%%\n"
    }
   }
  },
  {
   "cell_type": "code",
   "execution_count": 38,
   "outputs": [
    {
     "name": "stdout",
     "output_type": "stream",
     "text": [
      "{1, 2, 3, 4, 5, 6, 7, 8, 9} {1, 2, 3}\n"
     ]
    }
   ],
   "source": [
    "set2 = set(range(1, 10))\n",
    "set3 = set((1, 2, 3, 3, 2, 1))\n",
    "print(set2, set3)"
   ],
   "metadata": {
    "collapsed": false,
    "pycharm": {
     "name": "#%%\n"
    }
   }
  },
  {
   "cell_type": "markdown",
   "source": [],
   "metadata": {
    "collapsed": false,
    "pycharm": {
     "name": "#%% md\n"
    }
   }
  },
  {
   "cell_type": "code",
   "execution_count": 42,
   "outputs": [
    {
     "name": "stdout",
     "output_type": "stream",
     "text": [
      "{4}\n"
     ]
    }
   ],
   "source": [
    "set4 = {num for num in range(1, 100) if num == 4}\n",
    "print(set4)"
   ],
   "metadata": {
    "collapsed": false,
    "pycharm": {
     "name": "#%%\n"
    }
   }
  },
  {
   "cell_type": "code",
   "execution_count": 68,
   "outputs": [
    {
     "data": {
      "text/plain": "{1, 2, 3, 4, 5, 11, 12, 13}"
     },
     "execution_count": 68,
     "metadata": {},
     "output_type": "execute_result"
    }
   ],
   "source": [
    "set1 = {1, 2, 3, 3, 3, 2} # 集合\n",
    "set1.add(4)\n",
    "set1.add(5)\n",
    "set1.update([11, 12,13,14])\n",
    "set1.discard(14)\n",
    "set1"
   ],
   "metadata": {
    "collapsed": false,
    "pycharm": {
     "name": "#%%\n"
    }
   }
  },
  {
   "cell_type": "code",
   "execution_count": 69,
   "outputs": [
    {
     "data": {
      "text/plain": "{11, 12}"
     },
     "execution_count": 69,
     "metadata": {},
     "output_type": "execute_result"
    }
   ],
   "source": [
    "set2 = {11,12}\n",
    "set2"
   ],
   "metadata": {
    "collapsed": false,
    "pycharm": {
     "name": "#%%\n"
    }
   }
  },
  {
   "cell_type": "code",
   "execution_count": 63,
   "outputs": [
    {
     "name": "stdout",
     "output_type": "stream",
     "text": [
      "{11, 12}\n",
      "{1, 2, 3, 4, 5, 103, 10, 11, 12, 13}\n"
     ]
    }
   ],
   "source": [
    "print(set1 & set2)\n",
    "print(set1 | set2)"
   ],
   "metadata": {
    "collapsed": false,
    "pycharm": {
     "name": "#%%\n"
    }
   }
  },
  {
   "cell_type": "code",
   "execution_count": 65,
   "outputs": [
    {
     "data": {
      "text/plain": "True"
     },
     "execution_count": 65,
     "metadata": {},
     "output_type": "execute_result"
    }
   ],
   "source": [
    "set1 ^ set2 ==   (set1 | set2) - (set1 & set2) # 并集减交集"
   ],
   "metadata": {
    "collapsed": false,
    "pycharm": {
     "name": "#%%\n"
    }
   }
  },
  {
   "cell_type": "code",
   "execution_count": 70,
   "outputs": [
    {
     "name": "stdout",
     "output_type": "stream",
     "text": [
      "True\n"
     ]
    }
   ],
   "source": [
    "print(set2 <= set1)"
   ],
   "metadata": {
    "collapsed": false,
    "pycharm": {
     "name": "#%%\n"
    }
   }
  },
  {
   "cell_type": "code",
   "execution_count": 71,
   "outputs": [
    {
     "data": {
      "text/plain": "{'one': 1, 'two': 2, 'three': 3, 'four': 4}"
     },
     "execution_count": 71,
     "metadata": {},
     "output_type": "execute_result"
    }
   ],
   "source": [
    "items1 = dict(one=1, two=2, three=3, four=4)\n",
    "items1"
   ],
   "metadata": {
    "collapsed": false,
    "pycharm": {
     "name": "#%%\n"
    }
   }
  },
  {
   "cell_type": "code",
   "execution_count": 75,
   "outputs": [
    {
     "data": {
      "text/plain": "{'a': '1', 'b': '2', 'c': '3', 'd': '4'}"
     },
     "execution_count": 75,
     "metadata": {},
     "output_type": "execute_result"
    }
   ],
   "source": [
    "# 通过zip函数将两个序列压成字典\n",
    "items2 = dict(zip(['a', 'b', 'c', 'd'], '12345'))\n",
    "items2"
   ],
   "metadata": {
    "collapsed": false,
    "pycharm": {
     "name": "#%%\n"
    }
   }
  },
  {
   "cell_type": "code",
   "execution_count": 76,
   "outputs": [
    {
     "name": "stdout",
     "output_type": "stream",
     "text": [
      "{1: 1, 2: 4, 3: 9, 4: 16, 5: 25, 6: 36, 7: 49, 8: 64, 9: 81}\n"
     ]
    }
   ],
   "source": [
    "# 创建字典的推导式语法\n",
    "items3 = {num: num ** 2 for num in range(1, 10)}\n",
    "print(items3)"
   ],
   "metadata": {
    "collapsed": false,
    "pycharm": {
     "name": "#%%\n"
    }
   }
  },
  {
   "cell_type": "code",
   "execution_count": 77,
   "outputs": [
    {
     "name": "stdout",
     "output_type": "stream",
     "text": [
      "95\n",
      "82\n"
     ]
    }
   ],
   "source": [
    "scores = {'骆昊': 95, '白元芳': 78, '狄仁杰': 82}\n",
    "# 通过键可以获取字典中对应的值\n",
    "print(scores['骆昊'])\n",
    "print(scores['狄仁杰'])"
   ],
   "metadata": {
    "collapsed": false,
    "pycharm": {
     "name": "#%%\n"
    }
   }
  },
  {
   "cell_type": "code",
   "execution_count": 82,
   "outputs": [
    {
     "name": "stdout",
     "output_type": "stream",
     "text": [
      "骆昊: 95\n",
      "白元芳: 78\n",
      "狄仁杰: 82\n",
      "95\n",
      "78\n",
      "82\n"
     ]
    }
   ],
   "source": [
    "# 对字典中所有键值对进行遍历\n",
    "for key in scores.keys():\n",
    "    print(f'{key}: {scores[key]}')\n",
    "\n",
    "for value in scores.values():\n",
    "    print(value)"
   ],
   "metadata": {
    "collapsed": false,
    "pycharm": {
     "name": "#%%\n"
    }
   }
  },
  {
   "cell_type": "code",
   "execution_count": 83,
   "outputs": [
    {
     "name": "stdout",
     "output_type": "stream",
     "text": [
      "{'骆昊': 95, '白元芳': 65, '狄仁杰': 82, '诸葛王朗': 71, '冷面': 67, '方启鹤': 85}\n"
     ]
    }
   ],
   "source": [
    "# 字典增改\n",
    "scores['白元芳'] = 65\n",
    "scores['诸葛王朗'] = 71\n",
    "scores.update(冷面=67, 方启鹤=85)\n",
    "print(scores)"
   ],
   "metadata": {
    "collapsed": false,
    "pycharm": {
     "name": "#%%\n"
    }
   }
  },
  {
   "cell_type": "code",
   "execution_count": 90,
   "outputs": [
    {
     "name": "stdout",
     "output_type": "stream",
     "text": [
      "65\n",
      "65\n"
     ]
    }
   ],
   "source": [
    "if '白元芳' in scores:\n",
    "    print(scores['白元芳'])\n",
    "\n",
    "print(scores.get('白元芳'))"
   ],
   "metadata": {
    "collapsed": false,
    "pycharm": {
     "name": "#%%\n"
    }
   }
  },
  {
   "cell_type": "code",
   "execution_count": 93,
   "outputs": [
    {
     "name": "stdout",
     "output_type": "stream",
     "text": [
      "如果没有就是我\n"
     ]
    }
   ],
   "source": [
    "# get方法也是通过键获取对应的值 但是可以设置默认值\n",
    "print(scores.get('武则天',\"如果没有就是我\"))\n"
   ],
   "metadata": {
    "collapsed": false,
    "pycharm": {
     "name": "#%%\n"
    }
   }
  },
  {
   "cell_type": "code",
   "execution_count": 94,
   "outputs": [
    {
     "name": "stdout",
     "output_type": "stream",
     "text": [
      "('方启鹤', 85)\n",
      "('冷面', 67)\n"
     ]
    }
   ],
   "source": [
    "# 删除字典中的元素\n",
    "print(scores.popitem())\n",
    "print(scores.popitem())"
   ],
   "metadata": {
    "collapsed": false,
    "pycharm": {
     "name": "#%%\n"
    }
   }
  },
  {
   "cell_type": "code",
   "execution_count": 103,
   "outputs": [
    {
     "name": "stdout",
     "output_type": "stream",
     "text": [
      "100\n"
     ]
    },
    {
     "data": {
      "text/plain": "{'骆昊': 95, '白元芳': 78, '狄仁杰': 82}"
     },
     "execution_count": 103,
     "metadata": {},
     "output_type": "execute_result"
    }
   ],
   "source": [
    "scores = {'骆昊': 95, '白元芳': 78, '狄仁杰': 82}\n",
    "print(scores.pop('武则天', 100))\n",
    "scores"
   ],
   "metadata": {
    "collapsed": false,
    "pycharm": {
     "name": "#%%\n"
    }
   }
  },
  {
   "cell_type": "code",
   "execution_count": 24,
   "outputs": [
    {
     "name": "stdout",
     "output_type": "stream",
     "text": [
      "{'>EFB38194.1#17,CBM_6,Position:399-515\\n': 'GGQYRPDEGVDIEKTSDTGGGYNVGWISEGEWLEYTIRVRNPGYYNLSLRVAGISGSRVQVSFGNQDKTGVWELPATGGFQTWTTATRQVFLGAGLQKLRINALSGGFNLNWIELSP\\n', '>ABN53395.1#8,CBM_6,Position:399-515\\n': 'GGQYRPDEGVDIEKTSDTGGGYNVGWISEGEWLEYTIRVRNPGYYNLSLRVAGISGSRVQVSFGNQDKTGVWELPATGGFQTWTTATRQVFLGAGLQKLRINALSGGFNLNWIELSP\\n', '>EFL62381.1#5649,CBM_6,Position:393-510\\n': 'KGAQYRLDEAVDIETTKDADGGYNVGWIEDGEWLEYTIWVQHPGYYNLALRVANNSGGSVQVNFGNQDKTGTWVLPVTGGVQTWKTDTRQVFLGSGRQKLRINALSGGFNLNWIELSP\\n', '>QDV75083.1#7256,CBM_6,Position:2108-2221\\n': 'LRPDVGVDIELTDDRFGDFNVTDTVSGEWLEYTLNVREPGYYTLRLRTASSVGGAVRVLMHDDDKTGVWQLPATGGNQNWTTVERVVYLEPGRQKLRLEVVTGGFNLNWIELTP\\n', '>QDV79729.1#16014,CBM_6,Position:2104-2217\\n': 'LRPDVGVDIELTDDRFGDFNVTDTVSGEWLEYTLNVREPGYYTLRLRTASSVGGAVRVLMHDDDKTGVWQLPATGGNQNWTTVERVVYLEPGRQKLRLEVVTGGFNLNWIELTP\\n', '>AHF89581.1#939,CBM_35,Position:368-487\\n': 'SGNQYRPGEDVDIQATSDTGGGYNVGWIAAGEWLGYTVNVKNPGRYTLNVRVAAPTASGSLRLRLAGVDLTGAWAVPATGDYQTWTTLSKTIDLVPGQQILRFETIASGFNLNWIEFVPV\\n', '>ARU28344.1#6547,CBM_6,Position:741-876\\n': 'QAEDFDEGGQAVSYSDSDAENLGGAYRPNEAVDIAANASGGHHVGWLGGSEWLEYTVEVANSGNYELELRVASESGSSLRIMVDGIDATGQVPVPATGAWQSYTTISTPITLTAGQHILQLRAGGAFNIDFMRFSN\\n', '>ACY16781.1#5554,CBM_6,Position:44-161\\n': 'EAEAYSAQQGVQFEATSDAGGGQNAGWIDAGDWLSYSIDVPAAGTYILEYRVASPSGGQVILSQNGQDLTDALTLPATGGWQDWVTVSDQVYLGAGVQQVAVWAQSGGWNFNWFALRP\\n', '>QUW77823.1#2742,CBM_6,Position:661-801\\n': 'QAEDYDTGGQGVAYNVTSVNGNANAYRADGVDLDNTSDTGGGYNLGWTGGGQWFRYTVDVATAGSYTLGLRVAAPSAVTGALHLSDAAGTDLTGAVDLPATGDWQTWATVTTHVVLPAGRQILTLNQDSGGWNINHLGFAA\\n', '>ACY16781.1#5556,CBM_35,Position:43-160\\n': 'IEAEAYSAQQGVQFEATSDAGGGQNAGWIDAGDWLSYSIDVPAAGTYILEYRVASPSGGQVILSQNGQDLTDALTLPATGGWQDWVTVSDQVYLGAGVQQVAVWAQSGGWNFNWFALR\\n', '>EDY84333.1#1552,CBM_6,Position:870-986\\n': 'GQYRPEEGVDILSVSDGSDGFAVNSMELDEWLEYTIFVKEPGLYTFRLHYASAVSSGAIQANFNGVDSTGSITLPSTGGASVWGTVEREVFLDYGQQKVRLTVESGGMMVNWFELTP\\n', '>BAY12514.1#6620,CBM_6,Position:488-607\\n': 'SGSQYRKDLNVDIENTSDVGGGYNIGWVKAGEWLTYDLKIPEKGFYNLVARVSTAENTQKQFKTSIDNQQERILSFGYTGGYQAWTDVITQGLSLSAGSHELRVEMLTDNFNLNYIELIP\\n', '>AMX03783.1#1376,CBM_6,Position:321-437\\n': 'GAYRPDEGVDIQETTDSGGGYNVGWMDAGEWLEYPIYVSNTGEYSAQLRLASPSDTGQISIEVDGVVVAQHGVASTGGWQNWNTEEVYLGNISAGTHTLRINVESAAFNLNWLNIID\\n', '>ABD79376.1#8243,CBM_35,Position:659-780\\n': 'TPGNIGGAYRNQDVDIQPTTDTLGGYNVGWINAGEWLEYDIDVTQAGRYDAELRVASKLGAGQVAIAIDGVARGEALTIQSTGDWQNWATLTTQLGYLEAGLHTLRVSAMSGGFNLNWYNFT\\n', '>ARU28108.1#6539,CBM_35,Position:32-167\\n': 'FQAEDYTNAFDTTAGNTGGAYRTGNVDIEPVTDTNGGHNVGWIVATEWLSYANLSVPTAGTYNIRVRVASASGGTLSVDLNGGAIPLGTINIPATGGWQTWQTVQKQVQLPAGTHSLGVYATTGGWNFNWIEVTPA\\n', '>QHS63779.1#4664,CBM_35,Position:937-1045\\n': 'GIQTEGCGDTGGGENIGWVDTGDWMDYFVNVTAAGTYNVSFRVASAPGGGQIQLQSGNNVLTTADVAATGGWQAWTTVTRTITLAAGKQTLRVYASHADFNLNWIEFSA\\n'}\n"
     ]
    }
   ],
   "source": [
    "f = open(r'D:\\Work\\CBMDB\\已知CBM\\已知CBM用于建树.txt')\n",
    "dict1 = dict()\n",
    "for i in f:\n",
    "    if i.startswith('>'):\n",
    "        dict1[i] = \"\"\n",
    "# print(dict1)\n",
    "f.close()\n",
    "\n",
    "f = open(r'D:\\Work\\CBMDB\\已知CBM\\已知CBM用于建树.txt')\n",
    "seq = []\n",
    "for i in f:\n",
    "    if not i.startswith('>'):\n",
    "        seq.append(i)\n",
    "\n",
    "for i,p in zip(dict1.keys(),seq):\n",
    "    dict1[i] = p\n",
    "\n",
    "print(dict1)\n",
    "\n",
    "\n"
   ],
   "metadata": {
    "collapsed": false,
    "pycharm": {
     "name": "#%%\n"
    }
   }
  },
  {
   "cell_type": "code",
   "execution_count": null,
   "outputs": [],
   "source": [],
   "metadata": {
    "collapsed": false,
    "pycharm": {
     "name": "#%%\n"
    }
   }
  },
  {
   "cell_type": "markdown",
   "source": [
    "## 类和对象"
   ],
   "metadata": {
    "collapsed": false,
    "pycharm": {
     "name": "#%% md\n"
    }
   }
  },
  {
   "cell_type": "code",
   "execution_count": 27,
   "outputs": [],
   "source": [
    "class Student(object): # 定义一个类 类中有对象 对象就是一个个学生 抽象的\n",
    "\n",
    "    # __init__是一个特殊方法用于在创建对象时进行初始化操作\n",
    "    # 通过这个方法我们可以为学生对象绑定name和age两个属性\n",
    "    def __init__(self, nickname, age): # 给学生初始化了名字和年龄两个属性\n",
    "        self.nickname = nickname\n",
    "        self.age = age\n",
    "\n",
    "    def study(self, course_name): # 行为 动作 学生能干啥 study\n",
    "        print('%s正在学习%s.' % (self.nickname, course_name))\n",
    "\n",
    "    # PEP 8要求标识符的名字用全小写多个单词用下划线连接\n",
    "    # 但是部分程序员和公司更倾向于使用驼峰命名法(驼峰标识)\n",
    "    def watch_movie(self): # 另一个行为 看电影\n",
    "        if self.age < 18: # 年龄小于18只能看熊出没\n",
    "            print('%s只能观看《熊出没》.' % self.nickname)\n",
    "        else:\n",
    "            print('%s正在观看爱情大电影.' % self.nickname)\n"
   ],
   "metadata": {
    "collapsed": false,
    "pycharm": {
     "name": "#%%\n"
    }
   }
  },
  {
   "cell_type": "code",
   "execution_count": 29,
   "outputs": [
    {
     "name": "stdout",
     "output_type": "stream",
     "text": [
      "骆昊正在学习Python程序设计.\n",
      "骆昊正在观看爱情大电影.\n",
      "王大锤正在学习思想品德.\n",
      "王大锤只能观看《熊出没》.\n"
     ]
    },
    {
     "ename": "TypeError",
     "evalue": "Student.study() missing 1 required positional argument: 'course_name'",
     "output_type": "error",
     "traceback": [
      "\u001B[1;31m---------------------------------------------------------------------------\u001B[0m",
      "\u001B[1;31mTypeError\u001B[0m                                 Traceback (most recent call last)",
      "Input \u001B[1;32mIn [29]\u001B[0m, in \u001B[0;36m<cell line: 18>\u001B[1;34m()\u001B[0m\n\u001B[0;32m     15\u001B[0m \u001B[38;5;28;01mif\u001B[39;00m \u001B[38;5;18m__name__\u001B[39m \u001B[38;5;241m==\u001B[39m \u001B[38;5;124m'\u001B[39m\u001B[38;5;124m__main__\u001B[39m\u001B[38;5;124m'\u001B[39m: \u001B[38;5;66;03m# 固定\u001B[39;00m\n\u001B[0;32m     16\u001B[0m     m()\n\u001B[1;32m---> 18\u001B[0m \u001B[43mStudent\u001B[49m\u001B[38;5;241;43m.\u001B[39;49m\u001B[43mstudy\u001B[49m\u001B[43m(\u001B[49m\u001B[38;5;124;43m\"\u001B[39;49m\u001B[38;5;124;43m1\u001B[39;49m\u001B[38;5;124;43m\"\u001B[39;49m\u001B[43m)\u001B[49m\n",
      "\u001B[1;31mTypeError\u001B[0m: Student.study() missing 1 required positional argument: 'course_name'"
     ]
    }
   ],
   "source": [
    "def m(): # 固定\n",
    "    # 创建学生对象并指定姓名和年龄\n",
    "    stu1 = Student('骆昊', 38)\n",
    "    # 给对象发study消息 = 调用stu1对象中的study函数\n",
    "    stu1.study('Python程序设计')\n",
    "    # 给对象发watch_movie消息 = 调用stu1对象中的watch_movie函数\n",
    "    stu1.watch_movie()\n",
    "\n",
    "    # 创建另一个对象 并指定姓名和年龄\n",
    "    stu2 = Student('王大锤', 15)\n",
    "    stu2.study('思想品德') # # 给对象发study消息 = 调用stu1对象中的study函数\n",
    "    stu2.watch_movie() # # 给对象发watch_movie消息 = 调用stu1对象中的watch_movie函数\n",
    "\n",
    "\n",
    "if __name__ == '__main__': # 固定\n",
    "    m()\n"
   ],
   "metadata": {
    "collapsed": false,
    "pycharm": {
     "name": "#%%\n"
    }
   }
  },
  {
   "cell_type": "code",
   "execution_count": 6,
   "outputs": [
    {
     "name": "stdout",
     "output_type": "stream",
     "text": [
      "1\n"
     ]
    }
   ],
   "source": [
    "# 统计词频\n",
    "colors = ['red', 'blue', 'red', 'green', 'blue', 'blue']\n",
    "result = {'red':1}\n",
    "\n",
    "result.get('red')\n",
    "print(result['red'])"
   ],
   "metadata": {
    "collapsed": false,
    "pycharm": {
     "name": "#%%\n"
    }
   }
  },
  {
   "cell_type": "code",
   "execution_count": 7,
   "outputs": [
    {
     "name": "stdout",
     "output_type": "stream",
     "text": [
      "{'red': 2, 'blue': 3, 'green': 1}\n"
     ]
    }
   ],
   "source": [
    "# 统计词频\n",
    "colors = ['red', 'blue', 'red', 'green', 'blue', 'blue']\n",
    "result = {}\n",
    "for color in colors:\n",
    "    if result.get(color) is None:\n",
    "        result[color] = 1\n",
    "    else:\n",
    "        result[color] += 1\n",
    "print (result)\n",
    "#{'red': 2, 'blue': 3, 'green': 1}\n"
   ],
   "metadata": {
    "collapsed": false,
    "pycharm": {
     "name": "#%%\n"
    }
   }
  },
  {
   "cell_type": "markdown",
   "source": [],
   "metadata": {
    "collapsed": false,
    "pycharm": {
     "name": "#%% md\n"
    }
   }
  },
  {
   "cell_type": "code",
   "execution_count": 53,
   "outputs": [
    {
     "name": "stdout",
     "output_type": "stream",
     "text": [
      "{'red': 2, 'blue': 3, 'green': 1}\n",
      "Counter()\n"
     ]
    }
   ],
   "source": [
    "import collections\n",
    "from collections import Counter\n",
    "colors = ['red', 'blue', 'red', 'green', 'blue', 'blue']\n",
    "c = Counter(colors)\n",
    "print (dict(c))\n",
    "\n",
    "m = collections.Counter()\n",
    "print(m)"
   ],
   "metadata": {
    "collapsed": false,
    "pycharm": {
     "name": "#%%\n"
    }
   }
  },
  {
   "cell_type": "code",
   "execution_count": 54,
   "outputs": [
    {
     "data": {
      "text/plain": "Counter({'red': 2, 'blue': 3, 'green': 1})"
     },
     "execution_count": 54,
     "metadata": {},
     "output_type": "execute_result"
    }
   ],
   "source": [
    "for i in colors:\n",
    "    m[i] += 1\n",
    "\n",
    "m\n"
   ],
   "metadata": {
    "collapsed": false,
    "pycharm": {
     "name": "#%%\n"
    }
   }
  },
  {
   "cell_type": "code",
   "execution_count": 55,
   "outputs": [
    {
     "data": {
      "text/plain": "2"
     },
     "execution_count": 55,
     "metadata": {},
     "output_type": "execute_result"
    }
   ],
   "source": [
    "m.pop(\"red\")"
   ],
   "metadata": {
    "collapsed": false,
    "pycharm": {
     "name": "#%%\n"
    }
   }
  },
  {
   "cell_type": "code",
   "execution_count": 56,
   "outputs": [
    {
     "data": {
      "text/plain": "Counter({'blue': 3, 'green': 1})"
     },
     "execution_count": 56,
     "metadata": {},
     "output_type": "execute_result"
    }
   ],
   "source": [
    "m"
   ],
   "metadata": {
    "collapsed": false,
    "pycharm": {
     "name": "#%%\n"
    }
   }
  },
  {
   "cell_type": "code",
   "execution_count": 26,
   "outputs": [
    {
     "data": {
      "text/plain": "True"
     },
     "execution_count": 26,
     "metadata": {},
     "output_type": "execute_result"
    }
   ],
   "source": [
    "(b := 2 < 9)"
   ],
   "metadata": {
    "collapsed": false,
    "pycharm": {
     "name": "#%%\n"
    }
   }
  },
  {
   "cell_type": "code",
   "execution_count": 40,
   "outputs": [
    {
     "name": "stdout",
     "output_type": "stream",
     "text": [
      "[4, 5, 6, 7]\n",
      "[1, 2, 3, 4, 5]\n",
      "[4, 5]\n"
     ]
    }
   ],
   "source": [
    "from typing import List\n",
    "\n",
    "\n",
    "class Solution:\n",
    "    def intersect(self, nums1: List[int], nums2: List[int]) -> List[int]:\n",
    "        if len(nums1) > len(nums2):\n",
    "            return self.intersect(nums2, nums1)\n",
    "        print(nums1)\n",
    "        print(nums2)\n",
    "\n",
    "        m = collections.Counter()\n",
    "        for num in nums1:\n",
    "            m[num] += 1\n",
    "\n",
    "        intersection = list()\n",
    "        for num in nums2:\n",
    "            if (count := m.get(num, 0)) > 0:\n",
    "                intersection.append(num)\n",
    "                m[num] -= 1\n",
    "                if m[num] == 0:\n",
    "                    m.pop(num)\n",
    "\n",
    "        return intersection\n",
    "\n",
    "\n",
    "def main():\n",
    "    nums1 = [1,2,3,4,5]\n",
    "    nums2 = [4,5,6,7]\n",
    "    test1 = Solution()\n",
    "    print(test1.intersect(nums1,nums2))\n",
    "\n",
    "if __name__ == '__main__': # 固定\n",
    "    main()"
   ],
   "metadata": {
    "collapsed": false,
    "pycharm": {
     "name": "#%%\n"
    }
   }
  },
  {
   "cell_type": "code",
   "execution_count": 21,
   "outputs": [],
   "source": [
    "import collections\n",
    "from collections import Counter\n",
    "colors = ['red', 'blue', 'red', 'green', 'blue', 'blue']\n",
    "c = Counter(colors)"
   ],
   "metadata": {
    "collapsed": false,
    "pycharm": {
     "name": "#%%\n"
    }
   }
  },
  {
   "cell_type": "code",
   "execution_count": 22,
   "outputs": [
    {
     "data": {
      "text/plain": "2"
     },
     "execution_count": 22,
     "metadata": {},
     "output_type": "execute_result"
    }
   ],
   "source": [
    "c.get(\"red\")"
   ],
   "metadata": {
    "collapsed": false,
    "pycharm": {
     "name": "#%%\n"
    }
   }
  },
  {
   "cell_type": "code",
   "execution_count": 23,
   "outputs": [
    {
     "ename": "TypeError",
     "evalue": "list indices must be integers or slices, not str",
     "output_type": "error",
     "traceback": [
      "\u001B[1;31m---------------------------------------------------------------------------\u001B[0m",
      "\u001B[1;31mTypeError\u001B[0m                                 Traceback (most recent call last)",
      "Input \u001B[1;32mIn [23]\u001B[0m, in \u001B[0;36m<cell line: 1>\u001B[1;34m()\u001B[0m\n\u001B[1;32m----> 1\u001B[0m Counter(\u001B[43mcolors\u001B[49m\u001B[43m[\u001B[49m\u001B[38;5;124;43m\"\u001B[39;49m\u001B[38;5;124;43mred\u001B[39;49m\u001B[38;5;124;43m\"\u001B[39;49m\u001B[43m]\u001B[49m)\n",
      "\u001B[1;31mTypeError\u001B[0m: list indices must be integers or slices, not str"
     ]
    }
   ],
   "source": [
    "Counter(colors[\"red\"])"
   ],
   "metadata": {
    "collapsed": false,
    "pycharm": {
     "name": "#%%\n"
    }
   }
  },
  {
   "cell_type": "code",
   "execution_count": 27,
   "outputs": [],
   "source": [
    "colors.remove(\"red\")"
   ],
   "metadata": {
    "collapsed": false,
    "pycharm": {
     "name": "#%%\n"
    }
   }
  },
  {
   "cell_type": "code",
   "execution_count": 29,
   "outputs": [
    {
     "name": "stdout",
     "output_type": "stream",
     "text": [
      "None\n"
     ]
    }
   ],
   "source": [
    "print(colors.remove(\"blue\"))"
   ],
   "metadata": {
    "collapsed": false,
    "pycharm": {
     "name": "#%%\n"
    }
   }
  },
  {
   "cell_type": "code",
   "execution_count": 31,
   "outputs": [
    {
     "data": {
      "text/plain": "[1, 3, 4, 0, 0]"
     },
     "execution_count": 31,
     "metadata": {},
     "output_type": "execute_result"
    }
   ],
   "source": [
    "nums = [1,3,4]\n",
    "nums + [0] * 2"
   ],
   "metadata": {
    "collapsed": false,
    "pycharm": {
     "name": "#%%\n"
    }
   }
  },
  {
   "cell_type": "code",
   "execution_count": 42,
   "outputs": [
    {
     "name": "stdout",
     "output_type": "stream",
     "text": [
      "[1, 1, 1, 2]\n"
     ]
    },
    {
     "ename": "IndexError",
     "evalue": "list index out of range",
     "output_type": "error",
     "traceback": [
      "\u001B[1;31m---------------------------------------------------------------------------\u001B[0m",
      "\u001B[1;31mIndexError\u001B[0m                                Traceback (most recent call last)",
      "Input \u001B[1;32mIn [42]\u001B[0m, in \u001B[0;36m<cell line: 4>\u001B[1;34m()\u001B[0m\n\u001B[0;32m      3\u001B[0m \u001B[38;5;28mprint\u001B[39m(nums)\n\u001B[0;32m      4\u001B[0m \u001B[38;5;28;01mfor\u001B[39;00m i \u001B[38;5;129;01min\u001B[39;00m \u001B[38;5;28mrange\u001B[39m(\u001B[38;5;241m4\u001B[39m):\n\u001B[1;32m----> 5\u001B[0m     \u001B[38;5;28;01mif\u001B[39;00m \u001B[43mnums\u001B[49m\u001B[43m[\u001B[49m\u001B[43mi\u001B[49m\u001B[43m]\u001B[49m \u001B[38;5;241m==\u001B[39m \u001B[38;5;241m1\u001B[39m:\n\u001B[0;32m      6\u001B[0m         counts \u001B[38;5;241m+\u001B[39m\u001B[38;5;241m=\u001B[39m \u001B[38;5;241m1\u001B[39m\n\u001B[0;32m      7\u001B[0m         nums\u001B[38;5;241m.\u001B[39mremove(\u001B[38;5;241m1\u001B[39m)\n",
      "\u001B[1;31mIndexError\u001B[0m: list index out of range"
     ]
    }
   ],
   "source": [
    "nums = [1,1,1,2]\n",
    "counts = 0\n",
    "print(nums)\n",
    "for i in nums:\n",
    "    if i == 1:\n",
    "        counts += 1\n",
    "        nums.remove(1)\n",
    "nums"
   ],
   "metadata": {
    "collapsed": false,
    "pycharm": {
     "name": "#%%\n"
    }
   }
  },
  {
   "cell_type": "code",
   "execution_count": 43,
   "outputs": [
    {
     "data": {
      "text/plain": "False"
     },
     "execution_count": 43,
     "metadata": {},
     "output_type": "execute_result"
    }
   ],
   "source": [
    "5 in nums"
   ],
   "metadata": {
    "collapsed": false,
    "pycharm": {
     "name": "#%%\n"
    }
   }
  },
  {
   "cell_type": "code",
   "execution_count": null,
   "outputs": [],
   "source": [
    "[1,0,0,3,0,5]"
   ],
   "metadata": {
    "collapsed": false,
    "pycharm": {
     "name": "#%%\n"
    }
   }
  },
  {
   "cell_type": "code",
   "execution_count": 46,
   "outputs": [
    {
     "name": "stdout",
     "output_type": "stream",
     "text": [
      "0\n",
      "1\n",
      "2\n",
      "3\n"
     ]
    }
   ],
   "source": [
    "l = [0,1,2,3]\n",
    "for i in range(len(l)):\n",
    "    print(i)\n",
    "    i += 20"
   ],
   "metadata": {
    "collapsed": false,
    "pycharm": {
     "name": "#%%\n"
    }
   }
  },
  {
   "cell_type": "code",
   "execution_count": 62,
   "outputs": [
    {
     "name": "stdout",
     "output_type": "stream",
     "text": [
      "l: 10\n",
      "p: 10\n",
      "l: 100\n",
      "p: 10\n",
      "l: 1000\n",
      "p: 10\n",
      "l: 10000\n",
      "p: 10\n"
     ]
    }
   ],
   "source": [
    "l = [10,100,1000,10000]\n",
    "a = [10,2,3,1]\n",
    "for i in range(len(l)):\n",
    "    print(\"l:\",l[i])\n",
    "    for p in a:\n",
    "        print(\"p:\",p)\n",
    "        if p == 10:\n",
    "            break"
   ],
   "metadata": {
    "collapsed": false,
    "pycharm": {
     "name": "#%%\n"
    }
   }
  },
  {
   "cell_type": "code",
   "execution_count": null,
   "outputs": [],
   "source": [
    "for i, num in enumerate(l):\n",
    "    print(\"i:\",i)\n",
    "    print(\"num:\",num)"
   ],
   "metadata": {
    "collapsed": false,
    "pycharm": {
     "name": "#%%\n",
     "is_executing": true
    }
   }
  },
  {
   "cell_type": "code",
   "execution_count": 1,
   "outputs": [
    {
     "data": {
      "text/plain": "[[0, 0, 0, 0, 0, 0, 0, 0, 0],\n [0, 0, 0, 0, 0, 0, 0, 0, 0],\n [0, 0, 0, 0, 0, 0, 0, 0, 0],\n [0, 0, 0, 0, 0, 0, 0, 0, 0],\n [0, 0, 0, 0, 0, 0, 0, 0, 0],\n [0, 0, 0, 0, 0, 0, 0, 0, 0],\n [0, 0, 0, 0, 0, 0, 0, 0, 0],\n [0, 0, 0, 0, 0, 0, 0, 0, 0],\n [0, 0, 0, 0, 0, 0, 0, 0, 0]]"
     },
     "execution_count": 1,
     "metadata": {},
     "output_type": "execute_result"
    }
   ],
   "source": [
    "[[0] * 9 for _ in range(9)]"
   ],
   "metadata": {
    "collapsed": false,
    "pycharm": {
     "name": "#%%\n"
    }
   }
  },
  {
   "cell_type": "code",
   "execution_count": 4,
   "outputs": [
    {
     "data": {
      "text/plain": "[[[0, 0, 0, 0, 0, 0, 0, 0, 0],\n  [0, 0, 0, 0, 0, 0, 0, 0, 0],\n  [0, 0, 0, 0, 0, 0, 0, 0, 0]],\n [[0, 0, 0, 0, 0, 0, 0, 0, 0],\n  [0, 0, 0, 0, 0, 0, 0, 0, 0],\n  [0, 0, 0, 0, 0, 0, 0, 0, 0]],\n [[0, 0, 0, 0, 0, 0, 0, 0, 0],\n  [0, 0, 0, 0, 0, 0, 0, 0, 0],\n  [0, 0, 0, 0, 0, 0, 0, 0, 0]]]"
     },
     "execution_count": 4,
     "metadata": {},
     "output_type": "execute_result"
    }
   ],
   "source": [
    "subboxes = [[[0] * 9 for _ in range(3)] for _ in range(3)]\n",
    "subboxes"
   ],
   "metadata": {
    "collapsed": false,
    "pycharm": {
     "name": "#%%\n"
    }
   }
  },
  {
   "cell_type": "code",
   "execution_count": null,
   "outputs": [],
   "source": [
    "class Solution:\n",
    "    def isValidSudoku(self, board: List[List[str]]) -> bool:\n",
    "        \"\"\" 1.判断每一行是否有重复的数字\n",
    "                1.把列表中除“.”以外的值存到新的列表中\n",
    "                2.把列表转化为集合，比较列表与集合的长度，如果不一样说明有重复值,即该行数独无效\n",
    "            2.判断每一列是否有重复的数字\n",
    "                1.把每一个列表中的第1个值存到新的列表，把每一个列表中的第2个值存到新的列表....\n",
    "                    .一直到第九个值\n",
    "                2.把列表转化为集合，比较列表与集合的长度，如果不一样说明有重复值,即该行数独无效\n",
    "            3.判断3*3宫内有无重复数字\n",
    "                1.把\n",
    "        \"\"\"\n",
    "        for line in board:\n",
    "            linelist = [i for i in line if i != \".\"]\n",
    "            if len(linelist) == len(set(linelist)):\n",
    "                line_valid = True\n",
    "            else:\n",
    "                line_valid = False\n",
    "                break\n",
    "\n",
    "        n = 0\n",
    "        while n < 9:\n",
    "            collist = [i[n] for i in board if i[n] != \".\"]\n",
    "            print(\"collist:\",collist)\n",
    "            if len(collist) == len(set(collist)):\n",
    "                col_valid = True\n",
    "            else:\n",
    "                col_valid = False\n",
    "                break\n",
    "            n += 1\n",
    "\n",
    "\n"
   ],
   "metadata": {
    "collapsed": false,
    "pycharm": {
     "name": "#%%\n"
    }
   }
  },
  {
   "cell_type": "code",
   "execution_count": 16,
   "outputs": [
    {
     "name": "stdout",
     "output_type": "stream",
     "text": [
      "subboxes: [[[0, 0, 0, 0, 1, 0, 0, 0, 0], [0, 0, 0, 0, 0, 0, 0, 0, 0], [0, 0, 0, 0, 0, 0, 0, 0, 0]], [[0, 0, 0, 0, 0, 0, 0, 0, 0], [0, 0, 0, 0, 0, 0, 0, 0, 0], [0, 0, 0, 0, 0, 0, 0, 0, 0]], [[0, 0, 0, 0, 0, 0, 0, 0, 0], [0, 0, 0, 0, 0, 0, 0, 0, 0], [0, 0, 0, 0, 0, 0, 0, 0, 0]]]\n",
      "subboxes: [[[0, 0, 1, 0, 1, 0, 0, 0, 0], [0, 0, 0, 0, 0, 0, 0, 0, 0], [0, 0, 0, 0, 0, 0, 0, 0, 0]], [[0, 0, 0, 0, 0, 0, 0, 0, 0], [0, 0, 0, 0, 0, 0, 0, 0, 0], [0, 0, 0, 0, 0, 0, 0, 0, 0]], [[0, 0, 0, 0, 0, 0, 0, 0, 0], [0, 0, 0, 0, 0, 0, 0, 0, 0], [0, 0, 0, 0, 0, 0, 0, 0, 0]]]\n",
      "subboxes: [[[0, 0, 1, 0, 1, 0, 0, 0, 1], [0, 0, 0, 0, 0, 0, 0, 0, 0], [0, 0, 0, 0, 0, 0, 0, 0, 0]], [[0, 0, 0, 0, 0, 0, 0, 0, 0], [0, 0, 0, 0, 0, 0, 0, 0, 0], [0, 0, 0, 0, 0, 0, 0, 0, 0]], [[0, 0, 0, 0, 0, 0, 0, 0, 0], [0, 0, 0, 0, 0, 0, 0, 0, 0], [0, 0, 0, 0, 0, 0, 0, 0, 0]]]\n",
      "subboxes: [[[0, 0, 1, 0, 1, 0, 0, 0, 1], [0, 0, 0, 0, 0, 0, 1, 0, 0], [0, 0, 0, 0, 0, 0, 0, 0, 0]], [[0, 0, 0, 0, 0, 0, 0, 0, 0], [0, 0, 0, 0, 0, 0, 0, 0, 0], [0, 0, 0, 0, 0, 0, 0, 0, 0]], [[0, 0, 0, 0, 0, 0, 0, 0, 0], [0, 0, 0, 0, 0, 0, 0, 0, 0], [0, 0, 0, 0, 0, 0, 0, 0, 0]]]\n",
      "subboxes: [[[0, 0, 1, 0, 1, 1, 0, 0, 1], [0, 0, 0, 0, 0, 0, 1, 0, 0], [0, 0, 0, 0, 0, 0, 0, 0, 0]], [[0, 0, 0, 0, 0, 0, 0, 0, 0], [0, 0, 0, 0, 0, 0, 0, 0, 0], [0, 0, 0, 0, 0, 0, 0, 0, 0]], [[0, 0, 0, 0, 0, 0, 0, 0, 0], [0, 0, 0, 0, 0, 0, 0, 0, 0], [0, 0, 0, 0, 0, 0, 0, 0, 0]]]\n",
      "subboxes: [[[0, 0, 1, 0, 1, 1, 0, 0, 1], [1, 0, 0, 0, 0, 0, 1, 0, 0], [0, 0, 0, 0, 0, 0, 0, 0, 0]], [[0, 0, 0, 0, 0, 0, 0, 0, 0], [0, 0, 0, 0, 0, 0, 0, 0, 0], [0, 0, 0, 0, 0, 0, 0, 0, 0]], [[0, 0, 0, 0, 0, 0, 0, 0, 0], [0, 0, 0, 0, 0, 0, 0, 0, 0], [0, 0, 0, 0, 0, 0, 0, 0, 0]]]\n",
      "subboxes: [[[0, 0, 1, 0, 1, 1, 0, 0, 1], [1, 0, 0, 0, 0, 0, 1, 0, 1], [0, 0, 0, 0, 0, 0, 0, 0, 0]], [[0, 0, 0, 0, 0, 0, 0, 0, 0], [0, 0, 0, 0, 0, 0, 0, 0, 0], [0, 0, 0, 0, 0, 0, 0, 0, 0]], [[0, 0, 0, 0, 0, 0, 0, 0, 0], [0, 0, 0, 0, 0, 0, 0, 0, 0], [0, 0, 0, 0, 0, 0, 0, 0, 0]]]\n",
      "subboxes: [[[0, 0, 1, 0, 1, 1, 0, 0, 1], [1, 0, 0, 0, 1, 0, 1, 0, 1], [0, 0, 0, 0, 0, 0, 0, 0, 0]], [[0, 0, 0, 0, 0, 0, 0, 0, 0], [0, 0, 0, 0, 0, 0, 0, 0, 0], [0, 0, 0, 0, 0, 0, 0, 0, 0]], [[0, 0, 0, 0, 0, 0, 0, 0, 0], [0, 0, 0, 0, 0, 0, 0, 0, 0], [0, 0, 0, 0, 0, 0, 0, 0, 0]]]\n",
      "subboxes: [[[0, 0, 1, 0, 1, 1, 0, 0, 2], [1, 0, 0, 0, 1, 0, 1, 0, 1], [0, 0, 0, 0, 0, 0, 0, 0, 0]], [[0, 0, 0, 0, 0, 0, 0, 0, 0], [0, 0, 0, 0, 0, 0, 0, 0, 0], [0, 0, 0, 0, 0, 0, 0, 0, 0]], [[0, 0, 0, 0, 0, 0, 0, 0, 0], [0, 0, 0, 0, 0, 0, 0, 0, 0], [0, 0, 0, 0, 0, 0, 0, 0, 0]]]\n"
     ]
    }
   ],
   "source": [
    "class Solution:\n",
    "    def isValidSudoku(self, board):\n",
    "        # 1、先生成三个数组\n",
    "        rows = [[0] * 9 for _ in range(9)]\n",
    "        columns = [[0] * 9 for _ in range(9)]\n",
    "        subboxes = [[[0] * 9 for _ in range(3)] for _ in range(3)]\n",
    "        # 遍历行\n",
    "        for i in range(9):\n",
    "            for j in range(9):\n",
    "                c = board[i][j]\n",
    "                if c != '.':\n",
    "                    c = int(c) - 1\n",
    "                    rows[i][c] += 1\n",
    "                    # print(\"rows:\",rows)\n",
    "                    columns[j][c] += 1\n",
    "                    # print(\"columns:\",columns)\n",
    "                    subboxes[int(i/3)][int(j/3)][c] += 1\n",
    "                    print(\"subboxes:\",subboxes)\n",
    "                    if rows[i][c] > 1 or columns[j][c]>1 or subboxes[int(i/3)][int(j/3)][c]>1:\n",
    "                        return False\n",
    "        return True\n",
    "\n",
    "def main():\n",
    "    test = Solution()\n",
    "    test_list = [[\"5\",\"3\",\"9\",\".\",\"7\",\".\",\".\",\".\",\".\"],[\"6\",\".\",\".\",\"1\",\"9\",\"5\",\".\",\".\",\".\"],[\".\",\"9\",\"8\",\".\",\".\",\".\",\".\",\"6\",\".\"],[\"8\",\".\",\".\",\".\",\"6\",\".\",\".\",\".\",\"3\"],[\"4\",\".\",\".\",\"8\",\".\",\"3\",\".\",\".\",\"1\"],[\"7\",\".\",\".\",\".\",\"2\",\".\",\".\",\".\",\"6\"],[\".\",\"6\",\".\",\".\",\".\",\".\",\"2\",\"8\",\".\"],[\".\",\".\",\".\",\"4\",\"1\",\"9\",\".\",\".\",\"5\"],[\".\",\".\",\".\",\".\",\"8\",\".\",\".\",\"7\",\"9\"]]\n",
    "    test.isValidSudoku(test_list)\n",
    "\n",
    "if __name__ == '__main__': # 固定\n",
    "    main()"
   ],
   "metadata": {
    "collapsed": false,
    "pycharm": {
     "name": "#%%\n"
    }
   }
  },
  {
   "cell_type": "code",
   "execution_count": 11,
   "outputs": [
    {
     "data": {
      "text/plain": "True"
     },
     "execution_count": 11,
     "metadata": {},
     "output_type": "execute_result"
    }
   ],
   "source": [
    "int(5/3) ==5 // 3"
   ],
   "metadata": {
    "collapsed": false,
    "pycharm": {
     "name": "#%%\n"
    }
   }
  },
  {
   "cell_type": "code",
   "execution_count": 12,
   "outputs": [
    {
     "data": {
      "text/plain": "1"
     },
     "execution_count": 12,
     "metadata": {},
     "output_type": "execute_result"
    }
   ],
   "source": [
    "int(5/3)"
   ],
   "metadata": {
    "collapsed": false,
    "pycharm": {
     "name": "#%%\n"
    }
   }
  },
  {
   "cell_type": "code",
   "execution_count": 6,
   "outputs": [
    {
     "data": {
      "text/plain": "[4, 2]"
     },
     "execution_count": 6,
     "metadata": {},
     "output_type": "execute_result"
    }
   ],
   "source": [
    "s = [1,2,3,4]\n",
    "s[::-2]"
   ],
   "metadata": {
    "collapsed": false,
    "pycharm": {
     "name": "#%%\n"
    }
   }
  },
  {
   "cell_type": "code",
   "execution_count": 2,
   "outputs": [
    {
     "data": {
      "text/plain": "[4, 3, 2, 1]"
     },
     "execution_count": 2,
     "metadata": {},
     "output_type": "execute_result"
    }
   ],
   "source": [
    "s"
   ],
   "metadata": {
    "collapsed": false,
    "pycharm": {
     "name": "#%%\n"
    }
   }
  },
  {
   "cell_type": "code",
   "execution_count": 4,
   "outputs": [
    {
     "data": {
      "text/plain": "4321"
     },
     "execution_count": 4,
     "metadata": {},
     "output_type": "execute_result"
    }
   ],
   "source": [
    "a = \"12340\"\n",
    "a = a[::-1]\n",
    "int(a)"
   ],
   "metadata": {
    "collapsed": false,
    "pycharm": {
     "name": "#%%\n"
    }
   }
  },
  {
   "cell_type": "code",
   "execution_count": 7,
   "outputs": [
    {
     "data": {
      "text/plain": "-123"
     },
     "execution_count": 7,
     "metadata": {},
     "output_type": "execute_result"
    }
   ],
   "source": [
    "int(\"-0123\")"
   ],
   "metadata": {
    "collapsed": false,
    "pycharm": {
     "name": "#%%\n"
    }
   }
  },
  {
   "cell_type": "code",
   "execution_count": 8,
   "outputs": [
    {
     "data": {
      "text/plain": "'-123'"
     },
     "execution_count": 8,
     "metadata": {},
     "output_type": "execute_result"
    }
   ],
   "source": [
    "str(-123)"
   ],
   "metadata": {
    "collapsed": false,
    "pycharm": {
     "name": "#%%\n"
    }
   }
  },
  {
   "cell_type": "code",
   "execution_count": 9,
   "outputs": [
    {
     "data": {
      "text/plain": "4"
     },
     "execution_count": 9,
     "metadata": {},
     "output_type": "execute_result"
    }
   ],
   "source": [
    "2**2"
   ],
   "metadata": {
    "collapsed": false,
    "pycharm": {
     "name": "#%%\n"
    }
   }
  },
  {
   "cell_type": "code",
   "execution_count": 10,
   "outputs": [
    {
     "data": {
      "text/plain": "False"
     },
     "execution_count": 10,
     "metadata": {},
     "output_type": "execute_result"
    }
   ],
   "source": [
    "1534236469 >= 2**31 -1"
   ],
   "metadata": {
    "collapsed": false,
    "pycharm": {
     "name": "#%%\n"
    }
   }
  },
  {
   "cell_type": "code",
   "execution_count": 15,
   "outputs": [],
   "source": [
    "s = \"dddccdbba\""
   ],
   "metadata": {
    "collapsed": false,
    "pycharm": {
     "name": "#%%\n"
    }
   }
  },
  {
   "cell_type": "code",
   "execution_count": 21,
   "outputs": [],
   "source": [
    "def firstUniqChar( s: str) -> int:\n",
    "        n = 0\n",
    "        dic = dict()\n",
    "        for i in s:\n",
    "            dic[i] = n\n",
    "            n += 1\n",
    "        print(dic)\n",
    "        m = 0\n",
    "        for i in dic.values():\n",
    "            if i == m:\n",
    "                return i\n",
    "            else:\n",
    "                m += i\n",
    "        print(m)\n",
    "        if m == len(s):\n",
    "            return -1"
   ],
   "metadata": {
    "collapsed": false,
    "pycharm": {
     "name": "#%%\n"
    }
   }
  },
  {
   "cell_type": "code",
   "execution_count": 22,
   "outputs": [
    {
     "name": "stdout",
     "output_type": "stream",
     "text": [
      "{'d': 5, 'c': 4, 'b': 7, 'a': 8}\n",
      "24\n"
     ]
    }
   ],
   "source": [
    "firstUniqChar(s)"
   ],
   "metadata": {
    "collapsed": false,
    "pycharm": {
     "name": "#%%\n"
    }
   }
  },
  {
   "cell_type": "code",
   "execution_count": 25,
   "outputs": [],
   "source": [
    "import collections\n",
    "frequency = collections.Counter(s)"
   ],
   "metadata": {
    "collapsed": false,
    "pycharm": {
     "name": "#%%\n"
    }
   }
  },
  {
   "cell_type": "code",
   "execution_count": 2,
   "outputs": [],
   "source": [
    "INT_MAX = 2 ** 31 - 1\n",
    "INT_MIN = -2 ** 31\n",
    "\n",
    "class Automaton:\n",
    "    def __init__(self):\n",
    "        self.state = 'start'\n",
    "        self.sign = 1\n",
    "        self.ans = 0\n",
    "        self.table = {\n",
    "            'start': ['start', 'signed', 'in_number', 'end'],\n",
    "            'signed': ['end', 'end', 'in_number', 'end'],\n",
    "            'in_number': ['end', 'end', 'in_number', 'end'],\n",
    "            'end': ['end', 'end', 'end', 'end'],\n",
    "        }\n",
    "\n",
    "    def get_col(self, c): # 用于确定状态表的列\n",
    "        if c.isspace(): # 判断空格\n",
    "            return 0\n",
    "        if c == '+' or c == '-':\n",
    "            return 1\n",
    "        if c.isdigit(): # 判断数字\n",
    "            return 2\n",
    "        return 3\n",
    "\n",
    "    def get(self, c):\n",
    "        self.state = self.table[self.state][self.get_col(c)]\n",
    "        if self.state == 'in_number':\n",
    "            self.ans = self.ans * 10 + int(c)\n",
    "            self.ans = min(self.ans, INT_MAX) if self.sign == 1 else min(self.ans, -INT_MIN)\n",
    "        elif self.state == 'signed':\n",
    "            self.sign = 1 if c == '+' else -1\n",
    "\n",
    "class Solution:\n",
    "    def myAtoi(self, str: str) -> int:\n",
    "        automaton = Automaton()\n",
    "        for c in str:\n",
    "            automaton.get(c)\n",
    "        return automaton.sign * automaton.ans\n"
   ],
   "metadata": {
    "collapsed": false,
    "pycharm": {
     "name": "#%%\n"
    }
   }
  },
  {
   "cell_type": "code",
   "execution_count": 9,
   "outputs": [
    {
     "name": "stdout",
     "output_type": "stream",
     "text": [
      "0\n"
     ]
    }
   ],
   "source": [
    "def main():\n",
    "    test = Solution()\n",
    "    print(test.myAtoi(\"-a42\"))\n",
    "\n",
    "if __name__ == '__main__': # 固定\n",
    "    main()"
   ],
   "metadata": {
    "collapsed": false,
    "pycharm": {
     "name": "#%%\n"
    }
   }
  },
  {
   "cell_type": "code",
   "execution_count": 28,
   "outputs": [
    {
     "name": "stdout",
     "output_type": "stream",
     "text": [
      "42\n"
     ]
    }
   ],
   "source": [
    "INT_MAX = 2 ** 31 - 1\n",
    "INT_MIN = -2 ** 31\n",
    "\n",
    "\n",
    "class Automation:\n",
    "    \"\"\"自动机\"\"\"\n",
    "    def __init__(self):\n",
    "        \"\"\"初始化属性，1.设置初始状态 2.设置初始值 3.设置状态转换表\"\"\"\n",
    "        self.state = \"start\" # 自动机初始状态为\"start\"\n",
    "        self.sign = 1 # 正负标记符号为1\n",
    "        self.num = 0 # 初始数字为0\n",
    "        self.table = {\n",
    "            \"start\":[\"start\",\"signed\",\"in_number\",\"end\"],\n",
    "            \"signed\":[\"end\",\"end\",\"in_number\",\"end\"],\n",
    "            \"in_number\":[\"end\",\"end\",\"in_number\",\"end\"],\n",
    "            \"end\":[\"end\",\"end\",\"end\",\"end\"]\n",
    "        }\n",
    "        self.end_mark = 0\n",
    "    def get_new_state(self,cha):\n",
    "        row = self.table[self.state]\n",
    "        if cha.isspace():\n",
    "            self.state = row[0]\n",
    "        elif cha == \"+\" or cha == \"-\":\n",
    "            self.state = row[1]\n",
    "        elif cha.isdigit():\n",
    "            self.state = row[2]\n",
    "        else:\n",
    "            self.state = row[3]\n",
    "        return  self.state\n",
    "\n",
    "    def state_act(self,cha):\n",
    "        now_state = self.get_new_state(cha)\n",
    "        if now_state == \"start\":\n",
    "            pass\n",
    "        elif now_state == \"signed\":\n",
    "            self.sign = 1 if cha == \"+\" else -1\n",
    "        elif now_state == \"in_number\":\n",
    "            self.num = self.num * 10 + int(cha) # 数字字符串转数值没有正负\n",
    "        elif now_state == \"end\":\n",
    "            self.end_mark = 1\n",
    "\n",
    "\"\"\"\n",
    "    def get_num(self,input_str):\n",
    "        for i in input_str:\n",
    "            self.state_act(cha=i)\n",
    "            if self.end_mark == 1:\n",
    "                break\n",
    "        return min(self.num * self.sign,INT_MAX) if self.sign == 1 else max(INT_MIN,self.num * self.sign) \"\"\"\n",
    "\n",
    "\n",
    "class Solution:\n",
    "\n",
    "    def myAtoi(self, str: str) -> int:\n",
    "        auto = Automation()\n",
    "        for i in str:\n",
    "            auto.state_act(cha=i)\n",
    "            if auto.end_mark == 1:\n",
    "                break\n",
    "        return min(auto.num * auto.sign,INT_MAX) if auto.sign == 1 else max(INT_MIN,auto.num * auto.sign)\n",
    "\n",
    "\n",
    "def main():\n",
    "    test = Solution()\n",
    "    print(test.myAtoi(\"42\"))\n",
    "\n",
    "if __name__ == '__main__': # 固定\n",
    "    main()\n",
    "\n"
   ],
   "metadata": {
    "collapsed": false,
    "pycharm": {
     "name": "#%%\n"
    }
   }
  },
  {
   "cell_type": "code",
   "execution_count": 3,
   "outputs": [
    {
     "data": {
      "text/plain": "'ll'"
     },
     "execution_count": 3,
     "metadata": {},
     "output_type": "execute_result"
    }
   ],
   "source": [
    "haystack = \"hello\"\n",
    "needle = \"ll\"\n",
    "needle in haystack\n",
    "haystack[2:4]"
   ],
   "metadata": {
    "collapsed": false,
    "pycharm": {
     "name": "#%%\n"
    }
   }
  },
  {
   "cell_type": "code",
   "execution_count": 4,
   "outputs": [
    {
     "data": {
      "text/plain": "2"
     },
     "execution_count": 4,
     "metadata": {},
     "output_type": "execute_result"
    }
   ],
   "source": [
    "haystack.find(needle)"
   ],
   "metadata": {
    "collapsed": false,
    "pycharm": {
     "name": "#%%\n"
    }
   }
  },
  {
   "cell_type": "code",
   "execution_count": null,
   "outputs": [],
   "source": [],
   "metadata": {
    "collapsed": false,
    "pycharm": {
     "name": "#%%\n"
    }
   }
  }
 ],
 "metadata": {
  "kernelspec": {
   "display_name": "Python 3",
   "language": "python",
   "name": "python3"
  },
  "language_info": {
   "codemirror_mode": {
    "name": "ipython",
    "version": 2
   },
   "file_extension": ".py",
   "mimetype": "text/x-python",
   "name": "python",
   "nbconvert_exporter": "python",
   "pygments_lexer": "ipython2",
   "version": "2.7.6"
  }
 },
 "nbformat": 4,
 "nbformat_minor": 0
}