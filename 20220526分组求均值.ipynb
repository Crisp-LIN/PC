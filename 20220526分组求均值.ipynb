{
 "cells": [
  {
   "cell_type": "code",
   "execution_count": 1,
   "outputs": [],
   "source": [
    "import pandas as pd"
   ],
   "metadata": {
    "collapsed": false,
    "pycharm": {
     "name": "#%%\n"
    }
   }
  },
  {
   "cell_type": "code",
   "execution_count": 24,
   "outputs": [],
   "source": [
    "cazy = pd.read_excel(r'D:\\Work\\分析项目\\wxy\\正式结果整理\\16S+宏基因组\\丰度分析\\halla\\分组求均值.xlsx',sheet_name=0,\n",
    "                     header=None,index_col=0)\n",
    "\n",
    "kegg = pd.read_excel(r'D:\\Work\\分析项目\\wxy\\正式结果整理\\16S+宏基因组\\丰度分析\\halla\\分组求均值.xlsx',sheet_name=1,\n",
    "                     header=None,index_col=0)\n",
    "\n",
    "ASV = pd.read_excel(r'D:\\Work\\分析项目\\wxy\\正式结果整理\\16S+宏基因组\\丰度分析\\halla\\分组求均值.xlsx',sheet_name=2,\n",
    "                     header=None,index_col=0)"
   ],
   "metadata": {
    "collapsed": false,
    "pycharm": {
     "name": "#%%\n"
    }
   }
  },
  {
   "cell_type": "code",
   "execution_count": null,
   "outputs": [],
   "source": [
    "cazy.T"
   ],
   "metadata": {
    "collapsed": false,
    "pycharm": {
     "name": "#%%\n",
     "is_executing": true
    }
   }
  },
  {
   "cell_type": "code",
   "execution_count": 28,
   "outputs": [],
   "source": [
    "cazy_mean = cazy.T.groupby(\"#\").mean()\n",
    "cazy_mean.T.to_csv(r'D:\\Work\\分析项目\\wxy\\正式结果整理\\16S+宏基因组\\丰度分析\\halla\\cazy_mean.txt',sep=\"\\t\")"
   ],
   "metadata": {
    "collapsed": false,
    "pycharm": {
     "name": "#%%\n"
    }
   }
  },
  {
   "cell_type": "code",
   "execution_count": 29,
   "outputs": [],
   "source": [
    "kegg_mean = kegg.T.groupby(\"#\").mean()\n",
    "kegg_mean.T.to_csv(r'D:\\Work\\分析项目\\wxy\\正式结果整理\\16S+宏基因组\\丰度分析\\halla\\kegg_mean.txt',sep=\"\\t\")"
   ],
   "metadata": {
    "collapsed": false,
    "pycharm": {
     "name": "#%%\n"
    }
   }
  },
  {
   "cell_type": "code",
   "execution_count": 30,
   "outputs": [],
   "source": [
    "ASV_mean = ASV.T.groupby(\"#\").mean()\n",
    "ASV_mean.T.to_csv(r'D:\\Work\\分析项目\\wxy\\正式结果整理\\16S+宏基因组\\丰度分析\\halla\\ASV_mean.txt',sep=\"\\t\")"
   ],
   "metadata": {
    "collapsed": false,
    "pycharm": {
     "name": "#%%\n"
    }
   }
  },
  {
   "cell_type": "markdown",
   "source": [
    "###"
   ],
   "metadata": {
    "collapsed": false,
    "pycharm": {
     "name": "#%% md\n"
    }
   }
  },
  {
   "cell_type": "code",
   "execution_count": 22,
   "outputs": [
    {
     "data": {
      "text/plain": "                                         PathwayDetail       ND0       ND2  \\\nmap01100                            Metabolic pathways  0.083781  0.082902   \nmap01110         Biosynthesis of secondary metabolites  0.085126  0.085423   \nmap01120  Microbial metabolism in diverse environments  0.039491  0.040244   \nmap02010                              ABC transporters  0.012488  0.014054   \nmap02020                          Two-component system  0.016222  0.017221   \n...                                                ...       ...       ...   \nmap04728                          Dopaminergic synapse  0.000101  0.000107   \nmap01054               Nonribosomal peptide structures  0.000155  0.000158   \nmap05211                          Renal cell carcinoma  0.000109  0.000126   \nmap05204         Chemical carcinogenesis - DNA adducts  0.000105  0.000107   \nmap00908                           Zeatin biosynthesis  0.000837  0.000813   \n\n               ND7       XG2       XG7   ND2/ND0   ND7/ND0   XG2/ND0  \\\nmap01100  0.082976  0.083250  0.083359 -0.015215 -0.013930 -0.009164   \nmap01110  0.085661  0.085144  0.084927  0.005014  0.009024  0.000305   \nmap01120  0.040053  0.040252  0.040073  0.027253  0.020388  0.027528   \nmap02010  0.014552  0.014311  0.013535  0.170462  0.220668  0.196543   \nmap02020  0.018259  0.019886  0.019754  0.086254  0.170722  0.293813   \n...            ...       ...       ...       ...       ...       ...   \nmap04728  0.000105  0.000111  0.000104  0.080852  0.053655  0.128987   \nmap01054  0.000174  0.000167  0.000148  0.022438  0.166136  0.102513   \nmap05211  0.000129  0.000113  0.000116  0.216388  0.251937  0.051393   \nmap05204  0.000106  0.000142  0.000125  0.022921  0.015170  0.430034   \nmap00908  0.000828  0.000790  0.000812 -0.042120 -0.016716 -0.083093   \n\n           XG7/ND0   ND7/ND2   XG2/ND2   XG7/ND2   XG2/ND7   XG7/ND7   XG7/XG2  \nmap01100 -0.007287  0.001285  0.006051  0.007928  0.004766  0.006643  0.001877  \nmap01110 -0.003391  0.004010 -0.004709 -0.008406 -0.008719 -0.012415 -0.003697  \nmap01120  0.021094 -0.006865  0.000275 -0.006159  0.007140  0.000706 -0.006434  \nmap02010  0.116129  0.050206  0.026080 -0.054333 -0.024125 -0.104539 -0.080413  \nmap02020  0.284203  0.084468  0.207559  0.197949  0.123091  0.113481 -0.009611  \n...            ...       ...       ...       ...       ...       ...       ...  \nmap04728  0.042084 -0.027197  0.048135 -0.038769  0.075332 -0.011572 -0.086904  \nmap01054 -0.065109  0.143698  0.080074 -0.087547 -0.063624 -0.231245 -0.167622  \nmap05211  0.088413  0.035549 -0.164995 -0.127975 -0.200544 -0.163524  0.037020  \nmap05204  0.248253 -0.007752  0.407113  0.225332  0.414865  0.233084 -0.181781  \nmap00908 -0.044538  0.025405 -0.040973 -0.002417 -0.066378 -0.027822  0.038556  \n\n[310 rows x 16 columns]",
      "text/html": "<div>\n<style scoped>\n    .dataframe tbody tr th:only-of-type {\n        vertical-align: middle;\n    }\n\n    .dataframe tbody tr th {\n        vertical-align: top;\n    }\n\n    .dataframe thead th {\n        text-align: right;\n    }\n</style>\n<table border=\"1\" class=\"dataframe\">\n  <thead>\n    <tr style=\"text-align: right;\">\n      <th></th>\n      <th>PathwayDetail</th>\n      <th>ND0</th>\n      <th>ND2</th>\n      <th>ND7</th>\n      <th>XG2</th>\n      <th>XG7</th>\n      <th>ND2/ND0</th>\n      <th>ND7/ND0</th>\n      <th>XG2/ND0</th>\n      <th>XG7/ND0</th>\n      <th>ND7/ND2</th>\n      <th>XG2/ND2</th>\n      <th>XG7/ND2</th>\n      <th>XG2/ND7</th>\n      <th>XG7/ND7</th>\n      <th>XG7/XG2</th>\n    </tr>\n  </thead>\n  <tbody>\n    <tr>\n      <th>map01100</th>\n      <td>Metabolic pathways</td>\n      <td>0.083781</td>\n      <td>0.082902</td>\n      <td>0.082976</td>\n      <td>0.083250</td>\n      <td>0.083359</td>\n      <td>-0.015215</td>\n      <td>-0.013930</td>\n      <td>-0.009164</td>\n      <td>-0.007287</td>\n      <td>0.001285</td>\n      <td>0.006051</td>\n      <td>0.007928</td>\n      <td>0.004766</td>\n      <td>0.006643</td>\n      <td>0.001877</td>\n    </tr>\n    <tr>\n      <th>map01110</th>\n      <td>Biosynthesis of secondary metabolites</td>\n      <td>0.085126</td>\n      <td>0.085423</td>\n      <td>0.085661</td>\n      <td>0.085144</td>\n      <td>0.084927</td>\n      <td>0.005014</td>\n      <td>0.009024</td>\n      <td>0.000305</td>\n      <td>-0.003391</td>\n      <td>0.004010</td>\n      <td>-0.004709</td>\n      <td>-0.008406</td>\n      <td>-0.008719</td>\n      <td>-0.012415</td>\n      <td>-0.003697</td>\n    </tr>\n    <tr>\n      <th>map01120</th>\n      <td>Microbial metabolism in diverse environments</td>\n      <td>0.039491</td>\n      <td>0.040244</td>\n      <td>0.040053</td>\n      <td>0.040252</td>\n      <td>0.040073</td>\n      <td>0.027253</td>\n      <td>0.020388</td>\n      <td>0.027528</td>\n      <td>0.021094</td>\n      <td>-0.006865</td>\n      <td>0.000275</td>\n      <td>-0.006159</td>\n      <td>0.007140</td>\n      <td>0.000706</td>\n      <td>-0.006434</td>\n    </tr>\n    <tr>\n      <th>map02010</th>\n      <td>ABC transporters</td>\n      <td>0.012488</td>\n      <td>0.014054</td>\n      <td>0.014552</td>\n      <td>0.014311</td>\n      <td>0.013535</td>\n      <td>0.170462</td>\n      <td>0.220668</td>\n      <td>0.196543</td>\n      <td>0.116129</td>\n      <td>0.050206</td>\n      <td>0.026080</td>\n      <td>-0.054333</td>\n      <td>-0.024125</td>\n      <td>-0.104539</td>\n      <td>-0.080413</td>\n    </tr>\n    <tr>\n      <th>map02020</th>\n      <td>Two-component system</td>\n      <td>0.016222</td>\n      <td>0.017221</td>\n      <td>0.018259</td>\n      <td>0.019886</td>\n      <td>0.019754</td>\n      <td>0.086254</td>\n      <td>0.170722</td>\n      <td>0.293813</td>\n      <td>0.284203</td>\n      <td>0.084468</td>\n      <td>0.207559</td>\n      <td>0.197949</td>\n      <td>0.123091</td>\n      <td>0.113481</td>\n      <td>-0.009611</td>\n    </tr>\n    <tr>\n      <th>...</th>\n      <td>...</td>\n      <td>...</td>\n      <td>...</td>\n      <td>...</td>\n      <td>...</td>\n      <td>...</td>\n      <td>...</td>\n      <td>...</td>\n      <td>...</td>\n      <td>...</td>\n      <td>...</td>\n      <td>...</td>\n      <td>...</td>\n      <td>...</td>\n      <td>...</td>\n      <td>...</td>\n    </tr>\n    <tr>\n      <th>map04728</th>\n      <td>Dopaminergic synapse</td>\n      <td>0.000101</td>\n      <td>0.000107</td>\n      <td>0.000105</td>\n      <td>0.000111</td>\n      <td>0.000104</td>\n      <td>0.080852</td>\n      <td>0.053655</td>\n      <td>0.128987</td>\n      <td>0.042084</td>\n      <td>-0.027197</td>\n      <td>0.048135</td>\n      <td>-0.038769</td>\n      <td>0.075332</td>\n      <td>-0.011572</td>\n      <td>-0.086904</td>\n    </tr>\n    <tr>\n      <th>map01054</th>\n      <td>Nonribosomal peptide structures</td>\n      <td>0.000155</td>\n      <td>0.000158</td>\n      <td>0.000174</td>\n      <td>0.000167</td>\n      <td>0.000148</td>\n      <td>0.022438</td>\n      <td>0.166136</td>\n      <td>0.102513</td>\n      <td>-0.065109</td>\n      <td>0.143698</td>\n      <td>0.080074</td>\n      <td>-0.087547</td>\n      <td>-0.063624</td>\n      <td>-0.231245</td>\n      <td>-0.167622</td>\n    </tr>\n    <tr>\n      <th>map05211</th>\n      <td>Renal cell carcinoma</td>\n      <td>0.000109</td>\n      <td>0.000126</td>\n      <td>0.000129</td>\n      <td>0.000113</td>\n      <td>0.000116</td>\n      <td>0.216388</td>\n      <td>0.251937</td>\n      <td>0.051393</td>\n      <td>0.088413</td>\n      <td>0.035549</td>\n      <td>-0.164995</td>\n      <td>-0.127975</td>\n      <td>-0.200544</td>\n      <td>-0.163524</td>\n      <td>0.037020</td>\n    </tr>\n    <tr>\n      <th>map05204</th>\n      <td>Chemical carcinogenesis - DNA adducts</td>\n      <td>0.000105</td>\n      <td>0.000107</td>\n      <td>0.000106</td>\n      <td>0.000142</td>\n      <td>0.000125</td>\n      <td>0.022921</td>\n      <td>0.015170</td>\n      <td>0.430034</td>\n      <td>0.248253</td>\n      <td>-0.007752</td>\n      <td>0.407113</td>\n      <td>0.225332</td>\n      <td>0.414865</td>\n      <td>0.233084</td>\n      <td>-0.181781</td>\n    </tr>\n    <tr>\n      <th>map00908</th>\n      <td>Zeatin biosynthesis</td>\n      <td>0.000837</td>\n      <td>0.000813</td>\n      <td>0.000828</td>\n      <td>0.000790</td>\n      <td>0.000812</td>\n      <td>-0.042120</td>\n      <td>-0.016716</td>\n      <td>-0.083093</td>\n      <td>-0.044538</td>\n      <td>0.025405</td>\n      <td>-0.040973</td>\n      <td>-0.002417</td>\n      <td>-0.066378</td>\n      <td>-0.027822</td>\n      <td>0.038556</td>\n    </tr>\n  </tbody>\n</table>\n<p>310 rows × 16 columns</p>\n</div>"
     },
     "execution_count": 22,
     "metadata": {},
     "output_type": "execute_result"
    }
   ],
   "source": [
    "kegg = pd.read_excel(r'D:\\Work\\分析项目\\wxy\\正式结果整理\\16S+宏基因组\\丰度分析\\log2TransAbunFoldChange\\KEGGPathway\\KEGGpathway_relative_ND027XG27_n3_log2FC.xlsx',\n",
    "                     header=0,index_col=0)\n",
    "\n",
    "kegg[\"PathwayDetail\"]=kegg[\"PathwayDetail\"].apply(lambda x:x.split(\" (\")[0])\n",
    "kegg"
   ],
   "metadata": {
    "collapsed": false,
    "pycharm": {
     "name": "#%%\n"
    }
   }
  },
  {
   "cell_type": "code",
   "execution_count": 21,
   "outputs": [
    {
     "data": {
      "text/plain": "                                           ND2/ND0   ND7/ND2   ND7/ND0  \\\nPathwayDetail                                                            \nABC transporters                          0.170462  0.050206  0.220668   \nCarbon metabolism                         0.009386 -0.009464 -0.000078   \nPyruvate metabolism                      -0.035637 -0.004973 -0.040610   \nGlycolysis / Gluconeogenesis              0.062923 -0.035071  0.027853   \nFructose and mannose metabolism           0.063289  0.008787  0.072076   \nButanoate metabolism                     -0.081546 -0.036155 -0.117701   \nStarch and sucrose metabolism             0.276438 -0.051364  0.225075   \nPhosphotransferase system (PTS)           0.648307 -0.005548  0.642760   \nPentose phosphate pathway                 0.146332 -0.003014  0.143318   \nGalactose metabolism                      0.022547  0.015996  0.038544   \nPentose and glucuronate interconversions  0.146900 -0.061932  0.084968   \nCitrate cycle (TCA cycle)                -0.133838 -0.029991 -0.163829   \nFatty acid metabolism                     0.007474 -0.038097 -0.030623   \nAscorbate and aldarate metabolism         0.051863  0.126017  0.177880   \nFatty acid biosynthesis                  -0.012528 -0.040251 -0.052779   \nOther glycan degradation                 -0.186548  0.032610 -0.153938   \n\n                                           XG2/ND0   XG7/XG2   XG7/ND0  \\\nPathwayDetail                                                            \nABC transporters                          0.196543 -0.080413  0.116129   \nCarbon metabolism                        -0.010102 -0.002598 -0.012700   \nPyruvate metabolism                       0.035776 -0.035086  0.000689   \nGlycolysis / Gluconeogenesis             -0.046751  0.025044 -0.021707   \nFructose and mannose metabolism          -0.067279  0.038282 -0.028997   \nButanoate metabolism                      0.020091 -0.044804 -0.024714   \nStarch and sucrose metabolism             0.086740  0.030844  0.117584   \nPhosphotransferase system (PTS)           0.002198  0.084525  0.086723   \nPentose phosphate pathway                 0.030396  0.024389  0.054784   \nGalactose metabolism                      0.068289  0.018725  0.087014   \nPentose and glucuronate interconversions  0.113366  0.076937  0.190303   \nCitrate cycle (TCA cycle)                -0.064124 -0.019899 -0.084022   \nFatty acid metabolism                     0.081568 -0.022175  0.059393   \nAscorbate and aldarate metabolism         0.151024  0.049092  0.200116   \nFatty acid biosynthesis                   0.031137 -0.012725  0.018412   \nOther glycan degradation                 -0.038441  0.043693  0.005251   \n\n                                           XG2/ND2   XG7/ND7  \nPathwayDetail                                                 \nABC transporters                          0.026080 -0.104539  \nCarbon metabolism                        -0.019487 -0.012622  \nPyruvate metabolism                       0.071412  0.041299  \nGlycolysis / Gluconeogenesis             -0.109674 -0.049560  \nFructose and mannose metabolism          -0.130569 -0.101073  \nButanoate metabolism                      0.101636  0.092987  \nStarch and sucrose metabolism            -0.189699 -0.107491  \nPhosphotransferase system (PTS)          -0.646109 -0.556037  \nPentose phosphate pathway                -0.115936 -0.088534  \nGalactose metabolism                      0.045742  0.048470  \nPentose and glucuronate interconversions -0.033533  0.105335  \nCitrate cycle (TCA cycle)                 0.069714  0.079807  \nFatty acid metabolism                     0.074094  0.090016  \nAscorbate and aldarate metabolism         0.099161  0.022235  \nFatty acid biosynthesis                   0.043665  0.071191  \nOther glycan degradation                  0.148107  0.159189  ",
      "text/html": "<div>\n<style scoped>\n    .dataframe tbody tr th:only-of-type {\n        vertical-align: middle;\n    }\n\n    .dataframe tbody tr th {\n        vertical-align: top;\n    }\n\n    .dataframe thead th {\n        text-align: right;\n    }\n</style>\n<table border=\"1\" class=\"dataframe\">\n  <thead>\n    <tr style=\"text-align: right;\">\n      <th></th>\n      <th>ND2/ND0</th>\n      <th>ND7/ND2</th>\n      <th>ND7/ND0</th>\n      <th>XG2/ND0</th>\n      <th>XG7/XG2</th>\n      <th>XG7/ND0</th>\n      <th>XG2/ND2</th>\n      <th>XG7/ND7</th>\n    </tr>\n    <tr>\n      <th>PathwayDetail</th>\n      <th></th>\n      <th></th>\n      <th></th>\n      <th></th>\n      <th></th>\n      <th></th>\n      <th></th>\n      <th></th>\n    </tr>\n  </thead>\n  <tbody>\n    <tr>\n      <th>ABC transporters</th>\n      <td>0.170462</td>\n      <td>0.050206</td>\n      <td>0.220668</td>\n      <td>0.196543</td>\n      <td>-0.080413</td>\n      <td>0.116129</td>\n      <td>0.026080</td>\n      <td>-0.104539</td>\n    </tr>\n    <tr>\n      <th>Carbon metabolism</th>\n      <td>0.009386</td>\n      <td>-0.009464</td>\n      <td>-0.000078</td>\n      <td>-0.010102</td>\n      <td>-0.002598</td>\n      <td>-0.012700</td>\n      <td>-0.019487</td>\n      <td>-0.012622</td>\n    </tr>\n    <tr>\n      <th>Pyruvate metabolism</th>\n      <td>-0.035637</td>\n      <td>-0.004973</td>\n      <td>-0.040610</td>\n      <td>0.035776</td>\n      <td>-0.035086</td>\n      <td>0.000689</td>\n      <td>0.071412</td>\n      <td>0.041299</td>\n    </tr>\n    <tr>\n      <th>Glycolysis / Gluconeogenesis</th>\n      <td>0.062923</td>\n      <td>-0.035071</td>\n      <td>0.027853</td>\n      <td>-0.046751</td>\n      <td>0.025044</td>\n      <td>-0.021707</td>\n      <td>-0.109674</td>\n      <td>-0.049560</td>\n    </tr>\n    <tr>\n      <th>Fructose and mannose metabolism</th>\n      <td>0.063289</td>\n      <td>0.008787</td>\n      <td>0.072076</td>\n      <td>-0.067279</td>\n      <td>0.038282</td>\n      <td>-0.028997</td>\n      <td>-0.130569</td>\n      <td>-0.101073</td>\n    </tr>\n    <tr>\n      <th>Butanoate metabolism</th>\n      <td>-0.081546</td>\n      <td>-0.036155</td>\n      <td>-0.117701</td>\n      <td>0.020091</td>\n      <td>-0.044804</td>\n      <td>-0.024714</td>\n      <td>0.101636</td>\n      <td>0.092987</td>\n    </tr>\n    <tr>\n      <th>Starch and sucrose metabolism</th>\n      <td>0.276438</td>\n      <td>-0.051364</td>\n      <td>0.225075</td>\n      <td>0.086740</td>\n      <td>0.030844</td>\n      <td>0.117584</td>\n      <td>-0.189699</td>\n      <td>-0.107491</td>\n    </tr>\n    <tr>\n      <th>Phosphotransferase system (PTS)</th>\n      <td>0.648307</td>\n      <td>-0.005548</td>\n      <td>0.642760</td>\n      <td>0.002198</td>\n      <td>0.084525</td>\n      <td>0.086723</td>\n      <td>-0.646109</td>\n      <td>-0.556037</td>\n    </tr>\n    <tr>\n      <th>Pentose phosphate pathway</th>\n      <td>0.146332</td>\n      <td>-0.003014</td>\n      <td>0.143318</td>\n      <td>0.030396</td>\n      <td>0.024389</td>\n      <td>0.054784</td>\n      <td>-0.115936</td>\n      <td>-0.088534</td>\n    </tr>\n    <tr>\n      <th>Galactose metabolism</th>\n      <td>0.022547</td>\n      <td>0.015996</td>\n      <td>0.038544</td>\n      <td>0.068289</td>\n      <td>0.018725</td>\n      <td>0.087014</td>\n      <td>0.045742</td>\n      <td>0.048470</td>\n    </tr>\n    <tr>\n      <th>Pentose and glucuronate interconversions</th>\n      <td>0.146900</td>\n      <td>-0.061932</td>\n      <td>0.084968</td>\n      <td>0.113366</td>\n      <td>0.076937</td>\n      <td>0.190303</td>\n      <td>-0.033533</td>\n      <td>0.105335</td>\n    </tr>\n    <tr>\n      <th>Citrate cycle (TCA cycle)</th>\n      <td>-0.133838</td>\n      <td>-0.029991</td>\n      <td>-0.163829</td>\n      <td>-0.064124</td>\n      <td>-0.019899</td>\n      <td>-0.084022</td>\n      <td>0.069714</td>\n      <td>0.079807</td>\n    </tr>\n    <tr>\n      <th>Fatty acid metabolism</th>\n      <td>0.007474</td>\n      <td>-0.038097</td>\n      <td>-0.030623</td>\n      <td>0.081568</td>\n      <td>-0.022175</td>\n      <td>0.059393</td>\n      <td>0.074094</td>\n      <td>0.090016</td>\n    </tr>\n    <tr>\n      <th>Ascorbate and aldarate metabolism</th>\n      <td>0.051863</td>\n      <td>0.126017</td>\n      <td>0.177880</td>\n      <td>0.151024</td>\n      <td>0.049092</td>\n      <td>0.200116</td>\n      <td>0.099161</td>\n      <td>0.022235</td>\n    </tr>\n    <tr>\n      <th>Fatty acid biosynthesis</th>\n      <td>-0.012528</td>\n      <td>-0.040251</td>\n      <td>-0.052779</td>\n      <td>0.031137</td>\n      <td>-0.012725</td>\n      <td>0.018412</td>\n      <td>0.043665</td>\n      <td>0.071191</td>\n    </tr>\n    <tr>\n      <th>Other glycan degradation</th>\n      <td>-0.186548</td>\n      <td>0.032610</td>\n      <td>-0.153938</td>\n      <td>-0.038441</td>\n      <td>0.043693</td>\n      <td>0.005251</td>\n      <td>0.148107</td>\n      <td>0.159189</td>\n    </tr>\n  </tbody>\n</table>\n</div>"
     },
     "execution_count": 21,
     "metadata": {},
     "output_type": "execute_result"
    }
   ],
   "source": [
    "keggchoose = pd.read_excel(r'D:\\Work\\分析项目\\wxy\\正式结果整理\\16S+宏基因组\\丰度分析\\log2TransAbunFoldChange\\KEGGPathway\\keggpathway_relative_ND027XG27_n3_log2FC_20220520choose.xlsx',\n",
    "                     header=0,index_col=0)\n",
    "keggchoose"
   ],
   "metadata": {
    "collapsed": false,
    "pycharm": {
     "name": "#%%\n"
    }
   }
  },
  {
   "cell_type": "code",
   "execution_count": 23,
   "outputs": [],
   "source": [
    "choose = pd.merge(kegg, keggchoose, left_on=\"PathwayDetail\", right_index=True, how='inner')"
   ],
   "metadata": {
    "collapsed": false,
    "pycharm": {
     "name": "#%%\n"
    }
   }
  },
  {
   "cell_type": "code",
   "execution_count": 26,
   "outputs": [],
   "source": [
    "choose.to_excel(r'D:\\Work\\分析项目\\wxy\\正式结果整理\\16S+宏基因组\\丰度分析\\halla\\KEGGASV\\KEGGASVBM_synthetic_output_0.8.20_fdr_alpha_0.05\\keggchoose.xlsx')"
   ],
   "metadata": {
    "collapsed": false,
    "pycharm": {
     "name": "#%%\n"
    }
   }
  },
  {
   "cell_type": "code",
   "execution_count": null,
   "outputs": [],
   "source": [],
   "metadata": {
    "collapsed": false,
    "pycharm": {
     "name": "#%%\n"
    }
   }
  }
 ],
 "metadata": {
  "kernelspec": {
   "display_name": "Python 3",
   "language": "python",
   "name": "python3"
  },
  "language_info": {
   "codemirror_mode": {
    "name": "ipython",
    "version": 2
   },
   "file_extension": ".py",
   "mimetype": "text/x-python",
   "name": "python",
   "nbconvert_exporter": "python",
   "pygments_lexer": "ipython2",
   "version": "2.7.6"
  }
 },
 "nbformat": 4,
 "nbformat_minor": 0
}