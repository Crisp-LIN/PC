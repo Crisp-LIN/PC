{
 "cells": [
  {
   "cell_type": "code",
   "execution_count": 1,
   "outputs": [],
   "source": [
    "import seaborn as sns\n",
    "import pandas as pd\n",
    "from matplotlib import pyplot as plt\n",
    "from jupyterthemes import jtplot"
   ],
   "metadata": {
    "collapsed": false,
    "pycharm": {
     "name": "#%%\n"
    }
   }
  },
  {
   "cell_type": "code",
   "execution_count": 4,
   "outputs": [],
   "source": [
    "\n",
    "\"\"\"\n",
    "数据处理部分\n",
    "\"\"\"\n",
    "\n",
    "cazy = pd.read_excel(r'D:\\Work\\分析项目\\wxy\\正式结果整理\\16S+宏基因组\\丰度分析\\log2TransAbunFoldChange\\cazymes\\cazy_relative_ND027XG27_n3_g_log2FC_lefse.xlsx',\n",
    "                   header=0, index_col=0)\n",
    "kegg = pd.read_excel(r'D:\\Work\\分析项目\\wxy\\正式结果整理\\16S+宏基因组\\丰度分析\\log2TransAbunFoldChange\\KEGGPathway\\KEGGPathway_relative_ND027XG27_n3_g_log2FC_lefse.xlsx',\n",
    "                     header=0,index_col=0)\n",
    "# ASV = pd.read_excel(r'D:\\Work\\分析项目\\wxy\\正式结果整理\\16S+宏基因组\\丰度分析\\log2TransAbunFoldChange\\ASV\\ASV_relative_ND027XG27_n6_g_log2FC_lefse.xlsx',\n",
    "                  #  header=0,index_col=0)"
   ],
   "metadata": {
    "collapsed": false,
    "pycharm": {
     "name": "#%%\n"
    }
   }
  },
  {
   "cell_type": "code",
   "execution_count": null,
   "outputs": [],
   "source": [
    "cazy\n",
    "cazyfc = pd.DataFrame(cazy, columns=[\"ND2/ND0\",\"ND7/ND2\",\"ND7/ND0\",\"XG2/ND0\",\"XG7/XG2\",\"XG7/ND0\",\"XG2/ND2\",\"XG7/ND7\"])\n",
    "cazyfc.T"
   ],
   "metadata": {
    "collapsed": false,
    "pycharm": {
     "name": "#%%\n",
     "is_executing": true
    }
   }
  },
  {
   "cell_type": "markdown",
   "source": [
    "### CAZY 画图"
   ],
   "metadata": {
    "collapsed": false,
    "pycharm": {
     "name": "#%% md\n"
    }
   }
  },
  {
   "cell_type": "code",
   "execution_count": null,
   "outputs": [],
   "source": [
    "# jtplot.style(theme='onedork') #选择一个绘图主题\n",
    "plt.figure(dpi=600)\n",
    "\n",
    "# 调整图的大小\n",
    "plt.figure(figsize=(10, 1.5))  # 宽 高\n",
    "# 调整全局字体为新罗马\n",
    "plt.rc('font', family='Times New Roman')\n",
    "\n",
    "\"\"\"\n",
    "x:标题相对于绘制的图形横轴的位置,0则表示最左边。\n",
    "y:标题相对于绘制的图形纵轴的位置,0则表示最下边\"\"\"\n",
    "plt.title(\"log2-transformed fold-change of CAZymes\", fontsize=20, loc='left', x=-0.6,y=1.8)  # 标题，并设定字号大小、位置\n",
    "\n",
    "\"\"\"设置坐标轴刻度的字体大小\"\"\"\n",
    "plt.xticks(size=10)\n",
    "plt.yticks(size=10)\n",
    "\n",
    "\n",
    "fig = sns.heatmap(cazyfc.T, annot=False,\n",
    "                  # standard_scale：int or None, optional，是否 Min-Max 标准化行 (0) 或列 (1)。\n",
    "                  xticklabels=True, yticklabels=True, square=False, cbar = True,\n",
    "                  # (left, bottom, width, height)\n",
    "                  cmap=\"RdBu_r\",\n",
    "                  cbar_kws={'label': '',  # color bar的名称\n",
    "                            'orientation': 'vertical',  # color bar的方向设置，默认为'vertical'，可水平显示'horizontal'\n",
    "                            # \"ticks\":np.arange(4.5, 8, 0.5),  # color bar中刻度值范围和间隔\n",
    "                            \"format\": \"%.1f\",  # 格式化输出color bar中刻度值\n",
    "                            \"pad\": 0.01,  # color bar与热图之间距离，距离变大热图会被压缩)  # annot是否显示数值  square 绘图区是否是正方形, cbar设置标尺\n",
    "                            \"shrink\": 1\n",
    "                            }\n",
    "                  )\n",
    "# 调整坐标轴字体\n",
    "# fig.set_xlabel(\"X-Axis\", fontsize=15)\n",
    "# fig.set_ylabel(\"Y-Axis\", fontsize=15)\n",
    "# 调整colorbar的label大小\n",
    "cbar = fig.collections[0].colorbar\n",
    "cbar.ax.tick_params(labelsize=10)\n",
    "\n",
    "# 旋转轴刻度\n",
    "fig.set_xticklabels(fig.get_xticklabels(),rotation = 70)\n",
    "# 刻度标记放置在图像顶端\n",
    "fig.xaxis.tick_top()\n",
    "# 自定义刻度值的内容和位置\n",
    "plt.yticks([0.5,1.5,2.5,3.5,4.5,5.5,6.5,7.5],['Week 2 (ND) vs Week 0','Week 7 (ND) vs Week 2 (ND)','Week 7 (ND) vs Week 0','Week 2 (XG) vs Week 0','Week 7 (XG) vs Week 2 (XG)','Week 7 (XG) vs Week 0','Week 2 (XG) vs Week 2 (ND)','Week 7 (XG) vs Week 7 (ND)'])\n",
    "\"\"\"\n",
    "\"XG2/ND0\",\"XG7/XG2\",\"XG7/ND0\",\"XG7/ND7\"\n",
    "\"\"\"\n",
    "\n",
    "plt.savefig(r'D:\\Work\\分析项目\\wxy\\正式结果整理\\16S+宏基因组\\丰度分析\\log2TransAbunFoldChange\\cazymes\\0516_lefse_log2FC_RelativeAbun.tiff',dpi=500, bbox_inches='tight')"
   ],
   "metadata": {
    "collapsed": false,
    "pycharm": {
     "name": "#%%\n",
     "is_executing": true
    }
   }
  },
  {
   "cell_type": "markdown",
   "source": [
    "### KEGG 画图"
   ],
   "metadata": {
    "collapsed": false,
    "pycharm": {
     "name": "#%% md\n"
    }
   }
  },
  {
   "cell_type": "code",
   "execution_count": null,
   "outputs": [],
   "source": [
    "keggfc = pd.DataFrame(kegg).set_index('PathwayDetail')\n",
    "keggfc = pd.DataFrame(keggfc, columns=[\"ND2/ND0\",\"ND7/ND2\",\"ND7/ND0\",\"XG2/ND0\",\"XG7/XG2\",\"XG7/ND0\",\"XG2/ND2\",\"XG7/ND7\"])\n",
    "keggfc"
   ],
   "metadata": {
    "collapsed": false,
    "pycharm": {
     "name": "#%%\n",
     "is_executing": true
    }
   }
  },
  {
   "cell_type": "code",
   "execution_count": null,
   "outputs": [],
   "source": [
    "# jtplot.style(theme='onedork') #选择一个绘图主题\n",
    "plt.figure(dpi=600)\n",
    "\n",
    "# 调整图的大小\n",
    "plt.figure(figsize=(1.5, 10))  # 宽 高\n",
    "\n",
    "# 调整全局字体为新罗马\n",
    "plt.rc('font', family='Times New Roman')\n",
    "\n",
    "\"\"\"\n",
    "x:标题相对于绘制的图形横轴的位置,0则表示最左边。\n",
    "y:标题相对于绘制的图形纵轴的位置,0则表示最下边\"\"\"\n",
    "plt.title(\"log2-transformed fold-change of KEGG Pathway\", fontsize=20, loc='left', x=-5.5,y=1.01)  # 标题，并设定字号大小、位置\n",
    "\n",
    "\"\"\"设置坐标轴刻度的字体大小\"\"\"\n",
    "plt.xticks(size=8)\n",
    "plt.yticks(size=10)\n",
    "\n",
    "fig = sns.heatmap(keggfc, annot=False,\n",
    "                  # standard_scale：int or None, optional，是否 Min-Max 标准化行 (0) 或列 (1)。\n",
    "                  xticklabels=True, yticklabels=True, square=False, cbar = True,\n",
    "                  # (left, bottom, width, height)\n",
    "                  cmap=\"RdBu_r\",\n",
    "                  cbar_kws={'label': '',  # color bar的名称\n",
    "                            'orientation': 'vertical',  # color bar的方向设置，默认为'vertical'，可水平显示'horizontal'\n",
    "                            # \"ticks\":np.arange(4.5, 8, 0.5),  # color bar中刻度值范围和间隔\n",
    "                            \"format\": \"%.1f\",  # 格式化输出color bar中刻度值\n",
    "                            \"pad\": 0.1,  # color bar与热图之间距离，距离变大热图会被压缩)  # annot是否显示数值  square 绘图区是否是正方形, cbar设置标尺\n",
    "                            \"shrink\": 2\n",
    "                            }\n",
    "\n",
    "                  )\n",
    "# 添加坐标轴标签\n",
    "# fig.set_xlabel(\"X-Axis\", fontsize=15)\n",
    "fig.set_ylabel(\" \", fontsize=15)\n",
    "# 调整colorbar的label大小\n",
    "cbar = fig.collections[0].colorbar\n",
    "cbar.ax.tick_params(labelsize=10)\n",
    "\n",
    "# 旋转轴刻度\n",
    "fig.set_xticklabels(fig.get_xticklabels(),rotation = -80)\n",
    "# 刻度标记放置在图像底部\n",
    "fig.xaxis.tick_bottom()\n",
    "# 自定义刻度值的内容和位置\n",
    "plt.xticks([1,2,3,4,5,6,7,8],['Week 2 (ND) vs Week 0','Week 7 (ND) vs Week 2 (ND)','Week 7 (ND) vs Week 0','Week 2 (XG) vs Week 0','Week 7 (XG) vs Week 2 (XG)','Week 7 (XG) vs Week 0','Week 2 (XG) vs Week 2 (ND)','Week 7 (XG) vs Week 7 (ND)'])\n",
    "# 调整哪个坐标轴显示刻度线\n",
    "plt.tick_params(top=False,bottom=False,left=False,right=False)\n",
    "\n",
    "\n",
    "plt.savefig(r'D:\\Work\\分析项目\\wxy\\正式结果整理\\16S+宏基因组\\丰度分析\\log2TransAbunFoldChange\\KEGGPathway\\0516lefse_log2FC_RelativeAbun.tiff',dpi=500, bbox_inches='tight')"
   ],
   "metadata": {
    "collapsed": false,
    "pycharm": {
     "name": "#%%\n",
     "is_executing": true
    }
   }
  },
  {
   "cell_type": "markdown",
   "source": [
    "### ASV 画图"
   ],
   "metadata": {
    "collapsed": false,
    "pycharm": {
     "name": "#%% md\n"
    }
   }
  },
  {
   "cell_type": "code",
   "execution_count": null,
   "outputs": [],
   "source": [
    "ASV = pd.read_excel(r'D:\\Work\\分析项目\\wxy\\正式结果整理\\16S+宏基因组\\丰度分析\\log2TransAbunFoldChange\\ASV\\ASV_relative_ND027XG27_n6_g_log2FC_lefse.xlsx',\n",
    "                    header=0,index_col=False)\n",
    "# ASV[\"Unnamed: 0\"]\n",
    "a = ASV[\"Unnamed: 0\"].str.split('_g__',expand=True)\n",
    "\n",
    "\n",
    "ASV = pd.concat([ASV,a[1]], axis=1)\n",
    "\n",
    "ASV[1]=ASV[1].apply(lambda x:x[:-1])\n",
    "ASV"
   ],
   "metadata": {
    "collapsed": false,
    "pycharm": {
     "name": "#%%\n",
     "is_executing": true
    }
   }
  },
  {
   "cell_type": "code",
   "execution_count": null,
   "outputs": [],
   "source": [
    "ASVfc = pd.DataFrame(ASV).set_index(1)\n",
    "ASVfc = pd.DataFrame(ASVfc, columns=[\"ND2/ND0\",\"ND7/ND2\",\"ND7/ND0\",\"XG2/ND0\",\"XG7/XG2\",\"XG7/ND0\",\"XG2/ND2\",\"XG7/ND7\"])\n",
    "ASVfc\n",
    "plt.figure(dpi=600)\n",
    "\n",
    "# 调整图的大小\n",
    "plt.figure(figsize=(1.5, 9))  # 宽 高\n",
    "\n",
    "# 调整全局字体为新罗马\n",
    "plt.rc('font', family='Times New Roman')\n",
    "\n",
    "\"\"\"\n",
    "x:标题相对于绘制的图形横轴的位置,0则表示最左边。\n",
    "y:标题相对于绘制的图形纵轴的位置,0则表示最下边\"\"\"\n",
    "plt.title(\"log2-transformed fold-change\", fontsize=20, loc='left', x=-5.5,y=1.01)  # 标题，并设定字号大小、位置\n",
    "\n",
    "\"\"\"设置坐标轴刻度的字体大小\"\"\"\n",
    "plt.xticks(size=8)\n",
    "plt.yticks(size=10)\n",
    "\n",
    "fig = sns.heatmap(ASVfc, annot=False,\n",
    "                  # standard_scale：int or None, optional，是否 Min-Max 标准化行 (0) 或列 (1)。\n",
    "                  xticklabels=True, yticklabels=True, square=False, cbar = True,\n",
    "                  # (left, bottom, width, height)\n",
    "                  cmap=\"RdBu_r\",\n",
    "                  cbar_kws={'label': '',  # color bar的名称\n",
    "                            'orientation': 'vertical',  # color bar的方向设置，默认为'vertical'，可水平显示'horizontal'\n",
    "                            # \"ticks\":np.arange(4.5, 8, 0.5),  # color bar中刻度值范围和间隔\n",
    "                            \"format\": \"%.1f\",  # 格式化输出color bar中刻度值\n",
    "                            \"pad\": 0.1,  # color bar与热图之间距离，距离变大热图会被压缩)  # annot是否显示数值  square 绘图区是否是正方形, cbar设置标尺\n",
    "                            \"shrink\": 2\n",
    "                            }\n",
    "\n",
    "                  )\n",
    "# 添加坐标轴标签\n",
    "# fig.set_xlabel(\"X-Axis\", fontsize=15)\n",
    "fig.set_ylabel(\" \", fontsize=15)\n",
    "# 调整colorbar的label大小\n",
    "cbar = fig.collections[0].colorbar\n",
    "cbar.ax.tick_params(labelsize=10)\n",
    "\n",
    "# 旋转轴刻度\n",
    "fig.set_xticklabels(fig.get_xticklabels(),rotation = -80)\n",
    "# 刻度标记放置在图像底部\n",
    "fig.xaxis.tick_bottom()\n",
    "# 自定义刻度值的内容和位置\n",
    "plt.xticks([1,2,3,4,5,6,7,8],['Week 2 (ND) vs Week 0','Week 7 (ND) vs Week 2 (ND)','Week 7 (ND) vs Week 0','Week 2 (XG) vs Week 0','Week 7 (XG) vs Week 2 (XG)','Week 7 (XG) vs Week 0','Week 2 (XG) vs Week 2 (ND)','Week 7 (XG) vs Week 7 (ND)'])\n",
    "# 调整哪个坐标轴显示刻度线\n",
    "plt.tick_params(top=False,bottom=False,left=False,right=False)\n",
    "\n",
    "\n",
    "plt.savefig(r'D:\\Work\\分析项目\\wxy\\正式结果整理\\16S+宏基因组\\丰度分析\\log2TransAbunFoldChange\\ASV\\0516ASV_log2FC_RelativeAbun.tiff',dpi=500, bbox_inches='tight')"
   ],
   "metadata": {
    "collapsed": false,
    "pycharm": {
     "name": "#%%\n",
     "is_executing": true
    }
   }
  },
  {
   "cell_type": "code",
   "execution_count": null,
   "outputs": [],
   "source": [],
   "metadata": {
    "collapsed": false,
    "pycharm": {
     "name": "#%%\n"
    }
   }
  }
 ],
 "metadata": {
  "kernelspec": {
   "display_name": "Python 3",
   "language": "python",
   "name": "python3"
  },
  "language_info": {
   "codemirror_mode": {
    "name": "ipython",
    "version": 2
   },
   "file_extension": ".py",
   "mimetype": "text/x-python",
   "name": "python",
   "nbconvert_exporter": "python",
   "pygments_lexer": "ipython2",
   "version": "2.7.6"
  }
 },
 "nbformat": 4,
 "nbformat_minor": 0
}