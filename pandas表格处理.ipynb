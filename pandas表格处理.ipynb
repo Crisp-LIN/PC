{
 "cells": [
  {
   "cell_type": "code",
   "execution_count": null,
   "metadata": {
    "collapsed": true,
    "pycharm": {
     "name": "#%%\n"
    }
   },
   "outputs": [],
   "source": [
    "\n",
    "class TablePandas:\n",
    "    \"\"\"\n",
    "    用于使用pandas处理表格\n",
    "    \"\"\"\n",
    "    def __init__(self):\n",
    "        pass\n",
    "\n",
    "    def read_file_linux(self):\n",
    "            \"\"\"\n",
    "            用pandas读文件\n",
    "            :return:\n",
    "            \"\"\"\n",
    "            import pandas as pd\n",
    "            import argparse  # 引入模块\n",
    "\n",
    "            \"\"\"\n",
    "            在Linux命令行环境下传入参数\n",
    "            \"\"\"\n",
    "            # 建立解析对象\n",
    "            parser = argparse.ArgumentParser()\n",
    "\n",
    "            # a)xx.add_argument(\"aa\") 给xx对象增加一个aa属性 b)type = int 规定可传入参数的类型\n",
    "            parser.add_argument(\"--path\", help = \"Enter the absolute path to the file\", nargs=1) # 设置输入文件路径的参数\n",
    "            parser.add_argument('-fc', '--filetype', help='Input file types',choices=['excel', 'table', 'csv'], default='table')\n",
    "            parser.add_argument('-sn', '--sheetname', help='Input sheetname')\n",
    "            args = parser.parse_args()\n",
    "            filetype = args.fc\n",
    "            filepath = args.path\n",
    "            excelsheetname = args.sheetname\n",
    "\n",
    "            if filetype == 'excel':\n",
    "                df1 = pd.read_excel(filepath,sheetname = excelsheetname,header =0)\n",
    "            elif filetype == 'table':\n",
    "                df1 = pd.read_table()\n",
    "            elif filetype == 'csv':\n",
    "                df1 = pd.read_csv()\n",
    "\n",
    "\n",
    "\n",
    "\n"
   ]
  }
 ],
 "metadata": {
  "kernelspec": {
   "display_name": "Python 3",
   "language": "python",
   "name": "python3"
  },
  "language_info": {
   "codemirror_mode": {
    "name": "ipython",
    "version": 2
   },
   "file_extension": ".py",
   "mimetype": "text/x-python",
   "name": "python",
   "nbconvert_exporter": "python",
   "pygments_lexer": "ipython2",
   "version": "2.7.6"
  }
 },
 "nbformat": 4,
 "nbformat_minor": 0
}