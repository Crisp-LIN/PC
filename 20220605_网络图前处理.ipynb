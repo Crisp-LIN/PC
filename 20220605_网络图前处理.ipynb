{
 "cells": [
  {
   "cell_type": "code",
   "execution_count": 2,
   "outputs": [],
   "source": [
    "import pandas as pd"
   ],
   "metadata": {
    "collapsed": false,
    "pycharm": {
     "name": "#%%\n"
    }
   }
  },
  {
   "cell_type": "code",
   "execution_count": 29,
   "outputs": [],
   "source": [
    "### 导入数据表\n",
    "cazyasv = pd.read_table(r'D:\\Work\\分析项目\\wxy\\正式结果整理\\16S+宏基因组\\丰度分析\\halla\\CazyASV\\CazyASV_synthetic_output_0.8.20_fdr_alpha_0.05\\all_associations.txt',\n",
    "                     header=0,index_col=0)\n",
    "\n",
    "cazykegg = pd.read_table(r'D:\\Work\\分析项目\\wxy\\正式结果整理\\16S+宏基因组\\丰度分析\\halla\\CazyKEGG\\synthetic_output_0.8.20_fdr_alpha0.05\\all_associations.txt',\n",
    "                     header=0,index_col=0)\n",
    "\n",
    "keggasv = pd.read_table(r'D:\\Work\\分析项目\\wxy\\正式结果整理\\16S+宏基因组\\丰度分析\\halla\\KEGGASV\\KEGGASV_synthetic_output_0.8.20_fdr_alpha_0.05\\all_associations.txt',\n",
    "                     header=0,index_col=0)\n"
   ],
   "metadata": {
    "collapsed": false,
    "pycharm": {
     "name": "#%%\n"
    }
   }
  },
  {
   "cell_type": "markdown",
   "source": [
    "### 显示导入的表格"
   ],
   "metadata": {
    "collapsed": false,
    "pycharm": {
     "name": "#%% md\n"
    }
   }
  },
  {
   "cell_type": "code",
   "execution_count": null,
   "outputs": [],
   "source": [
    "cazyasv"
   ],
   "metadata": {
    "collapsed": false,
    "pycharm": {
     "name": "#%%\n",
     "is_executing": true
    }
   }
  },
  {
   "cell_type": "code",
   "execution_count": null,
   "outputs": [],
   "source": [
    "cazykegg"
   ],
   "metadata": {
    "collapsed": false,
    "pycharm": {
     "name": "#%%\n"
    }
   }
  },
  {
   "cell_type": "code",
   "execution_count": null,
   "outputs": [],
   "source": [
    "keggasv"
   ],
   "metadata": {
    "collapsed": false,
    "pycharm": {
     "name": "#%%\n"
    }
   }
  },
  {
   "cell_type": "markdown",
   "source": [],
   "metadata": {
    "collapsed": false,
    "pycharm": {
     "name": "#%% md\n"
    }
   }
  },
  {
   "cell_type": "code",
   "execution_count": 37,
   "outputs": [],
   "source": [
    "# 根据q_value筛选的函数\n",
    "def filter_qv(df,threshold=0.05):\n",
    "    return df[(df['q-values'] <= threshold)]"
   ],
   "metadata": {
    "collapsed": false,
    "pycharm": {
     "name": "#%%\n"
    }
   }
  },
  {
   "cell_type": "code",
   "execution_count": null,
   "outputs": [],
   "source": [
    "cazyasv005 = filter_qv(cazyasv,0.05)\n",
    "cazykegg005 = filter_qv(cazykegg,0.05)\n",
    "keggasv005 = filter_qv(keggasv,0.05)"
   ],
   "metadata": {
    "collapsed": false,
    "pycharm": {
     "name": "#%%\n"
    }
   }
  },
  {
   "cell_type": "markdown",
   "source": [
    "### BM部分"
   ],
   "metadata": {
    "collapsed": false,
    "pycharm": {
     "name": "#%% md\n"
    }
   }
  },
  {
   "cell_type": "code",
   "execution_count": 39,
   "outputs": [],
   "source": [
    "\n",
    "cazyasvBM = pd.read_table(r'D:\\Work\\分析项目\\wxy\\正式结果整理\\16S+宏基因组\\丰度分析\\halla\\CazyASV\\CazyASVBM_synthetic_output_0.8.20_fdr_alpha_0.05\\BM_synthetic_output_0.8.20_fdr_alpha0.05\\all_associations.txt',\n",
    "                     header=0,index_col=0)\n",
    "\n",
    "cazykeggBM = pd.read_table(r'D:\\Work\\分析项目\\wxy\\正式结果整理\\16S+宏基因组\\丰度分析\\halla\\CazyKEGG\\CazyKEGGBM_synthetic_output_0.8.20_fdr_alpha0.05\\BM_synthetic_output_0.8.20_fdr_alpha0.05\\all_associations.txt',\n",
    "                     header=0,index_col=0)\n",
    "\n",
    "keggasvBM = pd.read_table(r'D:\\Work\\分析项目\\wxy\\正式结果整理\\16S+宏基因组\\丰度分析\\halla\\KEGGASV\\KEGGASVBM_synthetic_output_0.8.20_fdr_alpha_0.05\\BM_synthetic_output_0.8.20_fdr_alpha0.05\\all_associations.txt',\n",
    "                     header=0,index_col=0)\n"
   ],
   "metadata": {
    "collapsed": false,
    "pycharm": {
     "name": "#%%\n"
    }
   }
  },
  {
   "cell_type": "code",
   "execution_count": 40,
   "outputs": [
    {
     "data": {
      "text/plain": "                              Y_features  association      p-values  \\\nX_features                                                            \nLegionellosis                      CBM50         -0.6  2.847570e-01   \nLegionellosis                      GH106          0.5  3.910022e-01   \nLegionellosis                      GH105          0.6  2.847570e-01   \nLegionellosis                      GH108         -0.6  2.847570e-01   \nLegionellosis                       GH26          0.6  2.847570e-01   \n...                                  ...          ...           ...   \nGlycolysis / Gluconeogenesis         CE0         -1.0  1.404265e-24   \nGlycolysis / Gluconeogenesis         GT0         -0.9  3.738607e-02   \nGlycolysis / Gluconeogenesis       GH159         -0.9  3.738607e-02   \nGlycolysis / Gluconeogenesis        GT32         -0.9  3.738607e-02   \nGlycolysis / Gluconeogenesis         GH5          0.8  1.040880e-01   \n\n                                   q-values  \nX_features                                   \nLegionellosis                  4.246891e-01  \nLegionellosis                  4.979312e-01  \nLegionellosis                  4.246891e-01  \nLegionellosis                  4.246891e-01  \nLegionellosis                  4.246891e-01  \n...                                     ...  \nGlycolysis / Gluconeogenesis   2.795648e-23  \nGlycolysis / Gluconeogenesis   1.718809e-01  \nGlycolysis / Gluconeogenesis   1.718809e-01  \nGlycolysis / Gluconeogenesis   1.718809e-01  \nGlycolysis / Gluconeogenesis   3.137098e-01  \n\n[2170 rows x 4 columns]",
      "text/html": "<div>\n<style scoped>\n    .dataframe tbody tr th:only-of-type {\n        vertical-align: middle;\n    }\n\n    .dataframe tbody tr th {\n        vertical-align: top;\n    }\n\n    .dataframe thead th {\n        text-align: right;\n    }\n</style>\n<table border=\"1\" class=\"dataframe\">\n  <thead>\n    <tr style=\"text-align: right;\">\n      <th></th>\n      <th>Y_features</th>\n      <th>association</th>\n      <th>p-values</th>\n      <th>q-values</th>\n    </tr>\n    <tr>\n      <th>X_features</th>\n      <th></th>\n      <th></th>\n      <th></th>\n      <th></th>\n    </tr>\n  </thead>\n  <tbody>\n    <tr>\n      <th>Legionellosis</th>\n      <td>CBM50</td>\n      <td>-0.6</td>\n      <td>2.847570e-01</td>\n      <td>4.246891e-01</td>\n    </tr>\n    <tr>\n      <th>Legionellosis</th>\n      <td>GH106</td>\n      <td>0.5</td>\n      <td>3.910022e-01</td>\n      <td>4.979312e-01</td>\n    </tr>\n    <tr>\n      <th>Legionellosis</th>\n      <td>GH105</td>\n      <td>0.6</td>\n      <td>2.847570e-01</td>\n      <td>4.246891e-01</td>\n    </tr>\n    <tr>\n      <th>Legionellosis</th>\n      <td>GH108</td>\n      <td>-0.6</td>\n      <td>2.847570e-01</td>\n      <td>4.246891e-01</td>\n    </tr>\n    <tr>\n      <th>Legionellosis</th>\n      <td>GH26</td>\n      <td>0.6</td>\n      <td>2.847570e-01</td>\n      <td>4.246891e-01</td>\n    </tr>\n    <tr>\n      <th>...</th>\n      <td>...</td>\n      <td>...</td>\n      <td>...</td>\n      <td>...</td>\n    </tr>\n    <tr>\n      <th>Glycolysis / Gluconeogenesis</th>\n      <td>CE0</td>\n      <td>-1.0</td>\n      <td>1.404265e-24</td>\n      <td>2.795648e-23</td>\n    </tr>\n    <tr>\n      <th>Glycolysis / Gluconeogenesis</th>\n      <td>GT0</td>\n      <td>-0.9</td>\n      <td>3.738607e-02</td>\n      <td>1.718809e-01</td>\n    </tr>\n    <tr>\n      <th>Glycolysis / Gluconeogenesis</th>\n      <td>GH159</td>\n      <td>-0.9</td>\n      <td>3.738607e-02</td>\n      <td>1.718809e-01</td>\n    </tr>\n    <tr>\n      <th>Glycolysis / Gluconeogenesis</th>\n      <td>GT32</td>\n      <td>-0.9</td>\n      <td>3.738607e-02</td>\n      <td>1.718809e-01</td>\n    </tr>\n    <tr>\n      <th>Glycolysis / Gluconeogenesis</th>\n      <td>GH5</td>\n      <td>0.8</td>\n      <td>1.040880e-01</td>\n      <td>3.137098e-01</td>\n    </tr>\n  </tbody>\n</table>\n<p>2170 rows × 4 columns</p>\n</div>"
     },
     "execution_count": 40,
     "metadata": {},
     "output_type": "execute_result"
    }
   ],
   "source": [
    "cazykeggBM"
   ],
   "metadata": {
    "collapsed": false,
    "pycharm": {
     "name": "#%%\n"
    }
   }
  },
  {
   "cell_type": "code",
   "execution_count": 35,
   "outputs": [
    {
     "data": {
      "text/plain": "                                                   Y_features  association  \\\nX_features                                                                   \nk__Bacteria_p__Patescibacteria_c__Saccharimonad...      CBM32         -1.0   \nk__Bacteria_p__Patescibacteria_c__Saccharimonad...        CE0         -1.0   \nk__Bacteria_p__Firmicutes_c__Clostridia_o__Lach...      CBM32         -1.0   \nk__Bacteria_p__Firmicutes_c__Clostridia_o__Lach...        CE0         -1.0   \nk__Bacteria_p__Proteobacteria_c__Gammaproteobac...    GH43_26          1.0   \nk__Bacteria_p__Bacteroidota_c__Bacteroidia_o__B...        GT8          1.0   \nk__Bacteria_p__Bacteroidota_c__Bacteroidia_o__B...       GH32         -1.0   \nk__Bacteria_p__Firmicutes_c__Clostridia_o__Osci...      CBM32         -1.0   \nk__Bacteria_p__Firmicutes_c__Clostridia_o__Osci...        CE0         -1.0   \nk__Bacteria_p__Desulfobacterota_c__Desulfovibri...        GT0         -1.0   \nk__Bacteria_p__Firmicutes_c__Clostridia_o__Mono...        GH3         -1.0   \nk__Bacteria_p__Firmicutes_c__Bacilli_o__Erysipe...      PL8_2         -1.0   \nk__Bacteria_p__Firmicutes_c__Clostridia_o__Osci...       GH24         -1.0   \nk__Bacteria_p__Firmicutes_c__Clostridia_o__Osci...        GT4         -1.0   \nk__Bacteria_p__Firmicutes_c__Clostridia_o__Osci...        GT9         -1.0   \nk__Bacteria_p__Firmicutes_c__Clostridia_o__Osci...      PL8_2         -1.0   \nk__Bacteria_p__Firmicutes_c__Bacilli_o__RF39_f_...      CBM32         -1.0   \nk__Bacteria_p__Firmicutes_c__Bacilli_o__RF39_f_...        CE0         -1.0   \nk__Bacteria_p__Bacteroidota_c__Bacteroidia_o__B...      GH159          1.0   \nk__Bacteria_p__Firmicutes_c__Clostridia_o__Osci...      PL8_2         -1.0   \nk__Bacteria_p__Firmicutes_c__Bacilli_o__Erysipe...       GH88          1.0   \nk__Bacteria_p__Firmicutes_c__Bacilli_o__Erysipe...    GH13_37         -1.0   \nk__Bacteria_p__Firmicutes_c__Bacilli_o__Erysipe...       CBM6          1.0   \nk__Bacteria_p__Firmicutes_c__Bacilli_o__Erysipe...        GH5         -1.0   \nk__Bacteria_p__Bacteroidota_c__Bacteroidia_o__B...        GT0          1.0   \nk__Bacteria_p__Firmicutes_c__Clostridia_o__Lach...    GH43_26          1.0   \nk__Bacteria_p__Firmicutes_c__Bacilli_o__Lactoba...    GH43_10          1.0   \nk__Bacteria_p__Firmicutes_c__Clostridia_o__Lach...        GT0          1.0   \nk__Bacteria_p__Bacteroidota_c__Bacteroidia_o__B...      GH159          1.0   \nk__Bacteria_p__Firmicutes_c__Clostridia_o__Lach...      GH115          1.0   \nk__Bacteria_p__Firmicutes_c__Bacilli_o__Erysipe...    GH43_34          1.0   \nk__Bacteria_p__Firmicutes_c__Bacilli_o__Erysipe...    GH43_19          1.0   \nk__Bacteria_p__Firmicutes_c__Clostridia_o__Osci...      GH159          1.0   \nk__Bacteria_p__Proteobacteria_c__Gammaproteobac...       GH88          1.0   \nk__Bacteria_p__Proteobacteria_c__Gammaproteobac...    GH13_37         -1.0   \nk__Bacteria_p__Proteobacteria_c__Gammaproteobac...       CBM6          1.0   \nk__Bacteria_p__Proteobacteria_c__Gammaproteobac...        GH5         -1.0   \nk__Bacteria_p__Firmicutes_c__Clostridia_o__Lach...       GH88          1.0   \nk__Bacteria_p__Firmicutes_c__Clostridia_o__Lach...    GH13_37         -1.0   \nk__Bacteria_p__Firmicutes_c__Clostridia_o__Lach...       CBM6          1.0   \nk__Bacteria_p__Firmicutes_c__Clostridia_o__Lach...        GH5         -1.0   \nk__Bacteria_p__Cyanobacteria_c__Vampirivibrioni...      GH106          1.0   \nk__Bacteria_p__Cyanobacteria_c__Vampirivibrioni...       GH78          1.0   \nk__Bacteria_p__Firmicutes_c__Bacilli_o__Erysipe...      GH106          1.0   \nk__Bacteria_p__Firmicutes_c__Bacilli_o__Erysipe...       GH78          1.0   \nk__Bacteria_p__Firmicutes_c__Clostridia_o__Osci...      GH115          1.0   \n\n                                                        p-values  \\\nX_features                                                         \nk__Bacteria_p__Patescibacteria_c__Saccharimonad...  1.404265e-24   \nk__Bacteria_p__Patescibacteria_c__Saccharimonad...  1.404265e-24   \nk__Bacteria_p__Firmicutes_c__Clostridia_o__Lach...  1.404265e-24   \nk__Bacteria_p__Firmicutes_c__Clostridia_o__Lach...  1.404265e-24   \nk__Bacteria_p__Proteobacteria_c__Gammaproteobac...  1.404265e-24   \nk__Bacteria_p__Bacteroidota_c__Bacteroidia_o__B...  1.404265e-24   \nk__Bacteria_p__Bacteroidota_c__Bacteroidia_o__B...  1.404265e-24   \nk__Bacteria_p__Firmicutes_c__Clostridia_o__Osci...  1.404265e-24   \nk__Bacteria_p__Firmicutes_c__Clostridia_o__Osci...  1.404265e-24   \nk__Bacteria_p__Desulfobacterota_c__Desulfovibri...  1.404265e-24   \nk__Bacteria_p__Firmicutes_c__Clostridia_o__Mono...  1.404265e-24   \nk__Bacteria_p__Firmicutes_c__Bacilli_o__Erysipe...  1.404265e-24   \nk__Bacteria_p__Firmicutes_c__Clostridia_o__Osci...  1.404265e-24   \nk__Bacteria_p__Firmicutes_c__Clostridia_o__Osci...  1.404265e-24   \nk__Bacteria_p__Firmicutes_c__Clostridia_o__Osci...  1.404265e-24   \nk__Bacteria_p__Firmicutes_c__Clostridia_o__Osci...  1.404265e-24   \nk__Bacteria_p__Firmicutes_c__Bacilli_o__RF39_f_...  1.404265e-24   \nk__Bacteria_p__Firmicutes_c__Bacilli_o__RF39_f_...  1.404265e-24   \nk__Bacteria_p__Bacteroidota_c__Bacteroidia_o__B...  1.404265e-24   \nk__Bacteria_p__Firmicutes_c__Clostridia_o__Osci...  1.404265e-24   \nk__Bacteria_p__Firmicutes_c__Bacilli_o__Erysipe...  1.404265e-24   \nk__Bacteria_p__Firmicutes_c__Bacilli_o__Erysipe...  1.404265e-24   \nk__Bacteria_p__Firmicutes_c__Bacilli_o__Erysipe...  1.404265e-24   \nk__Bacteria_p__Firmicutes_c__Bacilli_o__Erysipe...  1.404265e-24   \nk__Bacteria_p__Bacteroidota_c__Bacteroidia_o__B...  1.404265e-24   \nk__Bacteria_p__Firmicutes_c__Clostridia_o__Lach...  1.404265e-24   \nk__Bacteria_p__Firmicutes_c__Bacilli_o__Lactoba...  1.404265e-24   \nk__Bacteria_p__Firmicutes_c__Clostridia_o__Lach...  1.404265e-24   \nk__Bacteria_p__Bacteroidota_c__Bacteroidia_o__B...  1.404265e-24   \nk__Bacteria_p__Firmicutes_c__Clostridia_o__Lach...  1.404265e-24   \nk__Bacteria_p__Firmicutes_c__Bacilli_o__Erysipe...  1.404265e-24   \nk__Bacteria_p__Firmicutes_c__Bacilli_o__Erysipe...  1.404265e-24   \nk__Bacteria_p__Firmicutes_c__Clostridia_o__Osci...  1.404265e-24   \nk__Bacteria_p__Proteobacteria_c__Gammaproteobac...  1.404265e-24   \nk__Bacteria_p__Proteobacteria_c__Gammaproteobac...  1.404265e-24   \nk__Bacteria_p__Proteobacteria_c__Gammaproteobac...  1.404265e-24   \nk__Bacteria_p__Proteobacteria_c__Gammaproteobac...  1.404265e-24   \nk__Bacteria_p__Firmicutes_c__Clostridia_o__Lach...  1.404265e-24   \nk__Bacteria_p__Firmicutes_c__Clostridia_o__Lach...  1.404265e-24   \nk__Bacteria_p__Firmicutes_c__Clostridia_o__Lach...  1.404265e-24   \nk__Bacteria_p__Firmicutes_c__Clostridia_o__Lach...  1.404265e-24   \nk__Bacteria_p__Cyanobacteria_c__Vampirivibrioni...  1.404265e-24   \nk__Bacteria_p__Cyanobacteria_c__Vampirivibrioni...  1.404265e-24   \nk__Bacteria_p__Firmicutes_c__Bacilli_o__Erysipe...  1.404265e-24   \nk__Bacteria_p__Firmicutes_c__Bacilli_o__Erysipe...  1.404265e-24   \nk__Bacteria_p__Firmicutes_c__Clostridia_o__Osci...  1.404265e-24   \n\n                                                        q-values label  \nX_features                                                              \nk__Bacteria_p__Patescibacteria_c__Saccharimonad...  4.914929e-23   neg  \nk__Bacteria_p__Patescibacteria_c__Saccharimonad...  4.914929e-23   neg  \nk__Bacteria_p__Firmicutes_c__Clostridia_o__Lach...  4.914929e-23   neg  \nk__Bacteria_p__Firmicutes_c__Clostridia_o__Lach...  4.914929e-23   neg  \nk__Bacteria_p__Proteobacteria_c__Gammaproteobac...  4.914929e-23   pos  \nk__Bacteria_p__Bacteroidota_c__Bacteroidia_o__B...  4.914929e-23   pos  \nk__Bacteria_p__Bacteroidota_c__Bacteroidia_o__B...  4.914929e-23   neg  \nk__Bacteria_p__Firmicutes_c__Clostridia_o__Osci...  4.914929e-23   neg  \nk__Bacteria_p__Firmicutes_c__Clostridia_o__Osci...  4.914929e-23   neg  \nk__Bacteria_p__Desulfobacterota_c__Desulfovibri...  4.914929e-23   neg  \nk__Bacteria_p__Firmicutes_c__Clostridia_o__Mono...  4.914929e-23   neg  \nk__Bacteria_p__Firmicutes_c__Bacilli_o__Erysipe...  4.914929e-23   neg  \nk__Bacteria_p__Firmicutes_c__Clostridia_o__Osci...  4.914929e-23   neg  \nk__Bacteria_p__Firmicutes_c__Clostridia_o__Osci...  4.914929e-23   neg  \nk__Bacteria_p__Firmicutes_c__Clostridia_o__Osci...  4.914929e-23   neg  \nk__Bacteria_p__Firmicutes_c__Clostridia_o__Osci...  4.914929e-23   neg  \nk__Bacteria_p__Firmicutes_c__Bacilli_o__RF39_f_...  4.914929e-23   neg  \nk__Bacteria_p__Firmicutes_c__Bacilli_o__RF39_f_...  4.914929e-23   neg  \nk__Bacteria_p__Bacteroidota_c__Bacteroidia_o__B...  4.914929e-23   pos  \nk__Bacteria_p__Firmicutes_c__Clostridia_o__Osci...  4.914929e-23   neg  \nk__Bacteria_p__Firmicutes_c__Bacilli_o__Erysipe...  4.914929e-23   pos  \nk__Bacteria_p__Firmicutes_c__Bacilli_o__Erysipe...  4.914929e-23   neg  \nk__Bacteria_p__Firmicutes_c__Bacilli_o__Erysipe...  4.914929e-23   pos  \nk__Bacteria_p__Firmicutes_c__Bacilli_o__Erysipe...  4.914929e-23   neg  \nk__Bacteria_p__Bacteroidota_c__Bacteroidia_o__B...  4.914929e-23   pos  \nk__Bacteria_p__Firmicutes_c__Clostridia_o__Lach...  4.914929e-23   pos  \nk__Bacteria_p__Firmicutes_c__Bacilli_o__Lactoba...  4.914929e-23   pos  \nk__Bacteria_p__Firmicutes_c__Clostridia_o__Lach...  4.914929e-23   pos  \nk__Bacteria_p__Bacteroidota_c__Bacteroidia_o__B...  4.914929e-23   pos  \nk__Bacteria_p__Firmicutes_c__Clostridia_o__Lach...  4.914929e-23   pos  \nk__Bacteria_p__Firmicutes_c__Bacilli_o__Erysipe...  4.914929e-23   pos  \nk__Bacteria_p__Firmicutes_c__Bacilli_o__Erysipe...  4.914929e-23   pos  \nk__Bacteria_p__Firmicutes_c__Clostridia_o__Osci...  4.914929e-23   pos  \nk__Bacteria_p__Proteobacteria_c__Gammaproteobac...  4.914929e-23   pos  \nk__Bacteria_p__Proteobacteria_c__Gammaproteobac...  4.914929e-23   neg  \nk__Bacteria_p__Proteobacteria_c__Gammaproteobac...  4.914929e-23   pos  \nk__Bacteria_p__Proteobacteria_c__Gammaproteobac...  4.914929e-23   neg  \nk__Bacteria_p__Firmicutes_c__Clostridia_o__Lach...  4.914929e-23   pos  \nk__Bacteria_p__Firmicutes_c__Clostridia_o__Lach...  4.914929e-23   neg  \nk__Bacteria_p__Firmicutes_c__Clostridia_o__Lach...  4.914929e-23   pos  \nk__Bacteria_p__Firmicutes_c__Clostridia_o__Lach...  4.914929e-23   neg  \nk__Bacteria_p__Cyanobacteria_c__Vampirivibrioni...  4.914929e-23   pos  \nk__Bacteria_p__Cyanobacteria_c__Vampirivibrioni...  4.914929e-23   pos  \nk__Bacteria_p__Firmicutes_c__Bacilli_o__Erysipe...  4.914929e-23   pos  \nk__Bacteria_p__Firmicutes_c__Bacilli_o__Erysipe...  4.914929e-23   pos  \nk__Bacteria_p__Firmicutes_c__Clostridia_o__Osci...  4.914929e-23   pos  ",
      "text/html": "<div>\n<style scoped>\n    .dataframe tbody tr th:only-of-type {\n        vertical-align: middle;\n    }\n\n    .dataframe tbody tr th {\n        vertical-align: top;\n    }\n\n    .dataframe thead th {\n        text-align: right;\n    }\n</style>\n<table border=\"1\" class=\"dataframe\">\n  <thead>\n    <tr style=\"text-align: right;\">\n      <th></th>\n      <th>Y_features</th>\n      <th>association</th>\n      <th>p-values</th>\n      <th>q-values</th>\n      <th>label</th>\n    </tr>\n    <tr>\n      <th>X_features</th>\n      <th></th>\n      <th></th>\n      <th></th>\n      <th></th>\n      <th></th>\n    </tr>\n  </thead>\n  <tbody>\n    <tr>\n      <th>k__Bacteria_p__Patescibacteria_c__Saccharimonadia_o__Saccharimonadales_f__Saccharimonadaceae_g__Candidatus_Saccharimonas_</th>\n      <td>CBM32</td>\n      <td>-1.0</td>\n      <td>1.404265e-24</td>\n      <td>4.914929e-23</td>\n      <td>neg</td>\n    </tr>\n    <tr>\n      <th>k__Bacteria_p__Patescibacteria_c__Saccharimonadia_o__Saccharimonadales_f__Saccharimonadaceae_g__Candidatus_Saccharimonas_</th>\n      <td>CE0</td>\n      <td>-1.0</td>\n      <td>1.404265e-24</td>\n      <td>4.914929e-23</td>\n      <td>neg</td>\n    </tr>\n    <tr>\n      <th>k__Bacteria_p__Firmicutes_c__Clostridia_o__Lachnospirales_f__Lachnospiraceae_g__Marvinbryantia_</th>\n      <td>CBM32</td>\n      <td>-1.0</td>\n      <td>1.404265e-24</td>\n      <td>4.914929e-23</td>\n      <td>neg</td>\n    </tr>\n    <tr>\n      <th>k__Bacteria_p__Firmicutes_c__Clostridia_o__Lachnospirales_f__Lachnospiraceae_g__Marvinbryantia_</th>\n      <td>CE0</td>\n      <td>-1.0</td>\n      <td>1.404265e-24</td>\n      <td>4.914929e-23</td>\n      <td>neg</td>\n    </tr>\n    <tr>\n      <th>k__Bacteria_p__Proteobacteria_c__Gammaproteobacteria_o__Burkholderiales_f__Sutterellaceae_g__Sutterella_</th>\n      <td>GH43_26</td>\n      <td>1.0</td>\n      <td>1.404265e-24</td>\n      <td>4.914929e-23</td>\n      <td>pos</td>\n    </tr>\n    <tr>\n      <th>k__Bacteria_p__Bacteroidota_c__Bacteroidia_o__Bacteroidales_f__Marinifilaceae_g__Odoribacter_</th>\n      <td>GT8</td>\n      <td>1.0</td>\n      <td>1.404265e-24</td>\n      <td>4.914929e-23</td>\n      <td>pos</td>\n    </tr>\n    <tr>\n      <th>k__Bacteria_p__Bacteroidota_c__Bacteroidia_o__Bacteroidales_f__Marinifilaceae_g__Odoribacter_</th>\n      <td>GH32</td>\n      <td>-1.0</td>\n      <td>1.404265e-24</td>\n      <td>4.914929e-23</td>\n      <td>neg</td>\n    </tr>\n    <tr>\n      <th>k__Bacteria_p__Firmicutes_c__Clostridia_o__Oscillospirales_f__Eubacterium_coprostanoligenes_group_g__Eubacterium_coprostanoligenes_group_</th>\n      <td>CBM32</td>\n      <td>-1.0</td>\n      <td>1.404265e-24</td>\n      <td>4.914929e-23</td>\n      <td>neg</td>\n    </tr>\n    <tr>\n      <th>k__Bacteria_p__Firmicutes_c__Clostridia_o__Oscillospirales_f__Eubacterium_coprostanoligenes_group_g__Eubacterium_coprostanoligenes_group_</th>\n      <td>CE0</td>\n      <td>-1.0</td>\n      <td>1.404265e-24</td>\n      <td>4.914929e-23</td>\n      <td>neg</td>\n    </tr>\n    <tr>\n      <th>k__Bacteria_p__Desulfobacterota_c__Desulfovibrionia_o__Desulfovibrionales_f__Desulfovibrionaceae_g__Desulfovibrio_</th>\n      <td>GT0</td>\n      <td>-1.0</td>\n      <td>1.404265e-24</td>\n      <td>4.914929e-23</td>\n      <td>neg</td>\n    </tr>\n    <tr>\n      <th>k__Bacteria_p__Firmicutes_c__Clostridia_o__Monoglobales_f__Monoglobaceae_g__Monoglobus_</th>\n      <td>GH3</td>\n      <td>-1.0</td>\n      <td>1.404265e-24</td>\n      <td>4.914929e-23</td>\n      <td>neg</td>\n    </tr>\n    <tr>\n      <th>k__Bacteria_p__Firmicutes_c__Bacilli_o__Erysipelotrichales_f__Erysipelotrichaceae_g__Dubosiella_</th>\n      <td>PL8_2</td>\n      <td>-1.0</td>\n      <td>1.404265e-24</td>\n      <td>4.914929e-23</td>\n      <td>neg</td>\n    </tr>\n    <tr>\n      <th>k__Bacteria_p__Firmicutes_c__Clostridia_o__Oscillospirales_f__Butyricicoccaceae_g__Butyricicoccus_</th>\n      <td>GH24</td>\n      <td>-1.0</td>\n      <td>1.404265e-24</td>\n      <td>4.914929e-23</td>\n      <td>neg</td>\n    </tr>\n    <tr>\n      <th>k__Bacteria_p__Firmicutes_c__Clostridia_o__Oscillospirales_f__Butyricicoccaceae_g__Butyricicoccus_</th>\n      <td>GT4</td>\n      <td>-1.0</td>\n      <td>1.404265e-24</td>\n      <td>4.914929e-23</td>\n      <td>neg</td>\n    </tr>\n    <tr>\n      <th>k__Bacteria_p__Firmicutes_c__Clostridia_o__Oscillospirales_f__Butyricicoccaceae_g__Butyricicoccus_</th>\n      <td>GT9</td>\n      <td>-1.0</td>\n      <td>1.404265e-24</td>\n      <td>4.914929e-23</td>\n      <td>neg</td>\n    </tr>\n    <tr>\n      <th>k__Bacteria_p__Firmicutes_c__Clostridia_o__Oscillospirales_f__Ruminococcaceae_g__Eubacterium_siraeum_group_</th>\n      <td>PL8_2</td>\n      <td>-1.0</td>\n      <td>1.404265e-24</td>\n      <td>4.914929e-23</td>\n      <td>neg</td>\n    </tr>\n    <tr>\n      <th>k__Bacteria_p__Firmicutes_c__Bacilli_o__RF39_f__RF39_g__RF39_</th>\n      <td>CBM32</td>\n      <td>-1.0</td>\n      <td>1.404265e-24</td>\n      <td>4.914929e-23</td>\n      <td>neg</td>\n    </tr>\n    <tr>\n      <th>k__Bacteria_p__Firmicutes_c__Bacilli_o__RF39_f__RF39_g__RF39_</th>\n      <td>CE0</td>\n      <td>-1.0</td>\n      <td>1.404265e-24</td>\n      <td>4.914929e-23</td>\n      <td>neg</td>\n    </tr>\n    <tr>\n      <th>k__Bacteria_p__Bacteroidota_c__Bacteroidia_o__Bacteroidales_f__Prevotellaceae_g__Alloprevotella_</th>\n      <td>GH159</td>\n      <td>1.0</td>\n      <td>1.404265e-24</td>\n      <td>4.914929e-23</td>\n      <td>pos</td>\n    </tr>\n    <tr>\n      <th>k__Bacteria_p__Firmicutes_c__Clostridia_o__Oscillospirales_f__Ruminococcaceae_g__Incertae_Sedis_</th>\n      <td>PL8_2</td>\n      <td>-1.0</td>\n      <td>1.404265e-24</td>\n      <td>4.914929e-23</td>\n      <td>neg</td>\n    </tr>\n    <tr>\n      <th>k__Bacteria_p__Firmicutes_c__Bacilli_o__Erysipelotrichales_f__Erysipelotrichaceae_g__Turicibacter_</th>\n      <td>GH88</td>\n      <td>1.0</td>\n      <td>1.404265e-24</td>\n      <td>4.914929e-23</td>\n      <td>pos</td>\n    </tr>\n    <tr>\n      <th>k__Bacteria_p__Firmicutes_c__Bacilli_o__Erysipelotrichales_f__Erysipelotrichaceae_g__Turicibacter_</th>\n      <td>GH13_37</td>\n      <td>-1.0</td>\n      <td>1.404265e-24</td>\n      <td>4.914929e-23</td>\n      <td>neg</td>\n    </tr>\n    <tr>\n      <th>k__Bacteria_p__Firmicutes_c__Bacilli_o__Erysipelotrichales_f__Erysipelotrichaceae_g__Turicibacter_</th>\n      <td>CBM6</td>\n      <td>1.0</td>\n      <td>1.404265e-24</td>\n      <td>4.914929e-23</td>\n      <td>pos</td>\n    </tr>\n    <tr>\n      <th>k__Bacteria_p__Firmicutes_c__Bacilli_o__Erysipelotrichales_f__Erysipelotrichaceae_g__Turicibacter_</th>\n      <td>GH5</td>\n      <td>-1.0</td>\n      <td>1.404265e-24</td>\n      <td>4.914929e-23</td>\n      <td>neg</td>\n    </tr>\n    <tr>\n      <th>k__Bacteria_p__Bacteroidota_c__Bacteroidia_o__Bacteroidales_f__Bacteroidaceae_g__Bacteroides_</th>\n      <td>GT0</td>\n      <td>1.0</td>\n      <td>1.404265e-24</td>\n      <td>4.914929e-23</td>\n      <td>pos</td>\n    </tr>\n    <tr>\n      <th>k__Bacteria_p__Firmicutes_c__Clostridia_o__Lachnospirales_f__Lachnospiraceae_g__ASF356_</th>\n      <td>GH43_26</td>\n      <td>1.0</td>\n      <td>1.404265e-24</td>\n      <td>4.914929e-23</td>\n      <td>pos</td>\n    </tr>\n    <tr>\n      <th>k__Bacteria_p__Firmicutes_c__Bacilli_o__Lactobacillales_f__Streptococcaceae_g__Streptococcus_</th>\n      <td>GH43_10</td>\n      <td>1.0</td>\n      <td>1.404265e-24</td>\n      <td>4.914929e-23</td>\n      <td>pos</td>\n    </tr>\n    <tr>\n      <th>k__Bacteria_p__Firmicutes_c__Clostridia_o__Lachnospirales_f__Lachnospiraceae_g__A2_</th>\n      <td>GT0</td>\n      <td>1.0</td>\n      <td>1.404265e-24</td>\n      <td>4.914929e-23</td>\n      <td>pos</td>\n    </tr>\n    <tr>\n      <th>k__Bacteria_p__Bacteroidota_c__Bacteroidia_o__Bacteroidales_f__Tannerellaceae_g__Parabacteroides_</th>\n      <td>GH159</td>\n      <td>1.0</td>\n      <td>1.404265e-24</td>\n      <td>4.914929e-23</td>\n      <td>pos</td>\n    </tr>\n    <tr>\n      <th>k__Bacteria_p__Firmicutes_c__Clostridia_o__Lachnospirales_f__Lachnospiraceae_g__Roseburia_</th>\n      <td>GH115</td>\n      <td>1.0</td>\n      <td>1.404265e-24</td>\n      <td>4.914929e-23</td>\n      <td>pos</td>\n    </tr>\n    <tr>\n      <th>k__Bacteria_p__Firmicutes_c__Bacilli_o__Erysipelotrichales_f__Erysipelotrichaceae_g__Faecalibaculum_</th>\n      <td>GH43_34</td>\n      <td>1.0</td>\n      <td>1.404265e-24</td>\n      <td>4.914929e-23</td>\n      <td>pos</td>\n    </tr>\n    <tr>\n      <th>k__Bacteria_p__Firmicutes_c__Bacilli_o__Erysipelotrichales_f__Erysipelotrichaceae_g__Faecalibaculum_</th>\n      <td>GH43_19</td>\n      <td>1.0</td>\n      <td>1.404265e-24</td>\n      <td>4.914929e-23</td>\n      <td>pos</td>\n    </tr>\n    <tr>\n      <th>k__Bacteria_p__Firmicutes_c__Clostridia_o__Oscillospirales_f__Ruminococcaceae_g__Harryflintia_</th>\n      <td>GH159</td>\n      <td>1.0</td>\n      <td>1.404265e-24</td>\n      <td>4.914929e-23</td>\n      <td>pos</td>\n    </tr>\n    <tr>\n      <th>k__Bacteria_p__Proteobacteria_c__Gammaproteobacteria_o__Burkholderiales_f__Sutterellaceae_g__Parasutterella_</th>\n      <td>GH88</td>\n      <td>1.0</td>\n      <td>1.404265e-24</td>\n      <td>4.914929e-23</td>\n      <td>pos</td>\n    </tr>\n    <tr>\n      <th>k__Bacteria_p__Proteobacteria_c__Gammaproteobacteria_o__Burkholderiales_f__Sutterellaceae_g__Parasutterella_</th>\n      <td>GH13_37</td>\n      <td>-1.0</td>\n      <td>1.404265e-24</td>\n      <td>4.914929e-23</td>\n      <td>neg</td>\n    </tr>\n    <tr>\n      <th>k__Bacteria_p__Proteobacteria_c__Gammaproteobacteria_o__Burkholderiales_f__Sutterellaceae_g__Parasutterella_</th>\n      <td>CBM6</td>\n      <td>1.0</td>\n      <td>1.404265e-24</td>\n      <td>4.914929e-23</td>\n      <td>pos</td>\n    </tr>\n    <tr>\n      <th>k__Bacteria_p__Proteobacteria_c__Gammaproteobacteria_o__Burkholderiales_f__Sutterellaceae_g__Parasutterella_</th>\n      <td>GH5</td>\n      <td>-1.0</td>\n      <td>1.404265e-24</td>\n      <td>4.914929e-23</td>\n      <td>neg</td>\n    </tr>\n    <tr>\n      <th>k__Bacteria_p__Firmicutes_c__Clostridia_o__Lachnospirales_f__Lachnospiraceae_g__Frisingicoccus_</th>\n      <td>GH88</td>\n      <td>1.0</td>\n      <td>1.404265e-24</td>\n      <td>4.914929e-23</td>\n      <td>pos</td>\n    </tr>\n    <tr>\n      <th>k__Bacteria_p__Firmicutes_c__Clostridia_o__Lachnospirales_f__Lachnospiraceae_g__Frisingicoccus_</th>\n      <td>GH13_37</td>\n      <td>-1.0</td>\n      <td>1.404265e-24</td>\n      <td>4.914929e-23</td>\n      <td>neg</td>\n    </tr>\n    <tr>\n      <th>k__Bacteria_p__Firmicutes_c__Clostridia_o__Lachnospirales_f__Lachnospiraceae_g__Frisingicoccus_</th>\n      <td>CBM6</td>\n      <td>1.0</td>\n      <td>1.404265e-24</td>\n      <td>4.914929e-23</td>\n      <td>pos</td>\n    </tr>\n    <tr>\n      <th>k__Bacteria_p__Firmicutes_c__Clostridia_o__Lachnospirales_f__Lachnospiraceae_g__Frisingicoccus_</th>\n      <td>GH5</td>\n      <td>-1.0</td>\n      <td>1.404265e-24</td>\n      <td>4.914929e-23</td>\n      <td>neg</td>\n    </tr>\n    <tr>\n      <th>k__Bacteria_p__Cyanobacteria_c__Vampirivibrionia_o__Gastranaerophilales_f__Gastranaerophilales_g__Gastranaerophilales_</th>\n      <td>GH106</td>\n      <td>1.0</td>\n      <td>1.404265e-24</td>\n      <td>4.914929e-23</td>\n      <td>pos</td>\n    </tr>\n    <tr>\n      <th>k__Bacteria_p__Cyanobacteria_c__Vampirivibrionia_o__Gastranaerophilales_f__Gastranaerophilales_g__Gastranaerophilales_</th>\n      <td>GH78</td>\n      <td>1.0</td>\n      <td>1.404265e-24</td>\n      <td>4.914929e-23</td>\n      <td>pos</td>\n    </tr>\n    <tr>\n      <th>k__Bacteria_p__Firmicutes_c__Bacilli_o__Erysipelotrichales_f__Erysipelotrichaceae_g__Allobaculum_</th>\n      <td>GH106</td>\n      <td>1.0</td>\n      <td>1.404265e-24</td>\n      <td>4.914929e-23</td>\n      <td>pos</td>\n    </tr>\n    <tr>\n      <th>k__Bacteria_p__Firmicutes_c__Bacilli_o__Erysipelotrichales_f__Erysipelotrichaceae_g__Allobaculum_</th>\n      <td>GH78</td>\n      <td>1.0</td>\n      <td>1.404265e-24</td>\n      <td>4.914929e-23</td>\n      <td>pos</td>\n    </tr>\n    <tr>\n      <th>k__Bacteria_p__Firmicutes_c__Clostridia_o__Oscillospirales_f__Ruminococcaceae_g__Anaerotruncus_</th>\n      <td>GH115</td>\n      <td>1.0</td>\n      <td>1.404265e-24</td>\n      <td>4.914929e-23</td>\n      <td>pos</td>\n    </tr>\n  </tbody>\n</table>\n</div>"
     },
     "execution_count": 35,
     "metadata": {},
     "output_type": "execute_result"
    }
   ],
   "source": [
    "cazyasvBM005 = filter_qv(cazyasvBM)\n"
   ],
   "metadata": {
    "collapsed": false,
    "pycharm": {
     "name": "#%%\n"
    }
   }
  },
  {
   "cell_type": "code",
   "execution_count": 36,
   "outputs": [
    {
     "name": "stderr",
     "output_type": "stream",
     "text": [
      "C:\\Users\\14152\\AppData\\Local\\Temp\\ipykernel_20748\\269183473.py:1: SettingWithCopyWarning: \n",
      "A value is trying to be set on a copy of a slice from a DataFrame.\n",
      "Try using .loc[row_indexer,col_indexer] = value instead\n",
      "\n",
      "See the caveats in the documentation: https://pandas.pydata.org/pandas-docs/stable/user_guide/indexing.html#returning-a-view-versus-a-copy\n",
      "  cazyasvBM005['label']=cazyasvBM005.association.apply(lambda x: \"positive\" if x > 0  else \"negtive\")\n"
     ]
    }
   ],
   "source": [
    "cazyasvBM005['label']=cazyasvBM005.association.apply(lambda x: \"positive\" if x > 0  else \"negtive\")\n",
    "cazyasvBM005.to_excel(r'D:\\Work\\分析项目\\wxy\\正式结果整理\\16S+宏基因组\\丰度分析\\halla\\CazyASV\\CazyASVBM_synthetic_output_0.8.20_fdr_alpha_0.05\\BM_synthetic_output_0.8.20_fdr_alpha0.05\\all_associations_for_net.xlsx')"
   ],
   "metadata": {
    "collapsed": false,
    "pycharm": {
     "name": "#%%\n"
    }
   }
  },
  {
   "cell_type": "code",
   "execution_count": null,
   "outputs": [],
   "source": [],
   "metadata": {
    "collapsed": false,
    "pycharm": {
     "name": "#%%\n"
    }
   }
  }
 ],
 "metadata": {
  "kernelspec": {
   "display_name": "Python 3",
   "language": "python",
   "name": "python3"
  },
  "language_info": {
   "codemirror_mode": {
    "name": "ipython",
    "version": 2
   },
   "file_extension": ".py",
   "mimetype": "text/x-python",
   "name": "python",
   "nbconvert_exporter": "python",
   "pygments_lexer": "ipython2",
   "version": "2.7.6"
  }
 },
 "nbformat": 4,
 "nbformat_minor": 0
}