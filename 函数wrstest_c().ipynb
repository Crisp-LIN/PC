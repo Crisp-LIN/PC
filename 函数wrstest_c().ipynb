{
 "cells": [
  {
   "cell_type": "code",
   "execution_count": null,
   "metadata": {
    "collapsed": true,
    "pycharm": {
     "name": "#%%\n"
    }
   },
   "outputs": [],
   "source": [
    "def wrstest_c(df1, columnsname):\n",
    "    \"\"\"\n",
    "    删去把返回的df存为excel的功能\n",
    "\n",
    "    :param df1: 处理的数据. 数据类型：dataframe\n",
    "    :param columnsname: df中每一列的列名\n",
    "    :return: 返回一个储存显著性检验的组名和检验p值的df\n",
    "\n",
    "    使用这个函数，df1的提供分组信息的列的列名必须为”GroupByTimeDiet“\n",
    "    需要的库：pandas scipy\n",
    "    \"\"\"\n",
    "\n",
    "    dfGroup = df1.groupby('GroupByTimeDiet')  # 按'GroupByTimeDiet'分组\n",
    "    KeyList = list(dfGroup.groups.keys())  # 分组组名转为列表\n",
    "    i = 0\n",
    "    resultWilcoxonRankSumtest = {} # 定义字典 用于储存秩和检验的结果\n",
    "    while i < len(KeyList):\n",
    "        # 遍历的次数 = 分组的个数\n",
    "        data1 = df1[columnsname][df1.GroupByTimeDiet == KeyList[i]] # data1 = df1的\"columnsname\"列中KeyList[i]组的数据\n",
    "        p = i + 1\n",
    "        while p < len(KeyList):\n",
    "            data2 = df1[columnsname][df1.GroupByTimeDiet == KeyList[p]] # data2 = df1的\"columnsname\"列中KeyList[p]组的数据。如果i是1，p就是2 data1和data2就是同一列里KeyList[1]组和KeyList[2]组的数据\n",
    "\n",
    "            rWRStKey = KeyList[i] + \" \" + KeyList[p]  # 设置字典里每个键的名字，KeyList[i]和KeyList[p]这两个组名的组合，以空格分开\n",
    "            WilcoxonRankSumtestPvalue = ss.mannwhitneyu(data1, data2)[1]  # 对data1和data2进行Wilcoxon Rank Sum test ，WilcoxonRankSumtestPvalue储存p值\n",
    "            resultWilcoxonRankSumtest[rWRStKey] = WilcoxonRankSumtestPvalue  # 设置键的值为检验结果的p值\n",
    "            p += 1\n",
    "        i += 1\n",
    "    df = pd.DataFrame([resultWilcoxonRankSumtest]) # 字典转DF\n",
    "    df.index = [columnsname]  # 修改行索引为待处理的表中的列名\n",
    "    return df.T"
   ]
  }
 ],
 "metadata": {
  "kernelspec": {
   "display_name": "Python 3",
   "language": "python",
   "name": "python3"
  },
  "language_info": {
   "codemirror_mode": {
    "name": "ipython",
    "version": 2
   },
   "file_extension": ".py",
   "mimetype": "text/x-python",
   "name": "python",
   "nbconvert_exporter": "python",
   "pygments_lexer": "ipython2",
   "version": "2.7.6"
  }
 },
 "nbformat": 4,
 "nbformat_minor": 0
}