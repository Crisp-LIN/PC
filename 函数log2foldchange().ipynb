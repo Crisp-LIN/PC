{
 "cells": [
  {
   "cell_type": "markdown",
   "source": [
    "### 使用顺序\n",
    "### 1.tofloat()；2.log2fc_pretreatment()；3.log2foldchange()"
   ],
   "metadata": {
    "collapsed": false,
    "pycharm": {
     "name": "#%% md\n"
    }
   }
  },
  {
   "cell_type": "markdown",
   "source": [
    "### 函数log2foldchange()\n",
    "### 计算两两组间log2FoldChange"
   ],
   "metadata": {
    "collapsed": false,
    "pycharm": {
     "name": "#%% md\n"
    }
   }
  },
  {
   "cell_type": "code",
   "execution_count": 4,
   "outputs": [],
   "source": [
    "def log2foldchange(df):\n",
    "    \"\"\"\n",
    "    用于计算两两组间log2FoldChange\n",
    "\n",
    "    :param df: 用于计算的数据表,dtype:dataframe。除行列索引外，所有的元素都必须是非零的数值，且数据类型必须为 \"float\"；\n",
    "    :return: 计算log2FoldChange的结果作为新列添加到输入的df中。返回值即是添加完结果的df\n",
    "\n",
    "    需要 “import numpy as np”\n",
    "    \"\"\"\n",
    "    counter = len(df.columns)\n",
    "    i = 0\n",
    "    while i < counter:\n",
    "        data1 = df[df.columns[i]] # data1 = df的一列\n",
    "        p = i + 1\n",
    "        while p < counter:\n",
    "            data2 = df[df.columns[p]] # data2 = df的一列\n",
    "            ColName = df.columns[p] + \"/\" + df.columns[i]\n",
    "            df[ColName]=np.log2(data2/data1)\n",
    "            p += 1\n",
    "        i += 1\n",
    "    return df"
   ],
   "metadata": {
    "collapsed": false,
    "pycharm": {
     "name": "#%%\n"
    }
   }
  },
  {
   "cell_type": "markdown",
   "source": [
    "\n",
    "### 函数 tofloat()\n",
    "### 把df中数值的数据类型转换为 \"float\"；结果返回一个df"
   ],
   "metadata": {
    "collapsed": false,
    "pycharm": {
     "name": "#%% md\n"
    }
   }
  },
  {
   "cell_type": "code",
   "execution_count": 5,
   "outputs": [],
   "source": [
    "def tofloat(df,col=\"GroupByTimeDiet\"):\n",
    "    \"\"\"\n",
    "    用于把df里数值的数据类型转为 \"float\"，只支持有一个列的元素包含非数值的文本\n",
    "\n",
    "    :param df: 需要转换数据类型的数据表。除行列索引外和一个分组列外，所有的元素都必须是数值。\n",
    "    :param col: 分组列的列名, dtype:str\n",
    "    :return: 转换后的df\n",
    "    \"\"\"\n",
    "    for i in df.columns:\n",
    "        if i != col:\n",
    "            df[i] = df[i].astype(float, errors = 'raise')\n",
    "    return df"
   ],
   "metadata": {
    "collapsed": false,
    "pycharm": {
     "name": "#%%\n"
    }
   }
  },
  {
   "cell_type": "markdown",
   "source": [
    "### 函数 log2fc_pretreatment()\n",
    "### 用于log2FoldChange计算的前处理 包括：1.删除包含字符串的列；2.每个数值元素加0.0001；3.分组求均值；4.返回新的df\n",
    "### 结果返回一个df，可直接用于计算log2FoldChange"
   ],
   "metadata": {
    "collapsed": false,
    "pycharm": {
     "name": "#%% md\n"
    }
   }
  },
  {
   "cell_type": "code",
   "execution_count": 6,
   "outputs": [],
   "source": [
    "def log2fc_pretreatment(df,col):\n",
    "    \"\"\"\n",
    "    log2FC计算的前处理 包括 1.删除包含字符串的列 2.每个数值元素加0.0001 3.求丰度表每个条目在每个组中的均值（分组求均值） 4.返回新的df\n",
    "    结果可用于计算log2FoldChange\n",
    "\n",
    "    :param df:\n",
    "    :param col: 分组列的列名, dtype:str\n",
    "    :return: 结果df dtype：dataframe\n",
    "    \"\"\"\n",
    "    # 删除包含字符串的列\n",
    "    df_tem = df.drop([col],axis=1,inplace=False)\n",
    "    # df_de中每个元素加0.0001\n",
    "    df_tem = df_tem.applymap(lambda x: x + 0.0001)\n",
    "    # 把df1[\"GroupByTimeDiet\"]插入df_de第一列\n",
    "    df_tem.insert(0,col,df[col])\n",
    "    dfAddNum = df_tem\n",
    "\n",
    "    # 对数据分组，按分组列分组\n",
    "    dfAddNum.groupby(col)\n",
    "    # 再获取每一列，计算组内均值\n",
    "    SeriesList = [] # 定义一个存series的列表\n",
    "    for i in dfAddNum.columns:\n",
    "        if i != col:\n",
    "            SeriesList.append(dfAddNum.groupby(col)[i].mean())\n",
    "        else:\n",
    "            print(\"分组列，不计算\")\n",
    "\n",
    "    # 结果合并为新的df，此df储存每个条目在不同组中的均值\n",
    "    dfSeriesConcat = pd.concat(SeriesList, axis=1).T\n",
    "    return dfSeriesConcat"
   ],
   "metadata": {
    "collapsed": false,
    "pycharm": {
     "name": "#%%\n"
    }
   }
  },
  {
   "cell_type": "markdown",
   "source": [
    "### 函数测试"
   ],
   "metadata": {
    "collapsed": false,
    "pycharm": {
     "name": "#%% md\n"
    }
   }
  },
  {
   "cell_type": "code",
   "execution_count": 2,
   "outputs": [
    {
     "data": {
      "text/plain": "                  XG.0w.6   XG.0w.7   XG.0w.8   ND.0w.5   ND.0w.7   ND.0w.8  \\\n#OTU ID                                                                       \nGroupByTimeDiet       ND0       ND0       ND0       ND0       ND0       ND0   \nASV0             0.082868  0.122091  0.130767   0.03806  0.166999  0.053085   \nASV1             0.002194  0.000499  0.000432  0.019113  0.000299  0.005551   \nASV2             0.057772  0.042813  0.031412  0.064187  0.028553  0.016853   \nASV3             0.029351  0.047434  0.046603  0.012166  0.068076  0.022171   \n...                   ...       ...       ...       ...       ...       ...   \nASV3562                 0         0         0         0         0         0   \nASV3563                 0         0         0         0         0         0   \nASV3564                 0         0         0         0         0         0   \nASV3565                 0         0         0         0         0         0   \nASV3566                 0         0         0         0         0         0   \n\n                  XG.2w.1   XG.2w.3 XG.2w.3.2   XG.2w.5  ...   ND.2w.5  \\\n#OTU ID                                                  ...             \nGroupByTimeDiet       XG2       XG2       XG2       XG2  ...       ND2   \nASV0             0.037429  0.034803  0.034404  0.050459  ...   0.02513   \nASV1             0.000997  0.006515  0.002493         0  ...  0.214932   \nASV2             0.044675  0.046736  0.055977  0.052786  ...  0.036232   \nASV3             0.007811  0.010271  0.009839  0.017684  ...  0.013861   \n...                   ...       ...       ...       ...  ...       ...   \nASV3562                 0         0         0         0  ...         0   \nASV3563                 0         0         0         0  ...         0   \nASV3564                 0         0         0         0  ...         0   \nASV3565                 0         0         0         0  ...         0   \nASV3566                 0         0         0         0  ...         0   \n\n                  ND.2w.6   ND.2w.7   ND.4w.1   ND.7w.1  ND.7w.10   ND.7w.3  \\\n#OTU ID                                                                       \nGroupByTimeDiet       ND2       ND2       ND2       ND7       ND7       ND7   \nASV0              0.00964  0.034005  0.058204  0.153138  0.159354  0.176473   \nASV1             0.035201   0.21194  0.091078   0.00246  0.012465  0.008476   \nASV2             0.008044  0.013196  0.010039  0.024698  0.017717  0.017052   \nASV3             0.006149  0.010936  0.019379  0.100352  0.052486  0.049196   \n...                   ...       ...       ...       ...       ...       ...   \nASV3562                 0         0         0         0         0         0   \nASV3563                 0         0         0         0         0         0   \nASV3564                 0         0         0         0         0         0   \nASV3565                 0         0         0         0         0         0   \nASV3566                 0         0         0  0.000066         0         0   \n\n                  ND.7w.7   ND.7w.8   ND.7w.9  \n#OTU ID                                        \nGroupByTimeDiet       ND7       ND7       ND7  \nASV0             0.210045  0.214699  0.127443  \nASV1             0.014061  0.004388  0.001529  \nASV2             0.008044  0.014692  0.011335  \nASV3             0.083067   0.05488  0.041018  \n...                   ...       ...       ...  \nASV3562                 0         0         0  \nASV3563                 0         0         0  \nASV3564                 0         0         0  \nASV3565                 0         0         0  \nASV3566                 0         0         0  \n\n[3568 rows x 30 columns]",
      "text/html": "<div>\n<style scoped>\n    .dataframe tbody tr th:only-of-type {\n        vertical-align: middle;\n    }\n\n    .dataframe tbody tr th {\n        vertical-align: top;\n    }\n\n    .dataframe thead th {\n        text-align: right;\n    }\n</style>\n<table border=\"1\" class=\"dataframe\">\n  <thead>\n    <tr style=\"text-align: right;\">\n      <th></th>\n      <th>XG.0w.6</th>\n      <th>XG.0w.7</th>\n      <th>XG.0w.8</th>\n      <th>ND.0w.5</th>\n      <th>ND.0w.7</th>\n      <th>ND.0w.8</th>\n      <th>XG.2w.1</th>\n      <th>XG.2w.3</th>\n      <th>XG.2w.3.2</th>\n      <th>XG.2w.5</th>\n      <th>...</th>\n      <th>ND.2w.5</th>\n      <th>ND.2w.6</th>\n      <th>ND.2w.7</th>\n      <th>ND.4w.1</th>\n      <th>ND.7w.1</th>\n      <th>ND.7w.10</th>\n      <th>ND.7w.3</th>\n      <th>ND.7w.7</th>\n      <th>ND.7w.8</th>\n      <th>ND.7w.9</th>\n    </tr>\n    <tr>\n      <th>#OTU ID</th>\n      <th></th>\n      <th></th>\n      <th></th>\n      <th></th>\n      <th></th>\n      <th></th>\n      <th></th>\n      <th></th>\n      <th></th>\n      <th></th>\n      <th></th>\n      <th></th>\n      <th></th>\n      <th></th>\n      <th></th>\n      <th></th>\n      <th></th>\n      <th></th>\n      <th></th>\n      <th></th>\n      <th></th>\n    </tr>\n  </thead>\n  <tbody>\n    <tr>\n      <th>GroupByTimeDiet</th>\n      <td>ND0</td>\n      <td>ND0</td>\n      <td>ND0</td>\n      <td>ND0</td>\n      <td>ND0</td>\n      <td>ND0</td>\n      <td>XG2</td>\n      <td>XG2</td>\n      <td>XG2</td>\n      <td>XG2</td>\n      <td>...</td>\n      <td>ND2</td>\n      <td>ND2</td>\n      <td>ND2</td>\n      <td>ND2</td>\n      <td>ND7</td>\n      <td>ND7</td>\n      <td>ND7</td>\n      <td>ND7</td>\n      <td>ND7</td>\n      <td>ND7</td>\n    </tr>\n    <tr>\n      <th>ASV0</th>\n      <td>0.082868</td>\n      <td>0.122091</td>\n      <td>0.130767</td>\n      <td>0.03806</td>\n      <td>0.166999</td>\n      <td>0.053085</td>\n      <td>0.037429</td>\n      <td>0.034803</td>\n      <td>0.034404</td>\n      <td>0.050459</td>\n      <td>...</td>\n      <td>0.02513</td>\n      <td>0.00964</td>\n      <td>0.034005</td>\n      <td>0.058204</td>\n      <td>0.153138</td>\n      <td>0.159354</td>\n      <td>0.176473</td>\n      <td>0.210045</td>\n      <td>0.214699</td>\n      <td>0.127443</td>\n    </tr>\n    <tr>\n      <th>ASV1</th>\n      <td>0.002194</td>\n      <td>0.000499</td>\n      <td>0.000432</td>\n      <td>0.019113</td>\n      <td>0.000299</td>\n      <td>0.005551</td>\n      <td>0.000997</td>\n      <td>0.006515</td>\n      <td>0.002493</td>\n      <td>0</td>\n      <td>...</td>\n      <td>0.214932</td>\n      <td>0.035201</td>\n      <td>0.21194</td>\n      <td>0.091078</td>\n      <td>0.00246</td>\n      <td>0.012465</td>\n      <td>0.008476</td>\n      <td>0.014061</td>\n      <td>0.004388</td>\n      <td>0.001529</td>\n    </tr>\n    <tr>\n      <th>ASV2</th>\n      <td>0.057772</td>\n      <td>0.042813</td>\n      <td>0.031412</td>\n      <td>0.064187</td>\n      <td>0.028553</td>\n      <td>0.016853</td>\n      <td>0.044675</td>\n      <td>0.046736</td>\n      <td>0.055977</td>\n      <td>0.052786</td>\n      <td>...</td>\n      <td>0.036232</td>\n      <td>0.008044</td>\n      <td>0.013196</td>\n      <td>0.010039</td>\n      <td>0.024698</td>\n      <td>0.017717</td>\n      <td>0.017052</td>\n      <td>0.008044</td>\n      <td>0.014692</td>\n      <td>0.011335</td>\n    </tr>\n    <tr>\n      <th>ASV3</th>\n      <td>0.029351</td>\n      <td>0.047434</td>\n      <td>0.046603</td>\n      <td>0.012166</td>\n      <td>0.068076</td>\n      <td>0.022171</td>\n      <td>0.007811</td>\n      <td>0.010271</td>\n      <td>0.009839</td>\n      <td>0.017684</td>\n      <td>...</td>\n      <td>0.013861</td>\n      <td>0.006149</td>\n      <td>0.010936</td>\n      <td>0.019379</td>\n      <td>0.100352</td>\n      <td>0.052486</td>\n      <td>0.049196</td>\n      <td>0.083067</td>\n      <td>0.05488</td>\n      <td>0.041018</td>\n    </tr>\n    <tr>\n      <th>...</th>\n      <td>...</td>\n      <td>...</td>\n      <td>...</td>\n      <td>...</td>\n      <td>...</td>\n      <td>...</td>\n      <td>...</td>\n      <td>...</td>\n      <td>...</td>\n      <td>...</td>\n      <td>...</td>\n      <td>...</td>\n      <td>...</td>\n      <td>...</td>\n      <td>...</td>\n      <td>...</td>\n      <td>...</td>\n      <td>...</td>\n      <td>...</td>\n      <td>...</td>\n      <td>...</td>\n    </tr>\n    <tr>\n      <th>ASV3562</th>\n      <td>0</td>\n      <td>0</td>\n      <td>0</td>\n      <td>0</td>\n      <td>0</td>\n      <td>0</td>\n      <td>0</td>\n      <td>0</td>\n      <td>0</td>\n      <td>0</td>\n      <td>...</td>\n      <td>0</td>\n      <td>0</td>\n      <td>0</td>\n      <td>0</td>\n      <td>0</td>\n      <td>0</td>\n      <td>0</td>\n      <td>0</td>\n      <td>0</td>\n      <td>0</td>\n    </tr>\n    <tr>\n      <th>ASV3563</th>\n      <td>0</td>\n      <td>0</td>\n      <td>0</td>\n      <td>0</td>\n      <td>0</td>\n      <td>0</td>\n      <td>0</td>\n      <td>0</td>\n      <td>0</td>\n      <td>0</td>\n      <td>...</td>\n      <td>0</td>\n      <td>0</td>\n      <td>0</td>\n      <td>0</td>\n      <td>0</td>\n      <td>0</td>\n      <td>0</td>\n      <td>0</td>\n      <td>0</td>\n      <td>0</td>\n    </tr>\n    <tr>\n      <th>ASV3564</th>\n      <td>0</td>\n      <td>0</td>\n      <td>0</td>\n      <td>0</td>\n      <td>0</td>\n      <td>0</td>\n      <td>0</td>\n      <td>0</td>\n      <td>0</td>\n      <td>0</td>\n      <td>...</td>\n      <td>0</td>\n      <td>0</td>\n      <td>0</td>\n      <td>0</td>\n      <td>0</td>\n      <td>0</td>\n      <td>0</td>\n      <td>0</td>\n      <td>0</td>\n      <td>0</td>\n    </tr>\n    <tr>\n      <th>ASV3565</th>\n      <td>0</td>\n      <td>0</td>\n      <td>0</td>\n      <td>0</td>\n      <td>0</td>\n      <td>0</td>\n      <td>0</td>\n      <td>0</td>\n      <td>0</td>\n      <td>0</td>\n      <td>...</td>\n      <td>0</td>\n      <td>0</td>\n      <td>0</td>\n      <td>0</td>\n      <td>0</td>\n      <td>0</td>\n      <td>0</td>\n      <td>0</td>\n      <td>0</td>\n      <td>0</td>\n    </tr>\n    <tr>\n      <th>ASV3566</th>\n      <td>0</td>\n      <td>0</td>\n      <td>0</td>\n      <td>0</td>\n      <td>0</td>\n      <td>0</td>\n      <td>0</td>\n      <td>0</td>\n      <td>0</td>\n      <td>0</td>\n      <td>...</td>\n      <td>0</td>\n      <td>0</td>\n      <td>0</td>\n      <td>0</td>\n      <td>0.000066</td>\n      <td>0</td>\n      <td>0</td>\n      <td>0</td>\n      <td>0</td>\n      <td>0</td>\n    </tr>\n  </tbody>\n</table>\n<p>3568 rows × 30 columns</p>\n</div>"
     },
     "execution_count": 2,
     "metadata": {},
     "output_type": "execute_result"
    }
   ],
   "source": [
    "### 导入模块部分\n",
    "import pandas as pd\n",
    "import numpy as np\n",
    "\n",
    "### 读文件\n",
    "df1 = pd.read_excel(r'D:\\Work\\分析项目\\wxy\\宏基因组与16S丰度计算\\ASV丰度(加测数据)\\ASV_relative_depoint.xlsx'\n",
    "                    , header=0, index_col=0)\n",
    "df1.drop([\"Taxonomy\"],axis=1,inplace=True)\n",
    "df1"
   ],
   "metadata": {
    "collapsed": false,
    "pycharm": {
     "name": "#%%\n"
    }
   }
  },
  {
   "cell_type": "code",
   "execution_count": null,
   "outputs": [],
   "source": [
    "df1 = df1.T\n",
    "df1"
   ],
   "metadata": {
    "collapsed": false,
    "pycharm": {
     "name": "#%%\n",
     "is_executing": true
    }
   }
  },
  {
   "cell_type": "code",
   "execution_count": null,
   "outputs": [],
   "source": [
    "\n",
    "dfflo = tofloat(df=df1,col=\"GroupByTimeDiet\")\n",
    "dfpre = log2fc_pretreatment(df=dfflo,col=\"GroupByTimeDiet\")\n",
    "log2foldchange(df=dfpre)"
   ],
   "metadata": {
    "collapsed": false,
    "pycharm": {
     "name": "#%%\n"
    }
   }
  },
  {
   "cell_type": "markdown",
   "source": [
    "### 函数未封装前"
   ],
   "metadata": {
    "collapsed": false,
    "pycharm": {
     "name": "#%% md\n"
    }
   }
  },
  {
   "cell_type": "code",
   "execution_count": 165,
   "outputs": [],
   "source": [
    "### 导入模块部分\n",
    "import pandas as pd\n",
    "import numpy as np\n",
    "\n",
    "### 读文件\n",
    "df1 = pd.read_excel(r'D:\\Work\\分析项目\\wxy\\宏基因组与16S丰度计算\\ASV丰度(加测数据)\\ASV_relative_depoint.xlsx'\n",
    "                    , header=0, index_col=0)\n",
    "df1.drop([\"Taxonomy\"],axis=1,inplace=True)\n",
    "df1 = df1.T\n",
    "\n",
    "\"\"\"要处理的数据存在df1里\"\"\"\n",
    "\n",
    "### 把数据分组 分组信息中的组名转换为列表 这一步没用上\n",
    "dfGroup = df1.groupby('GroupByTimeDiet')  # 按'GroupByTimeDiet'分组\n",
    "KeyList = list(dfGroup.groups.keys())  # 分组组名转为列表\n",
    "len(KeyList)\n",
    "\n",
    "# 转换数据类型\n",
    "for i in df1.columns:\n",
    "    if i != \"GroupByTimeDiet\":\n",
    "        df1[i] = df1[i].astype(float, errors = 'raise')\n",
    "\n",
    "\n",
    "# 1.找到相对丰度表中最小的值\n",
    "\"\"\"失败 0值小数点后的位数不一样，没法替换成空值。这样求出来的最小值只能是0\n",
    "\"\"\"\n",
    "# 2.相对丰度表里所有的值都加上这个最小的值（处理0的问题）第一步失败，改为每个值都加0.0001\n",
    "\n",
    "### 删除包含字符串的列\n",
    "df_de = df1.drop([\"GroupByTimeDiet\"],axis=1,inplace=False)\n",
    "\n",
    "### df_de中每个元素加0.0001\n",
    "df_de = df_de.applymap(lambda x: x + 0.0001)\n",
    "\n",
    "### 把df1[\"GroupByTimeDiet\"]插入df_de第一列\n",
    "df_de.insert(0,\"GroupByTimeDiet\",df1[\"GroupByTimeDiet\"])\n",
    "\n",
    "### df1_AddNum = 加完0.0001的dataframe\n",
    "df1_AddNum = df_de\n",
    "\n",
    "# 3.求丰度表每个条目在每个组中的均值 比如ASV0 在ND0组的均值\n",
    "\n",
    "### 对数据分组，按“GroupByTimeDiet”列分组\n",
    "df1_AddNum.groupby(\"GroupByTimeDiet\")\n",
    "\n",
    "### 再获取每一列，计算组内均值\n",
    "SeriesList = [] # 定义一个存series的列表\n",
    "for i in df1_AddNum.columns:\n",
    "    if i != \"GroupByTimeDiet\":\n",
    "        SeriesList.append(df1_AddNum.groupby(\"GroupByTimeDiet\")[i].mean())\n",
    "    else:\n",
    "        print(\"分组列，不计算\")\n",
    "\n",
    "# 4.结果存为新的df\n",
    "pd.concat(SeriesList, axis=1).T\n",
    "dfSeriesConcat = pd.concat(SeriesList, axis=1).T\n",
    "dfSeriesConcat\n",
    "import numpy as np\n",
    "\n",
    "# 5.用求出来的均值计算组间log2FC 比如log2(ND2的ASV0/ND0的ASV0)\n",
    "\n",
    "# dfSeriesConcat['ND2/ND0']  = dfSeriesConcat.apply(lambda f: log2fc(f['ND2'],f['ND0']), axis=1)\n",
    "counter = len(dfSeriesConcat.columns)\n",
    "i = 0\n",
    "\n",
    "while i < counter:\n",
    "    data1 = dfSeriesConcat[dfSeriesConcat.columns[i]] # data1 = dfSeriesConcat的一列\n",
    "    p = i + 1\n",
    "    while p < counter:\n",
    "        data2 = dfSeriesConcat[dfSeriesConcat.columns[p]] # data2 = dfSeriesConcat的一列\n",
    "        ColName = dfSeriesConcat.columns[p] + \"/\" + dfSeriesConcat.columns[i]\n",
    "        dfSeriesConcat[ColName]=np.log2(data2/data1)\n",
    "        p += 1\n",
    "    i += 1\n",
    "\n",
    "# dfSeriesConcat.to_excel(r'D:\\Work\\分析项目\\wxy\\宏基因组与16S丰度计算\\ASV丰度(加测数据)\\ASV_relative_depoint_log2FC.xlsx')\n"
   ],
   "metadata": {
    "collapsed": false,
    "pycharm": {
     "name": "#%%\n"
    }
   }
  }
 ],
 "metadata": {
  "kernelspec": {
   "display_name": "Python 3",
   "language": "python",
   "name": "python3"
  },
  "language_info": {
   "codemirror_mode": {
    "name": "ipython",
    "version": 2
   },
   "file_extension": ".py",
   "mimetype": "text/x-python",
   "name": "python",
   "nbconvert_exporter": "python",
   "pygments_lexer": "ipython2",
   "version": "2.7.6"
  }
 },
 "nbformat": 4,
 "nbformat_minor": 0
}