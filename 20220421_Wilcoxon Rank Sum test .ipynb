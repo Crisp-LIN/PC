{
 "cells": [
  {
   "cell_type": "markdown",
   "source": [
    "# 仅作数据分析代码记录\n",
    "# 时间：20220421"
   ],
   "metadata": {
    "collapsed": false,
    "pycharm": {
     "name": "#%% md\n"
    }
   },
   "outputs": []
  },
  {
   "cell_type": "markdown",
   "source": [
    "\n",
    "## 调用两两显著性检验的函数处理α多样性指标表 检验方法为wilcon Rank Sum"
   ],
   "metadata": {
    "collapsed": false,
    "pycharm": {
     "name": "#%% md\n"
    }
   }
  },
  {
   "cell_type": "code",
   "execution_count": 2,
   "outputs": [],
   "source": [
    "### 导入模块部分\n",
    "import pandas as pd\n",
    "import scipy.stats as ss\n",
    "\n",
    "### 读文件\n",
    "df1 = pd.read_excel(r'D:\\Work\\分析项目\\wxy\\正式结果整理\\16S+宏基因组\\16S\\文章内容保留\\alpha_diversity_删点后.xlsx'\n",
    "                    , header=0, index_col=0)\n",
    "df1\n",
    "\n",
    "### 把数据分组 分组信息中的组名转换为列表\n",
    "dfGroup = df1.groupby('GroupByTimeDiet')  # 按'GroupByTimeDiet'分组\n",
    "KeyList = list(dfGroup.groups.keys())  # 分组组名转为列表\n",
    "len(KeyList)\n",
    "\n",
    "\n",
    "def wrstest(columnsname, file_path):\n",
    "    \"\"\"\n",
    "\n",
    "    :param file_path: 结果文件储存路径\n",
    "    :param columnsname: df中每一列的列名\n",
    "    :return: 返回一个储存显著性检验的组名和检验p值的df\n",
    "    \"\"\"\n",
    "    i = 0\n",
    "    resultWilcoxonRankSumtest = {}\n",
    "    while i < len(KeyList):\n",
    "        data1 = df1[columnsname][df1.GroupByTimeDiet == KeyList[i]]\n",
    "        p = i + 1\n",
    "        while p < len(KeyList):\n",
    "            data2 = df1[columnsname][df1.GroupByTimeDiet == KeyList[p]]\n",
    "            rWRStKey = KeyList[i] + \" \" + KeyList[p]  # 字典的每个键的名字\n",
    "            WilcoxonRankSumtestPvalue = ss.mannwhitneyu(data1, data2)[\n",
    "                1]  # 进行Wilcoxon Rank Sum test ，WilcoxonRankSumtestPvalue储存p值\n",
    "            resultWilcoxonRankSumtest[rWRStKey] = WilcoxonRankSumtestPvalue  # 检验的p值和检验的组存为字典\n",
    "            p += 1\n",
    "        i += 1\n",
    "    df = pd.DataFrame([resultWilcoxonRankSumtest])\n",
    "    df.index = [columnsname]  # 修改行索引为待处理的表中的列名\n",
    "    df.T.to_excel(file_path + columnsname + \".xlsx\")\n",
    "    return df"
   ],
   "metadata": {
    "collapsed": false,
    "pycharm": {
     "name": "#%%\n"
    }
   }
  },
  {
   "cell_type": "code",
   "execution_count": null,
   "outputs": [],
   "source": [
    "\"\"\"调用 wrstest()做检验\"\"\"\n",
    "import pandas as pd\n",
    "import scipy.stats as ss\n",
    "\n",
    "### 读文件\n",
    "df1 = pd.read_excel(r'D:\\Work\\分析项目\\wxy\\正式结果整理\\16S+宏基因组\\16S\\文章内容保留\\alpha_diversity_删点后.xlsx'\n",
    "                    , header=0, index_col=0)\n",
    "\n",
    "for i in df1.columns:\n",
    "    if i != \"GroupByTimeDiet\":\n",
    "        wrstest(columnsname=i, file_path=r'D:\\Work\\分析项目\\wxy\\正式结果整理\\16S+宏基因组\\16S\\文章内容保留\\α多样性指标两两显著性检验\\\\')\n",
    "    else:\n",
    "        print(\"列名为GroupByTimeDiet\")\n"
   ],
   "metadata": {
    "collapsed": false,
    "pycharm": {
     "name": "#%%\n"
    }
   }
  },
  {
   "cell_type": "markdown",
   "source": [
    "## 批量画箱线图"
   ],
   "metadata": {
    "collapsed": false,
    "pycharm": {
     "name": "#%% md\n"
    }
   }
  },
  {
   "cell_type": "code",
   "execution_count": null,
   "outputs": [],
   "source": [
    "import pandas as pd\n",
    "import matplotlib.pyplot as plt\n",
    "\n",
    "# 读文件\n",
    "df1 = pd.read_excel(r'D:\\Work\\分析项目\\wxy\\正式结果整理\\16S+宏基因组\\16S\\文章内容保留\\alpha_diversity_删点后.xlsx'\n",
    "                    , header=0, index_col=0)\n",
    "dfGroup = df1.groupby('GroupByTimeDiet')  # 按'GroupByTimeDiet'分组\n",
    "df1\n",
    "\n",
    "# 画图\n",
    "for i in df1.columns:\n",
    "    if i != \"GroupByTimeDiet\":\n",
    "\n",
    "        \"\"\"新建列表，通过遍历每个箱子的series，把存储每个箱子的数值的series存进去\"\"\"\n",
    "\n",
    "        boxList = []  # 存储画箱线图用的series\n",
    "\n",
    "        for key in dfGroup.groups.keys():\n",
    "            \"\"\"通过遍历每个组的组名，获得储存每个组的数据的series\"\"\"\n",
    "\n",
    "            boxList.append(df1[i][df1.GroupByTimeDiet == key])\n",
    "\n",
    "        \"\"\"绘图部分\"\"\"\n",
    "        plt.rc('font', family='Times New Roman')  # 修改全局字体为新罗马\n",
    "        colorList = [\"#5EA0E9\", \"#3E4756\", \"#A2ACBD\", \"#E37D9D\", \"#A9486A\"]\n",
    "        plt.figure(figsize=(5, 5))  # 设置画布的尺寸\n",
    "        plt.title(i.capitalize(), fontsize=30, loc='left')  # 标题，并设定字号大小、位置\n",
    "        plt.xticks(size=15)\n",
    "        # ylableName = i.capitalize() # 把字符串首字母大写\n",
    "        # plt.ylabel(ylableName,fontdict={'size': 20}) # 设置y轴 坐标名称\n",
    "        plt.yticks(size=15)\n",
    "        boxp = plt.boxplot(boxList, labels=dfGroup.groups.keys(), patch_artist=True, widths=0.5,\n",
    "                           flierprops={\"marker\": \"o\", \"markerfacecolor\": \"white\", \"markersize\": 1},\n",
    "                           medianprops={'color': 'black', 'linewidth': '1'}, showfliers=False)\n",
    "\n",
    "        [boxp['boxes'][i].set(facecolor=colorList[i], alpha=0.7) for i in range(len(boxList))]  # 列表表达式设置颜色\n",
    "    # plt.savefig(r'D:\\Work\\分析项目\\wxy\\正式结果整理\\16S+宏基因组\\16S\\文章内容保留\\\\'+i+'.tiff',dpi=400) # 保存文件，需要时使用，防止测试时覆盖"
   ],
   "metadata": {
    "collapsed": false,
    "pycharm": {
     "name": "#%%\n"
    }
   }
  },
  {
   "cell_type": "markdown",
   "source": [
    "## 单独画了一个箱线图 修改了图的标题"
   ],
   "metadata": {
    "collapsed": false,
    "pycharm": {
     "name": "#%% md\n"
    }
   }
  },
  {
   "cell_type": "code",
   "execution_count": null,
   "outputs": [],
   "source": [
    "import pandas as pd\n",
    "import matplotlib.pyplot as plt\n",
    "\n",
    "## 读文件\n",
    "df1 = pd.read_excel(r'D:\\Work\\分析项目\\wxy\\正式结果整理\\16S+宏基因组\\16S\\文章内容保留\\alpha_diversity_删点后.xlsx'\n",
    "                    , header=0, index_col=0)\n",
    "dfGroup = df1.groupby('GroupByTimeDiet')  # 按'GroupByTimeDiet'分组\n",
    "\n",
    "dfGroup.groups.keys()  # 查看每个组的组名\n",
    "dfGroup.groups  # 查看整个分组情况\n",
    "df1\n",
    "\n",
    "## 按分组求每个α多样性指标的均值 存到新的df\n",
    "MeanList = []\n",
    "for i in df1.columns:\n",
    "    if i != \"GroupByTimeDiet\":\n",
    "        MeanList.append(df1.groupby('GroupByTimeDiet')[i].mean())\n",
    "# 列表里的series合成df\n",
    "MeanDf = pd.concat(MeanList, axis=1)\n",
    "MeanDf\n",
    "\n",
    "## 绘制箱线图bioplot 单个测试\n",
    "\"\"\"新建列表，通过遍历每个箱子的series，把存储每个箱子的数值的series存进去\"\"\"\n",
    "dfGroup.groups.keys()  # 每个分组的名字\n",
    "boxList = []  # 存储画箱线图用的series\n",
    "for i in dfGroup.groups.keys():\n",
    "    \"\"\"通过遍历每个组的组名，获得储存每个组的数据的series\"\"\"\n",
    "    print(i)\n",
    "    boxList.append(df1.observed_otus[df1.GroupByTimeDiet == i])\n",
    "\n",
    "\"\"\"绘图部分\"\"\"\n",
    "plt.rcParams['axes.facecolor'] = 'white'  # 图表背景颜色\n",
    "plt.rc('font', family='Times New Roman')  # 修改全局字体为新罗马\n",
    "colorList = [\"#5EA0E9\", \"#3E4756\", \"#A2ACBD\", \"#E37D9D\", \"#A9486A\"]\n",
    "plt.figure(figsize=(5, 8))  # 设置画布的尺寸\n",
    "plt.title(\"Observed species index\", fontsize=30, loc='left')  # 标题，并设定字号大小、位置\n",
    "plt.xticks(size=15)\n",
    "# ylableName = i.capitalize() # 把字符串首字母大写\n",
    "# plt.ylabel(ylableName,fontdict={'size': 20}) # 设置y轴 坐标名称\n",
    "plt.yticks(size=15)\n",
    "boxp = plt.boxplot(boxList, labels=dfGroup.groups.keys(), patch_artist=True, widths=0.5,\n",
    "                   flierprops={\"marker\": \"o\", \"markerfacecolor\": \"white\", \"markersize\": 1},\n",
    "                   medianprops={'color': 'black', 'linewidth': '1'}, showfliers=False)\n",
    "\n",
    "[boxp['boxes'][i].set(facecolor=colorList[i], alpha=0.7) for i in range(len(boxList))]  # 列表表达式设置颜箱体色\n",
    "# plt.savefig(r'D:\\Work\\分析项目\\wxy\\正式结果整理\\16S+宏基因组\\16S\\文章内容保留\\Observed species index.tiff',dpi=400)"
   ],
   "metadata": {
    "collapsed": false,
    "pycharm": {
     "name": "#%%\n"
    }
   }
  }
 ],
 "metadata": {
  "kernelspec": {
   "display_name": "Python 3",
   "language": "python",
   "name": "python3"
  },
  "language_info": {
   "codemirror_mode": {
    "name": "ipython",
    "version": 2
   },
   "file_extension": ".py",
   "mimetype": "text/x-python",
   "name": "python",
   "nbconvert_exporter": "python",
   "pygments_lexer": "ipython2",
   "version": "2.7.6"
  }
 },
 "nbformat": 4,
 "nbformat_minor": 0
}